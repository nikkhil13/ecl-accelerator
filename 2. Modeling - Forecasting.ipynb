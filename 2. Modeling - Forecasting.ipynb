{
 "cells": [
  {
   "cell_type": "code",
   "execution_count": 0,
   "metadata": {
    "application/vnd.databricks.v1+cell": {
     "cellMetadata": {},
     "inputWidgets": {},
     "nuid": "81adb035-0128-4409-9843-e683d68e9196",
     "showTitle": false,
     "tableResultSettingsMap": {},
     "title": ""
    }
   },
   "outputs": [],
   "source": [
    "%run ./config_and_imports"
   ]
  },
  {
   "cell_type": "markdown",
   "metadata": {
    "application/vnd.databricks.v1+cell": {
     "cellMetadata": {},
     "inputWidgets": {},
     "nuid": "629023be-3c4e-4682-adaa-204d1bc67f1c",
     "showTitle": false,
     "tableResultSettingsMap": {},
     "title": ""
    }
   },
   "source": [
    "### Forecast macros - 5y horizon"
   ]
  },
  {
   "cell_type": "code",
   "execution_count": 0,
   "metadata": {
    "application/vnd.databricks.v1+cell": {
     "cellMetadata": {},
     "inputWidgets": {},
     "nuid": "fa21dc1a-f5de-4b45-bbd6-e1672f6f8bf3",
     "showTitle": false,
     "tableResultSettingsMap": {},
     "title": ""
    }
   },
   "outputs": [],
   "source": [
    "logging.getLogger('py4j').setLevel(logging.ERROR)\n",
    "\n",
    "def train_and_score(history_pd, periods):\n",
    "  model = Prophet(\n",
    "    interval_width=0.95,\n",
    "    growth='linear'\n",
    "    )\n",
    "\n",
    "  model.fit(history_pd)\n",
    "\n",
    "  future_pd = model.make_future_dataframe( \n",
    "    periods=periods, \n",
    "    freq='MS',\n",
    "    include_history=True\n",
    "    )\n",
    "  \n",
    "  forecast_pd = model.predict(future_pd)\n",
    "  \n",
    "  return(forecast_pd)"
   ]
  },
  {
   "cell_type": "code",
   "execution_count": 0,
   "metadata": {
    "application/vnd.databricks.v1+cell": {
     "cellMetadata": {},
     "inputWidgets": {},
     "nuid": "1d3e4538-474e-4971-bacf-08a6ae82335a",
     "showTitle": false,
     "tableResultSettingsMap": {},
     "title": ""
    }
   },
   "outputs": [],
   "source": [
    "variables = [\"unemploymentrate\", \"HousePriceIndex\", \"CPIInflationRate\"]\n",
    "predictions = pd.DataFrame()\n",
    "\n",
    "for var in variables:\n",
    "  query = f\"select date as ds, {var} as y from raw_macro\"\n",
    "  pred_df = spark.sql(query)\n",
    "  preds = train_and_score(pred_df.toPandas(), 60)\n",
    "  preds = preds[[\"ds\", \"yhat\"]]\n",
    "  preds.rename(columns={\"yhat\": var+\"_pred\"}, inplace=True)\n",
    "  print(preds)\n",
    "  if predictions.empty:\n",
    "    predictions = preds\n",
    "  else:\n",
    "    predictions = predictions.merge(preds, on=\"ds\")"
   ]
  },
  {
   "cell_type": "code",
   "execution_count": 0,
   "metadata": {
    "application/vnd.databricks.v1+cell": {
     "cellMetadata": {},
     "inputWidgets": {},
     "nuid": "91dbcb7d-f1d9-4921-bf30-4f9ef8455d95",
     "showTitle": false,
     "tableResultSettingsMap": {},
     "title": ""
    }
   },
   "outputs": [],
   "source": [
    "display(predictions)"
   ]
  },
  {
   "cell_type": "code",
   "execution_count": 0,
   "metadata": {
    "application/vnd.databricks.v1+cell": {
     "cellMetadata": {},
     "inputWidgets": {},
     "nuid": "1cccd017-84ec-435e-92f4-969b27a9da22",
     "showTitle": false,
     "tableResultSettingsMap": {},
     "title": ""
    }
   },
   "outputs": [],
   "source": [
    "preds_pdf = spark.createDataFrame(predictions)\n",
    "preds_pdf.write.format(\"delta\").mode(\"overwrite\").saveAsTable(\"gold_macro_predictions\")"
   ]
  }
 ],
 "metadata": {
  "application/vnd.databricks.v1+notebook": {
   "computePreferences": null,
   "dashboards": [],
   "environmentMetadata": null,
   "inputWidgetPreferences": null,
   "language": "python",
   "notebookMetadata": {
    "pythonIndentUnit": 2
   },
   "notebookName": "2. Modeling - Forecasting",
   "widgets": {}
  },
  "language_info": {
   "name": "python"
  }
 },
 "nbformat": 4,
 "nbformat_minor": 0
}