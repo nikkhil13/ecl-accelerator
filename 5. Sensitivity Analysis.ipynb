{
 "cells": [
  {
   "cell_type": "code",
   "execution_count": 0,
   "metadata": {
    "application/vnd.databricks.v1+cell": {
     "cellMetadata": {
      "byteLimit": 2048000,
      "rowLimit": 10000
     },
     "inputWidgets": {},
     "nuid": "dc2a5796-fc9c-451b-8de4-b0d41ec79696",
     "showTitle": false,
     "tableResultSettingsMap": {},
     "title": ""
    }
   },
   "outputs": [
    {
     "output_type": "stream",
     "name": "stdout",
     "output_type": "stream",
     "text": [
      "Installing prophet...\nCollecting prophet\n  Using cached prophet-1.1.6-py3-none-manylinux_2_17_x86_64.manylinux2014_x86_64.whl.metadata (3.5 kB)\nCollecting cmdstanpy>=1.0.4 (from prophet)\n  Using cached cmdstanpy-1.2.5-py3-none-any.whl.metadata (4.0 kB)\nRequirement already satisfied: numpy>=1.15.4 in /databricks/python3/lib/python3.12/site-packages (from prophet) (1.26.4)\nRequirement already satisfied: matplotlib>=2.0.0 in /databricks/python3/lib/python3.12/site-packages (from prophet) (3.8.4)\nRequirement already satisfied: pandas>=1.0.4 in /databricks/python3/lib/python3.12/site-packages (from prophet) (1.5.3)\nCollecting holidays<1,>=0.25 (from prophet)\n  Using cached holidays-0.70-py3-none-any.whl.metadata (34 kB)\nCollecting tqdm>=4.36.1 (from prophet)\n  Using cached tqdm-4.67.1-py3-none-any.whl.metadata (57 kB)\nCollecting importlib-resources (from prophet)\n  Using cached importlib_resources-6.5.2-py3-none-any.whl.metadata (3.9 kB)\nCollecting stanio<2.0.0,>=0.4.0 (from cmdstanpy>=1.0.4->prophet)\n  Using cached stanio-0.5.1-py3-none-any.whl.metadata (1.6 kB)\nRequirement already satisfied: python-dateutil in /databricks/python3/lib/python3.12/site-packages (from holidays<1,>=0.25->prophet) (2.9.0.post0)\nRequirement already satisfied: contourpy>=1.0.1 in /databricks/python3/lib/python3.12/site-packages (from matplotlib>=2.0.0->prophet) (1.2.0)\nRequirement already satisfied: cycler>=0.10 in /databricks/python3/lib/python3.12/site-packages (from matplotlib>=2.0.0->prophet) (0.11.0)\nRequirement already satisfied: fonttools>=4.22.0 in /databricks/python3/lib/python3.12/site-packages (from matplotlib>=2.0.0->prophet) (4.51.0)\nRequirement already satisfied: kiwisolver>=1.3.1 in /databricks/python3/lib/python3.12/site-packages (from matplotlib>=2.0.0->prophet) (1.4.4)\nRequirement already satisfied: packaging>=20.0 in /databricks/python3/lib/python3.12/site-packages (from matplotlib>=2.0.0->prophet) (24.1)\nRequirement already satisfied: pillow>=8 in /databricks/python3/lib/python3.12/site-packages (from matplotlib>=2.0.0->prophet) (10.3.0)\nRequirement already satisfied: pyparsing>=2.3.1 in /databricks/python3/lib/python3.12/site-packages (from matplotlib>=2.0.0->prophet) (3.0.9)\nRequirement already satisfied: pytz>=2020.1 in /databricks/python3/lib/python3.12/site-packages (from pandas>=1.0.4->prophet) (2024.1)\nRequirement already satisfied: six>=1.5 in /usr/lib/python3/dist-packages (from python-dateutil->holidays<1,>=0.25->prophet) (1.16.0)\nUsing cached prophet-1.1.6-py3-none-manylinux_2_17_x86_64.manylinux2014_x86_64.whl (14.4 MB)\nUsing cached cmdstanpy-1.2.5-py3-none-any.whl (94 kB)\nUsing cached holidays-0.70-py3-none-any.whl (903 kB)\nUsing cached tqdm-4.67.1-py3-none-any.whl (78 kB)\nUsing cached importlib_resources-6.5.2-py3-none-any.whl (37 kB)\nUsing cached stanio-0.5.1-py3-none-any.whl (8.1 kB)\nInstalling collected packages: tqdm, stanio, importlib-resources, holidays, cmdstanpy, prophet\nSuccessfully installed cmdstanpy-1.2.5 holidays-0.70 importlib-resources-6.5.2 prophet-1.1.6 stanio-0.5.1 tqdm-4.67.1\n\u001B[43mNote: you may need to restart the kernel using %restart_python or dbutils.library.restartPython() to use updated packages.\u001B[0m\n"
     ]
    },
    {
     "output_type": "execute_result",
     "data": {
      "text/plain": [
       "DataFrame[]"
      ]
     },
     "execution_count": 6,
     "metadata": {},
     "output_type": "execute_result"
    }
   ],
   "source": [
    "%run ./config_and_imports"
   ]
  },
  {
   "cell_type": "markdown",
   "metadata": {
    "application/vnd.databricks.v1+cell": {
     "cellMetadata": {},
     "inputWidgets": {},
     "nuid": "84b4bc24-19b8-49b7-b0f8-86f23d5f86f4",
     "showTitle": false,
     "tableResultSettingsMap": {},
     "title": ""
    }
   },
   "source": [
    "### Load Scenarios Data"
   ]
  },
  {
   "cell_type": "code",
   "execution_count": 0,
   "metadata": {
    "application/vnd.databricks.v1+cell": {
     "cellMetadata": {
      "byteLimit": 2048000,
      "rowLimit": 10000
     },
     "inputWidgets": {},
     "nuid": "8925dee3-d510-4291-a8b4-f1e62a556969",
     "showTitle": false,
     "tableResultSettingsMap": {},
     "title": ""
    }
   },
   "outputs": [],
   "source": [
    "df = spark.read.table(\"gold_scenarios\")"
   ]
  },
  {
   "cell_type": "code",
   "execution_count": 0,
   "metadata": {
    "application/vnd.databricks.v1+cell": {
     "cellMetadata": {
      "byteLimit": 2048000,
      "rowLimit": 10000
     },
     "inputWidgets": {},
     "nuid": "78a35edb-20f5-4783-8035-7f64e37e89bc",
     "showTitle": false,
     "tableResultSettingsMap": {},
     "title": ""
    }
   },
   "outputs": [],
   "source": [
    "# Create widgets to accept percentage increases or decreases as text\n",
    "dbutils.widgets.text(\"hpi_change\", \"0\", \"Enter % change for HPI (e.g., 10 or -10):\")\n",
    "dbutils.widgets.text(\"unemp_change\", \"0\", \"Enter % change for Unemployment Rate (e.g., 15 or -15):\")\n",
    "dbutils.widgets.text(\"cpi_change\", \"0\", \"Enter % change for CPI Inflation Rate (e.g., 15 or -15):\")\n",
    "dbutils.widgets.text(\"scenario\", \"Custom Scenario\", \"Enter name of the scenario:\")\n",
    "\n",
    "# Validate and convert inputs to float\n",
    "try:\n",
    "    hpi_percentage_change = float(dbutils.widgets.get(\"hpi_change\"))\n",
    "    unemp_percentage_change = float(dbutils.widgets.get(\"unemp_change\"))\n",
    "    cpi_percentage_change = float(dbutils.widgets.get(\"cpi_change\"))\n",
    "    scenario = dbutils.widgets.get(\"scenario\")\n",
    "except ValueError:\n",
    "    raise ValueError(\"Please enter valid numeric values for the percentage changes.\")"
   ]
  },
  {
   "cell_type": "code",
   "execution_count": 0,
   "metadata": {
    "application/vnd.databricks.v1+cell": {
     "cellMetadata": {
      "byteLimit": 2048000,
      "rowLimit": 10000
     },
     "inputWidgets": {},
     "nuid": "3133a3c8-b7e8-4d41-82f4-9376586f707d",
     "showTitle": false,
     "tableResultSettingsMap": {},
     "title": ""
    }
   },
   "outputs": [
    {
     "output_type": "stream",
     "name": "stdout",
     "output_type": "stream",
     "text": [
      "HPI percentage change:  15.0 unemp_percentage_change:  -10.0 cpi_percentage_change:  0.0 scenario:  Custom Scenario\n"
     ]
    }
   ],
   "source": [
    "print(\"HPI percentage change: \", hpi_percentage_change, \"unemp_percentage_change: \", unemp_percentage_change, \"cpi_percentage_change: \", cpi_percentage_change, \"scenario: \", scenario)"
   ]
  },
  {
   "cell_type": "code",
   "execution_count": 0,
   "metadata": {
    "application/vnd.databricks.v1+cell": {
     "cellMetadata": {
      "byteLimit": 2048000,
      "rowLimit": 10000
     },
     "inputWidgets": {},
     "nuid": "17fc0f02-a4cd-4cf0-8e06-92ed432c9464",
     "showTitle": false,
     "tableResultSettingsMap": {},
     "title": ""
    }
   },
   "outputs": [],
   "source": [
    "def update_and_append_scenario_data(scoring_table, hpi_percentage_increase, unemp_percentage_increase, cpi_percentage_change, scenario):\n",
    "    \"\"\"\n",
    "    Update HPI and Unemployment Rate for 'Supervisory Baseline' rows and append them\n",
    "    to the original scoring table with scenario set to 'Scenario Results'.\n",
    "    \"\"\"\n",
    "    # Filter rows where scenario is 'Supervisory Baseline'\n",
    "    filtered_data = scoring_table.filter(col('scenario') == 'Supervisory Baseline')\n",
    "\n",
    "    # Apply the percentage increases\n",
    "    filtered_data = filtered_data.withColumn(\n",
    "        'HousePriceIndex_pred', \n",
    "        col('HousePriceIndex_pred') * (1 + hpi_percentage_increase / 100)\n",
    "    ).withColumn(\n",
    "        'unemploymentrate_pred', \n",
    "        col('unemploymentrate_pred') * (1 + unemp_percentage_increase / 100)\n",
    "    ).withColumn(\n",
    "        'CPIInflationRate_pred', \n",
    "        col('CPIInflationRate_pred') * (1 + cpi_percentage_change / 100)\n",
    "    )\n",
    "\n",
    "    # Update the scenario column to 'Scenario Results'\n",
    "    filtered_data = filtered_data.withColumn('scenario', lit(scenario))\n",
    "\n",
    "    # Append the updated rows to the original table\n",
    "    updated_table = scoring_table.union(filtered_data)\n",
    "\n",
    "    return updated_table"
   ]
  },
  {
   "cell_type": "code",
   "execution_count": 0,
   "metadata": {
    "application/vnd.databricks.v1+cell": {
     "cellMetadata": {
      "byteLimit": 2048000,
      "rowLimit": 10000
     },
     "inputWidgets": {},
     "nuid": "6a440169-5a78-45ef-b7f3-7f95188409be",
     "showTitle": false,
     "tableResultSettingsMap": {},
     "title": ""
    }
   },
   "outputs": [],
   "source": [
    "updated_scenario_data = update_and_append_scenario_data(df, hpi_percentage_change, unemp_percentage_change, cpi_percentage_change, scenario)"
   ]
  },
  {
   "cell_type": "markdown",
   "metadata": {
    "application/vnd.databricks.v1+cell": {
     "cellMetadata": {},
     "inputWidgets": {},
     "nuid": "7d3c8c8c-983f-4e72-b13b-f339052f74d1",
     "showTitle": false,
     "tableResultSettingsMap": {},
     "title": ""
    }
   },
   "source": [
    "### Load the previously saved PD model"
   ]
  },
  {
   "cell_type": "code",
   "execution_count": 0,
   "metadata": {
    "application/vnd.databricks.v1+cell": {
     "cellMetadata": {
      "byteLimit": 2048000,
      "rowLimit": 10000
     },
     "inputWidgets": {},
     "nuid": "92bcd95d-851a-463a-a374-a8cefe37f6a0",
     "showTitle": false,
     "tableResultSettingsMap": {},
     "title": ""
    }
   },
   "outputs": [],
   "source": [
    "# %pip install mlflow[databricks]\n",
    "import mlflow\n",
    "mlflow.set_registry_uri(\"databricks-uc\")\n"
   ]
  },
  {
   "cell_type": "code",
   "execution_count": 0,
   "metadata": {
    "application/vnd.databricks.v1+cell": {
     "cellMetadata": {},
     "inputWidgets": {},
     "nuid": "ab012dfe-91a3-48d8-8c91-3549d92bb274",
     "showTitle": false,
     "tableResultSettingsMap": {},
     "title": ""
    }
   },
   "outputs": [],
   "source": [
    "model_path = f\"models:/{catalog}.{output_schema}.{model_name}@{model_tag}\"\n",
    "loaded_model = mlflow.sklearn.load_model(model_path)"
   ]
  },
  {
   "cell_type": "code",
   "execution_count": 0,
   "metadata": {
    "application/vnd.databricks.v1+cell": {
     "cellMetadata": {
      "byteLimit": 2048000,
      "rowLimit": 10000
     },
     "inputWidgets": {},
     "nuid": "b4665b1b-074c-4132-be70-77c02a8198b7",
     "showTitle": false,
     "tableResultSettingsMap": {},
     "title": ""
    }
   },
   "outputs": [],
   "source": [
    "def score_in_parallel(pdf):\n",
    "  continuous_cols = ['unemploymentrate_pred', 'HousePriceIndex_pred', 'CPIInflationRate_pred', 'credit_score', 'remaining_balance_den', 'curr_LTV']\n",
    "  processed_data = pdf[continuous_cols]\n",
    "  probabilities = loaded_model.predict_proba(processed_data)\n",
    "  pdf['prob_class_0'] = probabilities[:, 0]\n",
    "  pdf['prob_class_1'] = probabilities[:, 1]\n",
    "  return(pdf)"
   ]
  },
  {
   "cell_type": "markdown",
   "metadata": {
    "application/vnd.databricks.v1+cell": {
     "cellMetadata": {},
     "inputWidgets": {},
     "nuid": "55056e20-f47e-4838-8b27-ce5edebcd60b",
     "showTitle": false,
     "tableResultSettingsMap": {},
     "title": ""
    }
   },
   "source": [
    "### Run the loaded model on the updated scenarios table"
   ]
  },
  {
   "cell_type": "code",
   "execution_count": 0,
   "metadata": {
    "application/vnd.databricks.v1+cell": {
     "cellMetadata": {
      "byteLimit": 2048000,
      "rowLimit": 10000
     },
     "inputWidgets": {},
     "nuid": "0aab4393-5a47-4bc9-bcff-040af59bab46",
     "showTitle": true,
     "tableResultSettingsMap": {},
     "title": "run in parallel"
    }
   },
   "outputs": [],
   "source": [
    "result = updated_scenario_data.groupby(\"scenario\").applyInPandas(\n",
    "    score_in_parallel, schema=\"date date, unemploymentrate_pred double, CPIInflationRate_pred double, HousePriceIndex_pred double, loan_id string, credit_score int, remaining_balance_den double, scenario string, curr_LTV double, prob_class_0 double, prob_class_1 double\")"
   ]
  },
  {
   "cell_type": "markdown",
   "metadata": {
    "application/vnd.databricks.v1+cell": {
     "cellMetadata": {},
     "inputWidgets": {},
     "nuid": "6a3647b6-349a-4941-bb5c-3433c24a185e",
     "showTitle": false,
     "tableResultSettingsMap": {},
     "title": ""
    }
   },
   "source": [
    "### Calculate ECL by Scenarios"
   ]
  },
  {
   "cell_type": "code",
   "execution_count": 0,
   "metadata": {
    "application/vnd.databricks.v1+cell": {
     "cellMetadata": {
      "byteLimit": 2048000,
      "rowLimit": 10000
     },
     "inputWidgets": {},
     "nuid": "d9a4b81b-ff6b-4bf9-82d3-3060665f71a5",
     "showTitle": false,
     "tableResultSettingsMap": {},
     "title": ""
    }
   },
   "outputs": [],
   "source": [
    "def calculate_ECL(data, LGD):\n",
    "    return data.withColumn('ECL', col('remaining_balance_den') * col('prob_class_1') * LGD)"
   ]
  },
  {
   "cell_type": "code",
   "execution_count": 0,
   "metadata": {
    "application/vnd.databricks.v1+cell": {
     "cellMetadata": {
      "byteLimit": 2048000,
      "rowLimit": 10000
     },
     "inputWidgets": {},
     "nuid": "a7dd9eee-7c0a-45ae-a25c-ea3fbe6935e0",
     "showTitle": false,
     "tableResultSettingsMap": {},
     "title": ""
    }
   },
   "outputs": [],
   "source": [
    "LGD = 0.20\n",
    "predicted = calculate_ECL(result, LGD)\n"
   ]
  },
  {
   "cell_type": "code",
   "execution_count": 0,
   "metadata": {
    "application/vnd.databricks.v1+cell": {
     "cellMetadata": {
      "byteLimit": 2048000,
      "rowLimit": 10000
     },
     "inputWidgets": {},
     "nuid": "3d374c73-55c8-4dcc-80ec-9280145d2886",
     "showTitle": true,
     "tableResultSettingsMap": {},
     "title": "Cumulative ECL Over Time"
    }
   },
   "outputs": [
    {
     "output_type": "display_data",
     "data": {
      "text/html": [
       "<style scoped>\n",
       "  .table-result-container {\n",
       "    max-height: 300px;\n",
       "    overflow: auto;\n",
       "  }\n",
       "  table, th, td {\n",
       "    border: 1px solid black;\n",
       "    border-collapse: collapse;\n",
       "  }\n",
       "  th, td {\n",
       "    padding: 5px;\n",
       "  }\n",
       "  th {\n",
       "    text-align: left;\n",
       "  }\n",
       "</style><div class='table-result-container'><table class='table-result'><thead style='background-color: white'><tr><th>date</th><th>scenario</th><th>ECL</th><th>cumulative_ecl</th></tr></thead><tbody><tr><td>2021-09-01</td><td>Custom Scenario</td><td>4.076047561647724E8</td><td>4.076047561647724E8</td></tr><tr><td>2021-09-01</td><td>Predicted by Databricks</td><td>4.3196121001693547E8</td><td>4.3196121001693547E8</td></tr><tr><td>2021-09-01</td><td>Supervisory Baseline</td><td>4.453627764754792E8</td><td>4.453627764754792E8</td></tr><tr><td>2021-09-01</td><td>Supervisory Severely Adverse</td><td>4.3616431241357046E8</td><td>4.3616431241357046E8</td></tr><tr><td>2021-10-01</td><td>Custom Scenario</td><td>4.181938487480434E8</td><td>8.257986049128158E8</td></tr><tr><td>2021-10-01</td><td>Predicted by Databricks</td><td>4.418160641674456E8</td><td>8.73777274184381E8</td></tr><tr><td>2021-10-01</td><td>Supervisory Baseline</td><td>4.575899020429542E8</td><td>9.029526785184333E8</td></tr><tr><td>2021-10-01</td><td>Supervisory Severely Adverse</td><td>4.547014954674267E8</td><td>8.908658078809972E8</td></tr><tr><td>2021-11-01</td><td>Custom Scenario</td><td>4.293353024623767E8</td><td>1.2551339073751926E9</td></tr><tr><td>2021-11-01</td><td>Predicted by Databricks</td><td>4.524034706563406E8</td><td>1.3261807448407216E9</td></tr><tr><td>2021-11-01</td><td>Supervisory Baseline</td><td>4.696779209592435E8</td><td>1.3726305994776769E9</td></tr><tr><td>2021-11-01</td><td>Supervisory Severely Adverse</td><td>4.667206427895648E8</td><td>1.357586450670562E9</td></tr><tr><td>2021-12-01</td><td>Custom Scenario</td><td>4.405849017124684E8</td><td>1.695718809087661E9</td></tr><tr><td>2021-12-01</td><td>Predicted by Databricks</td><td>4.633626154552105E8</td><td>1.789543360295932E9</td></tr><tr><td>2021-12-01</td><td>Supervisory Baseline</td><td>4.818747374898003E8</td><td>1.854505336967477E9</td></tr><tr><td>2021-12-01</td><td>Supervisory Severely Adverse</td><td>4.788485829450377E8</td><td>1.8364350336155996E9</td></tr><tr><td>2022-01-01</td><td>Custom Scenario</td><td>4.1571183246158797E8</td><td>2.111430641549249E9</td></tr><tr><td>2022-01-01</td><td>Predicted by Databricks</td><td>4.731000542133297E8</td><td>2.2626434145092616E9</td></tr><tr><td>2022-01-01</td><td>Supervisory Baseline</td><td>4.6730489465685314E8</td><td>2.32181023162433E9</td></tr><tr><td>2022-01-01</td><td>Supervisory Severely Adverse</td><td>4.5913169332062906E8</td><td>2.2955667269362288E9</td></tr><tr><td>2022-02-01</td><td>Custom Scenario</td><td>4.263564211199305E8</td><td>2.5377870626691794E9</td></tr><tr><td>2022-02-01</td><td>Predicted by Databricks</td><td>4.8304141770679945E8</td><td>2.745684832216061E9</td></tr><tr><td>2022-02-01</td><td>Supervisory Baseline</td><td>4.79124397972803E8</td><td>2.800934629597133E9</td></tr><tr><td>2022-02-01</td><td>Supervisory Severely Adverse</td><td>4.7076689359572875E8</td><td>2.7663336205319576E9</td></tr><tr><td>2022-03-01</td><td>Custom Scenario</td><td>4.371125051462499E8</td><td>2.974899567815429E9</td></tr><tr><td>2022-03-01</td><td>Predicted by Databricks</td><td>4.925554079630948E8</td><td>3.238240240179156E9</td></tr><tr><td>2022-03-01</td><td>Supervisory Baseline</td><td>4.910571480055866E8</td><td>3.29199177760272E9</td></tr><tr><td>2022-03-01</td><td>Supervisory Severely Adverse</td><td>4.8251519590138465E8</td><td>3.2488488164333425E9</td></tr><tr><td>2022-04-01</td><td>Custom Scenario</td><td>4.430677610679935E8</td><td>3.417967328883423E9</td></tr><tr><td>2022-04-01</td><td>Predicted by Databricks</td><td>5.034588321589937E8</td><td>3.7416990723381495E9</td></tr><tr><td>2022-04-01</td><td>Supervisory Baseline</td><td>4.9884304596623904E8</td><td>3.7908348235689588E9</td></tr><tr><td>2022-04-01</td><td>Supervisory Severely Adverse</td><td>4.984852209369243E8</td><td>3.747334037370267E9</td></tr><tr><td>2022-05-01</td><td>Custom Scenario</td><td>4.5394031942351425E8</td><td>3.871907648306937E9</td></tr><tr><td>2022-05-01</td><td>Predicted by Databricks</td><td>5.153106797553427E8</td><td>4.2570097520934925E9</td></tr><tr><td>2022-05-01</td><td>Supervisory Baseline</td><td>5.1091149118209136E8</td><td>4.30174631475105E9</td></tr><tr><td>2022-05-01</td><td>Supervisory Severely Adverse</td><td>5.1054609708844084E8</td><td>4.257880134458708E9</td></tr><tr><td>2022-06-01</td><td>Custom Scenario</td><td>4.649266997577783E8</td><td>4.336834348064715E9</td></tr><tr><td>2022-06-01</td><td>Predicted by Databricks</td><td>5.271807541509324E8</td><td>4.784190506244425E9</td></tr><tr><td>2022-06-01</td><td>Supervisory Baseline</td><td>5.2309575180055696E8</td><td>4.824842066551607E9</td></tr><tr><td>2022-06-01</td><td>Supervisory Severely Adverse</td><td>5.227227824296892E8</td><td>4.780602916888397E9</td></tr><tr><td>2022-07-01</td><td>Custom Scenario</td><td>4.713957067187139E8</td><td>4.808230054783429E9</td></tr><tr><td>2022-07-01</td><td>Predicted by Databricks</td><td>5.378276385194525E8</td><td>5.322018144763877E9</td></tr><tr><td>2022-07-01</td><td>Supervisory Baseline</td><td>5.3133084254176795E8</td><td>5.356172909093375E9</td></tr><tr><td>2022-07-01</td><td>Supervisory Severely Adverse</td><td>5.413751755376983E8</td><td>5.321978092426096E9</td></tr><tr><td>2022-08-01</td><td>Custom Scenario</td><td>4.824935728787277E8</td><td>5.290723627662157E9</td></tr><tr><td>2022-08-01</td><td>Predicted by Databricks</td><td>5.481109806875862E8</td><td>5.870129125451463E9</td></tr><tr><td>2022-08-01</td><td>Supervisory Baseline</td><td>5.436401432233721E8</td><td>5.899813052316748E9</td></tr><tr><td>2022-08-01</td><td>Supervisory Severely Adverse</td><td>5.538838517441612E8</td><td>5.875861944170258E9</td></tr><tr><td>2022-09-01</td><td>Custom Scenario</td><td>4.937187028086219E8</td><td>5.784442330470779E9</td></tr><tr><td>2022-09-01</td><td>Predicted by Databricks</td><td>5.583061979755478E8</td><td>6.428435323427011E9</td></tr><tr><td>2022-09-01</td><td>Supervisory Baseline</td><td>5.560789469087118E8</td><td>6.455891999225459E9</td></tr><tr><td>2022-09-01</td><td>Supervisory Severely Adverse</td><td>5.665221667307045E8</td><td>6.442384110900962E9</td></tr><tr><td>2022-10-01</td><td>Custom Scenario</td><td>5.01826195137491E8</td><td>6.286268525608271E9</td></tr><tr><td>2022-10-01</td><td>Predicted by Databricks</td><td>5.688666883330814E8</td><td>6.997302011760092E9</td></tr><tr><td>2022-10-01</td><td>Supervisory Baseline</td><td>5.660436735525131E8</td><td>7.021935672777972E9</td></tr><tr><td>2022-10-01</td><td>Supervisory Severely Adverse</td><td>5.867546151466471E8</td><td>7.029138726047609E9</td></tr><tr><td>2022-11-01</td><td>Custom Scenario</td><td>5.1321051187005085E8</td><td>6.799479037478321E9</td></tr><tr><td>2022-11-01</td><td>Predicted by Databricks</td><td>5.798863723854392E8</td><td>7.577188384145531E9</td></tr><tr><td>2022-11-01</td><td>Supervisory Baseline</td><td>5.786564120116034E8</td><td>7.600592084789576E9</td></tr><tr><td>2022-11-01</td><td>Supervisory Severely Adverse</td><td>5.997544504144303E8</td><td>7.62889317646204E9</td></tr><tr><td>2022-12-01</td><td>Custom Scenario</td><td>5.2472347361988205E8</td><td>7.324202511098203E9</td></tr><tr><td>2022-12-01</td><td>Predicted by Databricks</td><td>5.918459418143326E8</td><td>8.169034325959864E9</td></tr><tr><td>2022-12-01</td><td>Supervisory Baseline</td><td>5.913999315168885E8</td><td>8.191992016306464E9</td></tr><tr><td>2022-12-01</td><td>Supervisory Severely Adverse</td><td>6.128852739713447E8</td><td>8.241778450433385E9</td></tr><tr><td>2023-01-01</td><td>Custom Scenario</td><td>5.336191521672922E8</td><td>7.857821663265495E9</td></tr><tr><td>2023-01-01</td><td>Predicted by Databricks</td><td>6.024218810613009E8</td><td>8.771456207021164E9</td></tr><tr><td>2023-01-01</td><td>Supervisory Baseline</td><td>6.021859671369967E8</td><td>8.79417798344346E9</td></tr><tr><td>2023-01-01</td><td>Supervisory Severely Adverse</td><td>6.336642457346923E8</td><td>8.875442696168077E9</td></tr><tr><td>2023-02-01</td><td>Custom Scenario</td><td>5.453183184755661E8</td><td>8.403139981741061E9</td></tr><tr><td>2023-02-01</td><td>Predicted by Databricks</td><td>6.125231007302923E8</td><td>9.383979307751457E9</td></tr><tr><td>2023-02-01</td><td>Supervisory Baseline</td><td>6.151312566684968E8</td><td>9.409309240111958E9</td></tr><tr><td>2023-02-01</td><td>Supervisory Severely Adverse</td><td>6.471656956011802E8</td><td>9.522608391769258E9</td></tr><tr><td>2023-03-01</td><td>Custom Scenario</td><td>5.571349633407584E8</td><td>8.96027494508182E9</td></tr><tr><td>2023-03-01</td><td>Predicted by Databricks</td><td>6.211294270766686E8</td><td>1.0005108734828125E10</td></tr><tr><td>2023-03-01</td><td>Supervisory Baseline</td><td>6.281944094705554E8</td><td>1.0037503649582514E10</td></tr><tr><td>2023-03-01</td><td>Supervisory Severely Adverse</td><td>6.60784445640404E8</td><td>1.0183392837409662E10</td></tr><tr><td>2023-04-01</td><td>Custom Scenario</td><td>5.640637604738638E8</td><td>9.524338705555683E9</td></tr><tr><td>2023-04-01</td><td>Predicted by Databricks</td><td>6.340197115474977E8</td><td>1.0639128446375622E10</td></tr><tr><td>2023-04-01</td><td>Supervisory Baseline</td><td>6.369224310864718E8</td><td>1.0674426080668985E10</td></tr><tr><td>2023-04-01</td><td>Supervisory Severely Adverse</td><td>6.825954985758151E8</td><td>1.0865988335985477E10</td></tr><tr><td>2023-05-01</td><td>Custom Scenario</td><td>5.759186112417618E8</td><td>1.0100257316797445E10</td></tr><tr><td>2023-05-01</td><td>Predicted by Databricks</td><td>6.466739156516755E8</td><td>1.1285802362027298E10</td></tr><tr><td>2023-05-01</td><td>Supervisory Baseline</td><td>6.500319435512674E8</td><td>1.1324458024220253E10</td></tr><tr><td>2023-05-01</td><td>Supervisory Severely Adverse</td><td>6.964647934801121E8</td><td>1.156245312946559E10</td></tr><tr><td>2023-06-01</td><td>Custom Scenario</td><td>5.879963048884094E8</td><td>1.0688253621685854E10</td></tr><tr><td>2023-06-01</td><td>Predicted by Databricks</td><td>6.59282386135085E8</td><td>1.1945084748162382E10</td></tr><tr><td>2023-06-01</td><td>Supervisory Baseline</td><td>6.633674492461474E8</td><td>1.19878254734664E10</td></tr><tr><td>2023-06-01</td><td>Supervisory Severely Adverse</td><td>7.105607661816894E8</td><td>1.227301389564728E10</td></tr><tr><td>2023-07-01</td><td>Custom Scenario</td><td>5.954764681659937E8</td><td>1.1283730089851849E10</td></tr><tr><td>2023-07-01</td><td>Predicted by Databricks</td><td>6.704343604040133E8</td><td>1.2615519108566395E10</td></tr><tr><td>2023-07-01</td><td>Supervisory Baseline</td><td>6.726933723463668E8</td><td>1.2660518845812767E10</td></tr><tr><td>2023-07-01</td><td>Supervisory Severely Adverse</td><td>7.320675627316052E8</td><td>1.3005081458378885E10</td></tr><tr><td>2023-08-01</td><td>Custom Scenario</td><td>6.077218510623183E8</td><td>1.1891451940914167E10</td></tr><tr><td>2023-08-01</td><td>Predicted by Databricks</td><td>6.811581615828966E8</td><td>1.3296677270149292E10</td></tr><tr><td>2023-08-01</td><td>Supervisory Baseline</td><td>6.862098402652196E8</td><td>1.3346728686077986E10</td></tr><tr><td>2023-08-01</td><td>Supervisory Severely Adverse</td><td>7.465221957640074E8</td><td>1.3751603654142893E10</td></tr><tr><td>2023-09-01</td><td>Custom Scenario</td><td>6.201018425603685E8</td><td>1.2511553783474537E10</td></tr><tr><td>2023-09-01</td><td>Predicted by Databricks</td><td>6.916211182177136E8</td><td>1.3988298388367006E10</td></tr><tr><td>2023-09-01</td><td>Supervisory Baseline</td><td>6.998637570469136E8</td><td>1.4046592443124899E10</td></tr><tr><td>2023-09-01</td><td>Supervisory Severely Adverse</td><td>7.611153217145674E8</td><td>1.451271897585746E10</td></tr><tr><td>2023-10-01</td><td>Custom Scenario</td><td>6.282271606694119E8</td><td>1.313978094414395E10</td></tr><tr><td>2023-10-01</td><td>Predicted by Databricks</td><td>7.030624513856273E8</td><td>1.4691360839752634E10</td></tr><tr><td>2023-10-01</td><td>Supervisory Baseline</td><td>7.098848252261703E8</td><td>1.4756477268351068E10</td></tr><tr><td>2023-10-01</td><td>Supervisory Severely Adverse</td><td>7.931791873757423E8</td><td>1.5305898163233202E10</td></tr><tr><td>2023-11-01</td><td>Custom Scenario</td><td>6.407691335432894E8</td><td>1.3780550077687239E10</td></tr><tr><td>2023-11-01</td><td>Predicted by Databricks</td><td>7.145233036372714E8</td><td>1.5405884143389906E10</td></tr><tr><td>2023-11-01</td><td>Supervisory Baseline</td><td>7.237101004800276E8</td><td>1.5480187368831097E10</td></tr><tr><td>2023-11-01</td><td>Supervisory Severely Adverse</td><td>8.082495255672305E8</td><td>1.6114147688800432E10</td></tr><tr><td>2023-12-01</td><td>Custom Scenario</td><td>6.534460117303579E8</td><td>1.4433996089417597E10</td></tr><tr><td>2023-12-01</td><td>Predicted by Databricks</td><td>7.276832943685098E8</td><td>1.6133567437758415E10</td></tr><tr><td>2023-12-01</td><td>Supervisory Baseline</td><td>7.376703675162189E8</td><td>1.6217857736347315E10</td></tr><tr><td>2023-12-01</td><td>Supervisory Severely Adverse</td><td>8.234524604021275E8</td><td>1.693760014920256E10</td></tr><tr><td>2024-01-01</td><td>Custom Scenario</td><td>5.931545968832428E8</td><td>1.502715068630084E10</td></tr><tr><td>2024-01-01</td><td>Predicted by Databricks</td><td>7.393457989484826E8</td><td>1.6872913236706898E10</td></tr><tr><td>2024-01-01</td><td>Supervisory Baseline</td><td>6.856269242058841E8</td><td>1.69034846605532E10</td></tr><tr><td>2024-01-01</td><td>Supervisory Severely Adverse</td><td>7.628385992201834E8</td><td>1.7700438748422745E10</td></tr><tr><td>2024-02-01</td><td>Custom Scenario</td><td>6.049243323034946E8</td><td>1.5632075018604336E10</td></tr><tr><td>2024-02-01</td><td>Predicted by Databricks</td><td>7.495209371537219E8</td><td>1.762243417386062E10</td></tr><tr><td>2024-02-01</td><td>Supervisory Baseline</td><td>6.988422939236349E8</td><td>1.7602326954476833E10</td></tr><tr><td>2024-02-01</td><td>Supervisory Severely Adverse</td><td>7.771995820358806E8</td><td>1.8477638330458626E10</td></tr><tr><td>2024-03-01</td><td>Custom Scenario</td><td>6.16827921238155E8</td><td>1.6248902939842491E10</td></tr><tr><td>2024-03-01</td><td>Predicted by Databricks</td><td>7.616190579380206E8</td><td>1.8384053231798637E10</td></tr><tr><td>2024-03-01</td><td>Supervisory Baseline</td><td>7.121943293634983E8</td><td>1.8314521283840332E10</td></tr><tr><td>2024-03-01</td><td>Supervisory Severely Adverse</td><td>7.916975373505983E8</td><td>1.9269335867809223E10</td></tr><tr><td>2024-04-01</td><td>Custom Scenario</td><td>6.219542028457311E8</td><td>1.6870857142688223E10</td></tr><tr><td>2024-04-01</td><td>Predicted by Databricks</td><td>7.709080156229883E8</td><td>1.9154961247421627E10</td></tr><tr><td>2024-04-01</td><td>Supervisory Baseline</td><td>7.18606201839785E8</td><td>1.903312748568012E10</td></tr><tr><td>2024-04-01</td><td>Supervisory Severely Adverse</td><td>8.2449774844497E8</td><td>2.0093833616254192E10</td></tr><tr><td>2024-05-01</td><td>Custom Scenario</td><td>6.339738686777506E8</td><td>1.7504831011365974E10</td></tr><tr><td>2024-05-01</td><td>Predicted by Databricks</td><td>7.846173191525176E8</td><td>1.9939578566574146E10</td></tr><tr><td>2024-05-01</td><td>Supervisory Baseline</td><td>7.320716023401213E8</td><td>1.976519908802024E10</td></tr><tr><td>2024-05-01</td><td>Supervisory Severely Adverse</td><td>8.394483717264701E8</td><td>2.0933281987980663E10</td></tr><tr><td>2024-06-01</td><td>Custom Scenario</td><td>6.461214318774251E8</td><td>1.81509524432434E10</td></tr><tr><td>2024-06-01</td><td>Predicted by Databricks</td><td>7.987193601993933E8</td><td>2.073829792677354E10</td></tr><tr><td>2024-06-01</td><td>Supervisory Baseline</td><td>7.456657485316228E8</td><td>2.0510864836551865E10</td></tr><tr><td>2024-06-01</td><td>Supervisory Severely Adverse</td><td>8.545255062911291E8</td><td>2.1787807494271793E10</td></tr><tr><td>2024-07-01</td><td>Custom Scenario</td><td>6.544237875696583E8</td><td>1.8805376230813057E10</td></tr><tr><td>2024-07-01</td><td>Predicted by Databricks</td><td>8.107232925050725E8</td><td>2.1549021219278614E10</td></tr><tr><td>2024-07-01</td><td>Supervisory Baseline</td><td>7.554946149506056E8</td><td>2.1266359451502472E10</td></tr><tr><td>2024-07-01</td><td>Supervisory Severely Adverse</td><td>8.79872601068364E8</td><td>2.2667680095340157E10</td></tr><tr><td>2024-08-01</td><td>Custom Scenario</td><td>6.667178236921544E8</td><td>1.947209405450521E10</td></tr><tr><td>2024-08-01</td><td>Predicted by Databricks</td><td>8.222401138020656E8</td><td>2.237126133308068E10</td></tr><tr><td>2024-08-01</td><td>Supervisory Baseline</td><td>7.69229510832942E8</td><td>2.2035588962335415E10</td></tr><tr><td>2024-08-01</td><td>Supervisory Severely Adverse</td><td>8.952542418677485E8</td><td>2.3562934337207905E10</td></tr><tr><td>2024-09-01</td><td>Custom Scenario</td><td>6.791075573962488E8</td><td>2.015120161190146E10</td></tr><tr><td>2024-09-01</td><td>Predicted by Databricks</td><td>8.339380718990566E8</td><td>2.3205199404979736E10</td></tr><tr><td>2024-09-01</td><td>Supervisory Baseline</td><td>7.830525816310097E8</td><td>2.2818641543966423E10</td></tr><tr><td>2024-09-01</td><td>Supervisory Severely Adverse</td><td>9.107097344355232E8</td><td>2.447364407164343E10</td></tr><tr><td>2024-10-01</td><td>Custom Scenario</td><td>6.859452493065884E8</td><td>2.0837146861208046E10</td></tr><tr><td>2024-10-01</td><td>Predicted by Databricks</td><td>8.448696816289793E8</td><td>2.4050069086608715E10</td></tr><tr><td>2024-10-01</td><td>Supervisory Baseline</td><td>7.914231521587714E8</td><td>2.3610064696125195E10</td></tr><tr><td>2024-10-01</td><td>Supervisory Severely Adverse</td><td>9.318853897918588E8</td><td>2.5405529461435287E10</td></tr><tr><td>2024-11-01</td><td>Custom Scenario</td><td>6.985827601934981E8</td><td>2.1535729621401543E10</td></tr><tr><td>2024-11-01</td><td>Predicted by Databricks</td><td>8.578629027314935E8</td><td>2.490793198934021E10</td></tr><tr><td>2024-11-01</td><td>Supervisory Baseline</td><td>8.055146018818967E8</td><td>2.441557929800709E10</td></tr><tr><td>2024-11-01</td><td>Supervisory Severely Adverse</td><td>9.47763005199677E8</td><td>2.6353292466634964E10</td></tr><tr><td>2024-12-01</td><td>Custom Scenario</td><td>7.113206773780508E8</td><td>2.2247050298779594E10</td></tr><tr><td>2024-12-01</td><td>Predicted by Databricks</td><td>8.708146834477172E8</td><td>2.5778746672787926E10</td></tr><tr><td>2024-12-01</td><td>Supervisory Baseline</td><td>8.196997119506968E8</td><td>2.5235279009957787E10</td></tr><tr><td>2024-12-01</td><td>Supervisory Severely Adverse</td><td>9.637202884350865E8</td><td>2.731701275507005E10</td></tr><tr><td>2025-01-01</td><td>Custom Scenario</td><td>7.200949564359112E8</td><td>2.2967145255215508E10</td></tr><tr><td>2025-01-01</td><td>Predicted by Databricks</td><td>8.812226720924402E8</td><td>2.6659969344880367E10</td></tr><tr><td>2025-01-01</td><td>Supervisory Baseline</td><td>8.302795339864253E8</td><td>2.606555854394421E10</td></tr><tr><td>2025-01-01</td><td>Supervisory Severely Adverse</td><td>9.881271513613776E8</td><td>2.8305139906431427E10</td></tr><tr><td>2025-02-01</td><td>Custom Scenario</td><td>7.330353010730611E8</td><td>2.370018055628857E10</td></tr><tr><td>2025-02-01</td><td>Predicted by Databricks</td><td>8.930289413542317E8</td><td>2.75529982862346E10</td></tr><tr><td>2025-02-01</td><td>Supervisory Baseline</td><td>8.446716735611709E8</td><td>2.6910230217505383E10</td></tr><tr><td>2025-02-01</td><td>Supervisory Severely Adverse</td><td>1.0044193363188713E9</td><td>2.9309559242750298E10</td></tr><tr><td>2025-03-01</td><td>Custom Scenario</td><td>7.461111792695527E8</td><td>2.4446291735558125E10</td></tr><tr><td>2025-03-01</td><td>Predicted by Databricks</td><td>9.054807389733703E8</td><td>2.845847902520797E10</td></tr><tr><td>2025-03-01</td><td>Supervisory Baseline</td><td>8.59200506771611E8</td><td>2.7769430724276993E10</td></tr><tr><td>2025-03-01</td><td>Supervisory Severely Adverse</td><td>1.0208468987722635E9</td><td>3.033040614152256E10</td></tr><tr><td>2025-04-01</td><td>Custom Scenario</td><td>7.577045089588777E8</td><td>2.5203996244517002E10</td></tr><tr><td>2025-04-01</td><td>Predicted by Databricks</td><td>9.168353031344858E8</td><td>2.9375314328342457E10</td></tr><tr><td>2025-04-01</td><td>Supervisory Baseline</td><td>8.729051679009598E8</td><td>2.864233589217795E10</td></tr><tr><td>2025-04-01</td><td>Supervisory Severely Adverse</td><td>1.0454856646518995E9</td><td>3.137589180617446E10</td></tr><tr><td>2025-05-01</td><td>Custom Scenario</td><td>7.710253910384685E8</td><td>2.597502163555547E10</td></tr><tr><td>2025-05-01</td><td>Predicted by Databricks</td><td>9.315847306556505E8</td><td>3.0306899058998108E10</td></tr><tr><td>2025-05-01</td><td>Supervisory Baseline</td><td>8.876845506851285E8</td><td>2.953002044286308E10</td></tr><tr><td>2025-05-01</td><td>Supervisory Severely Adverse</td><td>1.0622463668797019E9</td><td>3.2438138173054165E10</td></tr><tr><td>2025-06-01</td><td>Custom Scenario</td><td>7.844812200515337E8</td><td>2.6759502855607002E10</td></tr><tr><td>2025-06-01</td><td>Predicted by Databricks</td><td>9.465366690008452E8</td><td>3.1253435727998955E10</td></tr><tr><td>2025-06-01</td><td>Supervisory Baseline</td><td>9.025988280832595E8</td><td>3.043261927094634E10</td></tr><tr><td>2025-06-01</td><td>Supervisory Severely Adverse</td><td>1.0791385453792074E9</td><td>3.3517276718433372E10</td></tr><tr><td>2025-07-01</td><td>Custom Scenario</td><td>7.954258500662752E8</td><td>2.755492870567328E10</td></tr><tr><td>2025-07-01</td><td>Predicted by Databricks</td><td>9.591827580300207E8</td><td>3.2212618486028976E10</td></tr><tr><td>2025-07-01</td><td>Supervisory Baseline</td><td>9.153934870384771E8</td><td>3.1348012757984818E10</td></tr><tr><td>2025-07-01</td><td>Supervisory Severely Adverse</td><td>1.1023837260018144E9</td><td>3.461966044443519E10</td></tr><tr><td>2025-08-01</td><td>Custom Scenario</td><td>8.091328903796055E8</td><td>2.8364061596052883E10</td></tr><tr><td>2025-08-01</td><td>Predicted by Databricks</td><td>9.712985865559331E8</td><td>3.318391707258491E10</td></tr><tr><td>2025-08-01</td><td>Supervisory Baseline</td><td>9.305654814793437E8</td><td>3.227857823946416E10</td></tr><tr><td>2025-08-01</td><td>Supervisory Severely Adverse</td><td>1.1196141889620929E9</td><td>3.573927463339728E10</td></tr><tr><td>2025-09-01</td><td>Custom Scenario</td><td>8.229257178521005E8</td><td>2.9186987313904984E10</td></tr><tr><td>2025-09-01</td><td>Predicted by Databricks</td><td>9.833858005223483E8</td><td>3.4167302873107258E10</td></tr><tr><td>2025-09-01</td><td>Supervisory Baseline</td><td>9.4581048829326E8</td><td>3.322438872775742E10</td></tr><tr><td>2025-09-01</td><td>Supervisory Severely Adverse</td><td>1.1368907611371145E9</td><td>3.687616539453439E10</td></tr><tr><td>2025-10-01</td><td>Custom Scenario</td><td>8.350478549645941E8</td><td>3.002203516886958E10</td></tr><tr><td>2025-10-01</td><td>Predicted by Databricks</td><td>9.952389684236721E8</td><td>3.516254184153093E10</td></tr><tr><td>2025-10-01</td><td>Supervisory Baseline</td><td>9.600790904406512E8</td><td>3.418446781819807E10</td></tr><tr><td>2025-10-01</td><td>Supervisory Severely Adverse</td><td>1.1512616965998409E9</td><td>3.802742709113423E10</td></tr><tr><td>2025-11-01</td><td>Custom Scenario</td><td>8.488990475700579E8</td><td>3.0870934216439636E10</td></tr><tr><td>2025-11-01</td><td>Predicted by Databricks</td><td>1.008460517825705E9</td><td>3.6171002359356636E10</td></tr><tr><td>2025-11-01</td><td>Supervisory Baseline</td><td>9.753389892100933E8</td><td>3.5159806807408165E10</td></tr><tr><td>2025-11-01</td><td>Supervisory Severely Adverse</td><td>1.1684307440811236E9</td><td>3.9195857835215355E10</td></tr><tr><td>2025-12-01</td><td>Custom Scenario</td><td>8.627675168276753E8</td><td>3.173370173326731E10</td></tr><tr><td>2025-12-01</td><td>Predicted by Databricks</td><td>1.0222799734441522E9</td><td>3.719328233280079E10</td></tr><tr><td>2025-12-01</td><td>Supervisory Baseline</td><td>9.905862117216892E8</td><td>3.615039301912985E10</td></tr><tr><td>2025-12-01</td><td>Supervisory Severely Adverse</td><td>1.1855294493725266E9</td><td>4.038138728458788E10</td></tr><tr><td>2026-01-01</td><td>Custom Scenario</td><td>8.72001762158312E8</td><td>3.2605703495425625E10</td></tr><tr><td>2026-01-01</td><td>Predicted by Databricks</td><td>1.0334733846694992E9</td><td>3.822675571747029E10</td></tr><tr><td>2026-01-01</td><td>Supervisory Baseline</td><td>1.0016484458012384E9</td><td>3.715204146493109E10</td></tr><tr><td>2026-01-01</td><td>Supervisory Severely Adverse</td><td>1.1983738225266836E9</td><td>4.157976110711456E10</td></tr><tr><td>2026-02-01</td><td>Custom Scenario</td><td>8.86170834807766E8</td><td>3.349187433023339E10</td></tr><tr><td>2026-02-01</td><td>Predicted by Databricks</td><td>1.0452280775589467E9</td><td>3.9271983795029236E10</td></tr><tr><td>2026-02-01</td><td>Supervisory Baseline</td><td>1.0172272996643739E9</td><td>3.816926876459547E10</td></tr><tr><td>2026-02-01</td><td>Supervisory Severely Adverse</td><td>1.215842728578095E9</td><td>4.279560383569266E10</td></tr><tr><td>2026-03-01</td><td>Custom Scenario</td><td>9.004441953366077E8</td><td>3.439231852557E10</td></tr><tr><td>2026-03-01</td><td>Predicted by Databricks</td><td>1.0560558558369284E9</td><td>4.0328039650866165E10</td></tr><tr><td>2026-03-01</td><td>Supervisory Baseline</td><td>1.0328906544955397E9</td><td>3.9202159419091E10</td></tr><tr><td>2026-03-01</td><td>Supervisory Severely Adverse</td><td>1.2333555858500698E9</td><td>4.4028959421542725E10</td></tr><tr><td>2026-04-01</td><td>Custom Scenario</td><td>9.108976994618787E8</td><td>3.5303216225031876E10</td></tr><tr><td>2026-04-01</td><td>Predicted by Databricks</td><td>1.0698870427394425E9</td><td>4.1397926693605606E10</td></tr><tr><td>2026-04-01</td><td>Supervisory Baseline</td><td>1.045244795410448E9</td><td>4.024740421450145E10</td></tr><tr><td>2026-04-01</td><td>Supervisory Severely Adverse</td><td>1.246706046356096E9</td><td>4.527566546789882E10</td></tr><tr><td>2026-05-01</td><td>Custom Scenario</td><td>9.255141235124524E8</td><td>3.622873034854433E10</td></tr><tr><td>2026-05-01</td><td>Predicted by Databricks</td><td>1.085542282458169E9</td><td>4.2483468976063774E10</td></tr><tr><td>2026-05-01</td><td>Supervisory Baseline</td><td>1.0612816140201318E9</td><td>4.130868582852158E10</td></tr><tr><td>2026-05-01</td><td>Supervisory Severely Adverse</td><td>1.264622330240668E9</td><td>4.654028779813949E10</td></tr><tr><td>2026-06-01</td><td>Custom Scenario</td><td>9.403458897867357E8</td><td>3.716907623833106E10</td></tr><tr><td>2026-06-01</td><td>Predicted by Databricks</td><td>1.1012482910031047E9</td><td>4.358471726706688E10</td></tr><tr><td>2026-06-01</td><td>Supervisory Baseline</td><td>1.0775465808104913E9</td><td>4.238623240933208E10</td></tr><tr><td>2026-06-01</td><td>Supervisory Severely Adverse</td><td>1.2827857282845094E9</td><td>4.7823073526423996E10</td></tr><tr><td>2026-07-01</td><td>Custom Scenario</td><td>9.51093177212929E8</td><td>3.812016941554399E10</td></tr><tr><td>2026-07-01</td><td>Predicted by Databricks</td><td>1.1144862280150776E9</td><td>4.4699203495081955E10</td></tr><tr><td>2026-07-01</td><td>Supervisory Baseline</td><td>1.0902320885144794E9</td><td>4.347646449784656E10</td></tr><tr><td>2026-07-01</td><td>Supervisory Severely Adverse</td><td>1.2951315713210876E9</td><td>4.911820509774509E10</td></tr><tr><td>2026-08-01</td><td>Custom Scenario</td><td>9.661230321082095E8</td><td>3.90862924476522E10</td></tr><tr><td>2026-08-01</td><td>Predicted by Databricks</td><td>1.1270086315926828E9</td><td>4.582621212667464E10</td></tr><tr><td>2026-08-01</td><td>Supervisory Baseline</td><td>1.106691428933242E9</td><td>4.45831559267798E10</td></tr><tr><td>2026-08-01</td><td>Supervisory Severely Adverse</td><td>1.3134495250164452E9</td><td>5.0431654622761536E10</td></tr><tr><td>2026-09-01</td><td>Custom Scenario</td><td>9.81048148951809E8</td><td>4.006734059660401E10</td></tr><tr><td>2026-09-01</td><td>Predicted by Databricks</td><td>1.1390462293604581E9</td><td>4.6965258356035095E10</td></tr><tr><td>2026-09-01</td><td>Supervisory Baseline</td><td>1.123006964559224E9</td><td>4.570616289133903E10</td></tr><tr><td>2026-09-01</td><td>Supervisory Severely Adverse</td><td>1.3315620053906941E9</td><td>5.176321662815223E10</td></tr><tr><td>2026-10-01</td><td>Custom Scenario</td><td>9.918614757056967E8</td><td>4.105920207230971E10</td></tr><tr><td>2026-10-01</td><td>Predicted by Databricks</td><td>1.1518619222178195E9</td><td>4.8117120278252914E10</td></tr><tr><td>2026-10-01</td><td>Supervisory Baseline</td><td>1.1357439635542793E9</td><td>4.684190685489331E10</td></tr><tr><td>2026-10-01</td><td>Supervisory Severely Adverse</td><td>1.34044531939889E9</td><td>5.310366194755112E10</td></tr></tbody></table></div>"
      ]
     },
     "metadata": {
      "application/vnd.databricks.v1+output": {
       "addedWidgets": {},
       "aggData": [],
       "aggError": "",
       "aggOverflow": false,
       "aggSchema": [],
       "aggSeriesLimitReached": false,
       "aggType": "",
       "arguments": {},
       "columnCustomDisplayInfos": {},
       "data": [
        [
         "2021-09-01",
         "Custom Scenario",
         4.076047561647724E8,
         4.076047561647724E8
        ],
        [
         "2021-09-01",
         "Predicted by Databricks",
         4.3196121001693547E8,
         4.3196121001693547E8
        ],
        [
         "2021-09-01",
         "Supervisory Baseline",
         4.453627764754792E8,
         4.453627764754792E8
        ],
        [
         "2021-09-01",
         "Supervisory Severely Adverse",
         4.3616431241357046E8,
         4.3616431241357046E8
        ],
        [
         "2021-10-01",
         "Custom Scenario",
         4.181938487480434E8,
         8.257986049128158E8
        ],
        [
         "2021-10-01",
         "Predicted by Databricks",
         4.418160641674456E8,
         8.73777274184381E8
        ],
        [
         "2021-10-01",
         "Supervisory Baseline",
         4.575899020429542E8,
         9.029526785184333E8
        ],
        [
         "2021-10-01",
         "Supervisory Severely Adverse",
         4.547014954674267E8,
         8.908658078809972E8
        ],
        [
         "2021-11-01",
         "Custom Scenario",
         4.293353024623767E8,
         1.2551339073751926E9
        ],
        [
         "2021-11-01",
         "Predicted by Databricks",
         4.524034706563406E8,
         1.3261807448407216E9
        ],
        [
         "2021-11-01",
         "Supervisory Baseline",
         4.696779209592435E8,
         1.3726305994776769E9
        ],
        [
         "2021-11-01",
         "Supervisory Severely Adverse",
         4.667206427895648E8,
         1.357586450670562E9
        ],
        [
         "2021-12-01",
         "Custom Scenario",
         4.405849017124684E8,
         1.695718809087661E9
        ],
        [
         "2021-12-01",
         "Predicted by Databricks",
         4.633626154552105E8,
         1.789543360295932E9
        ],
        [
         "2021-12-01",
         "Supervisory Baseline",
         4.818747374898003E8,
         1.854505336967477E9
        ],
        [
         "2021-12-01",
         "Supervisory Severely Adverse",
         4.788485829450377E8,
         1.8364350336155996E9
        ],
        [
         "2022-01-01",
         "Custom Scenario",
         4.1571183246158797E8,
         2.111430641549249E9
        ],
        [
         "2022-01-01",
         "Predicted by Databricks",
         4.731000542133297E8,
         2.2626434145092616E9
        ],
        [
         "2022-01-01",
         "Supervisory Baseline",
         4.6730489465685314E8,
         2.32181023162433E9
        ],
        [
         "2022-01-01",
         "Supervisory Severely Adverse",
         4.5913169332062906E8,
         2.2955667269362288E9
        ],
        [
         "2022-02-01",
         "Custom Scenario",
         4.263564211199305E8,
         2.5377870626691794E9
        ],
        [
         "2022-02-01",
         "Predicted by Databricks",
         4.8304141770679945E8,
         2.745684832216061E9
        ],
        [
         "2022-02-01",
         "Supervisory Baseline",
         4.79124397972803E8,
         2.800934629597133E9
        ],
        [
         "2022-02-01",
         "Supervisory Severely Adverse",
         4.7076689359572875E8,
         2.7663336205319576E9
        ],
        [
         "2022-03-01",
         "Custom Scenario",
         4.371125051462499E8,
         2.974899567815429E9
        ],
        [
         "2022-03-01",
         "Predicted by Databricks",
         4.925554079630948E8,
         3.238240240179156E9
        ],
        [
         "2022-03-01",
         "Supervisory Baseline",
         4.910571480055866E8,
         3.29199177760272E9
        ],
        [
         "2022-03-01",
         "Supervisory Severely Adverse",
         4.8251519590138465E8,
         3.2488488164333425E9
        ],
        [
         "2022-04-01",
         "Custom Scenario",
         4.430677610679935E8,
         3.417967328883423E9
        ],
        [
         "2022-04-01",
         "Predicted by Databricks",
         5.034588321589937E8,
         3.7416990723381495E9
        ],
        [
         "2022-04-01",
         "Supervisory Baseline",
         4.9884304596623904E8,
         3.7908348235689588E9
        ],
        [
         "2022-04-01",
         "Supervisory Severely Adverse",
         4.984852209369243E8,
         3.747334037370267E9
        ],
        [
         "2022-05-01",
         "Custom Scenario",
         4.5394031942351425E8,
         3.871907648306937E9
        ],
        [
         "2022-05-01",
         "Predicted by Databricks",
         5.153106797553427E8,
         4.2570097520934925E9
        ],
        [
         "2022-05-01",
         "Supervisory Baseline",
         5.1091149118209136E8,
         4.30174631475105E9
        ],
        [
         "2022-05-01",
         "Supervisory Severely Adverse",
         5.1054609708844084E8,
         4.257880134458708E9
        ],
        [
         "2022-06-01",
         "Custom Scenario",
         4.649266997577783E8,
         4.336834348064715E9
        ],
        [
         "2022-06-01",
         "Predicted by Databricks",
         5.271807541509324E8,
         4.784190506244425E9
        ],
        [
         "2022-06-01",
         "Supervisory Baseline",
         5.2309575180055696E8,
         4.824842066551607E9
        ],
        [
         "2022-06-01",
         "Supervisory Severely Adverse",
         5.227227824296892E8,
         4.780602916888397E9
        ],
        [
         "2022-07-01",
         "Custom Scenario",
         4.713957067187139E8,
         4.808230054783429E9
        ],
        [
         "2022-07-01",
         "Predicted by Databricks",
         5.378276385194525E8,
         5.322018144763877E9
        ],
        [
         "2022-07-01",
         "Supervisory Baseline",
         5.3133084254176795E8,
         5.356172909093375E9
        ],
        [
         "2022-07-01",
         "Supervisory Severely Adverse",
         5.413751755376983E8,
         5.321978092426096E9
        ],
        [
         "2022-08-01",
         "Custom Scenario",
         4.824935728787277E8,
         5.290723627662157E9
        ],
        [
         "2022-08-01",
         "Predicted by Databricks",
         5.481109806875862E8,
         5.870129125451463E9
        ],
        [
         "2022-08-01",
         "Supervisory Baseline",
         5.436401432233721E8,
         5.899813052316748E9
        ],
        [
         "2022-08-01",
         "Supervisory Severely Adverse",
         5.538838517441612E8,
         5.875861944170258E9
        ],
        [
         "2022-09-01",
         "Custom Scenario",
         4.937187028086219E8,
         5.784442330470779E9
        ],
        [
         "2022-09-01",
         "Predicted by Databricks",
         5.583061979755478E8,
         6.428435323427011E9
        ],
        [
         "2022-09-01",
         "Supervisory Baseline",
         5.560789469087118E8,
         6.455891999225459E9
        ],
        [
         "2022-09-01",
         "Supervisory Severely Adverse",
         5.665221667307045E8,
         6.442384110900962E9
        ],
        [
         "2022-10-01",
         "Custom Scenario",
         5.01826195137491E8,
         6.286268525608271E9
        ],
        [
         "2022-10-01",
         "Predicted by Databricks",
         5.688666883330814E8,
         6.997302011760092E9
        ],
        [
         "2022-10-01",
         "Supervisory Baseline",
         5.660436735525131E8,
         7.021935672777972E9
        ],
        [
         "2022-10-01",
         "Supervisory Severely Adverse",
         5.867546151466471E8,
         7.029138726047609E9
        ],
        [
         "2022-11-01",
         "Custom Scenario",
         5.1321051187005085E8,
         6.799479037478321E9
        ],
        [
         "2022-11-01",
         "Predicted by Databricks",
         5.798863723854392E8,
         7.577188384145531E9
        ],
        [
         "2022-11-01",
         "Supervisory Baseline",
         5.786564120116034E8,
         7.600592084789576E9
        ],
        [
         "2022-11-01",
         "Supervisory Severely Adverse",
         5.997544504144303E8,
         7.62889317646204E9
        ],
        [
         "2022-12-01",
         "Custom Scenario",
         5.2472347361988205E8,
         7.324202511098203E9
        ],
        [
         "2022-12-01",
         "Predicted by Databricks",
         5.918459418143326E8,
         8.169034325959864E9
        ],
        [
         "2022-12-01",
         "Supervisory Baseline",
         5.913999315168885E8,
         8.191992016306464E9
        ],
        [
         "2022-12-01",
         "Supervisory Severely Adverse",
         6.128852739713447E8,
         8.241778450433385E9
        ],
        [
         "2023-01-01",
         "Custom Scenario",
         5.336191521672922E8,
         7.857821663265495E9
        ],
        [
         "2023-01-01",
         "Predicted by Databricks",
         6.024218810613009E8,
         8.771456207021164E9
        ],
        [
         "2023-01-01",
         "Supervisory Baseline",
         6.021859671369967E8,
         8.79417798344346E9
        ],
        [
         "2023-01-01",
         "Supervisory Severely Adverse",
         6.336642457346923E8,
         8.875442696168077E9
        ],
        [
         "2023-02-01",
         "Custom Scenario",
         5.453183184755661E8,
         8.403139981741061E9
        ],
        [
         "2023-02-01",
         "Predicted by Databricks",
         6.125231007302923E8,
         9.383979307751457E9
        ],
        [
         "2023-02-01",
         "Supervisory Baseline",
         6.151312566684968E8,
         9.409309240111958E9
        ],
        [
         "2023-02-01",
         "Supervisory Severely Adverse",
         6.471656956011802E8,
         9.522608391769258E9
        ],
        [
         "2023-03-01",
         "Custom Scenario",
         5.571349633407584E8,
         8.96027494508182E9
        ],
        [
         "2023-03-01",
         "Predicted by Databricks",
         6.211294270766686E8,
         1.0005108734828125E10
        ],
        [
         "2023-03-01",
         "Supervisory Baseline",
         6.281944094705554E8,
         1.0037503649582514E10
        ],
        [
         "2023-03-01",
         "Supervisory Severely Adverse",
         6.60784445640404E8,
         1.0183392837409662E10
        ],
        [
         "2023-04-01",
         "Custom Scenario",
         5.640637604738638E8,
         9.524338705555683E9
        ],
        [
         "2023-04-01",
         "Predicted by Databricks",
         6.340197115474977E8,
         1.0639128446375622E10
        ],
        [
         "2023-04-01",
         "Supervisory Baseline",
         6.369224310864718E8,
         1.0674426080668985E10
        ],
        [
         "2023-04-01",
         "Supervisory Severely Adverse",
         6.825954985758151E8,
         1.0865988335985477E10
        ],
        [
         "2023-05-01",
         "Custom Scenario",
         5.759186112417618E8,
         1.0100257316797445E10
        ],
        [
         "2023-05-01",
         "Predicted by Databricks",
         6.466739156516755E8,
         1.1285802362027298E10
        ],
        [
         "2023-05-01",
         "Supervisory Baseline",
         6.500319435512674E8,
         1.1324458024220253E10
        ],
        [
         "2023-05-01",
         "Supervisory Severely Adverse",
         6.964647934801121E8,
         1.156245312946559E10
        ],
        [
         "2023-06-01",
         "Custom Scenario",
         5.879963048884094E8,
         1.0688253621685854E10
        ],
        [
         "2023-06-01",
         "Predicted by Databricks",
         6.59282386135085E8,
         1.1945084748162382E10
        ],
        [
         "2023-06-01",
         "Supervisory Baseline",
         6.633674492461474E8,
         1.19878254734664E10
        ],
        [
         "2023-06-01",
         "Supervisory Severely Adverse",
         7.105607661816894E8,
         1.227301389564728E10
        ],
        [
         "2023-07-01",
         "Custom Scenario",
         5.954764681659937E8,
         1.1283730089851849E10
        ],
        [
         "2023-07-01",
         "Predicted by Databricks",
         6.704343604040133E8,
         1.2615519108566395E10
        ],
        [
         "2023-07-01",
         "Supervisory Baseline",
         6.726933723463668E8,
         1.2660518845812767E10
        ],
        [
         "2023-07-01",
         "Supervisory Severely Adverse",
         7.320675627316052E8,
         1.3005081458378885E10
        ],
        [
         "2023-08-01",
         "Custom Scenario",
         6.077218510623183E8,
         1.1891451940914167E10
        ],
        [
         "2023-08-01",
         "Predicted by Databricks",
         6.811581615828966E8,
         1.3296677270149292E10
        ],
        [
         "2023-08-01",
         "Supervisory Baseline",
         6.862098402652196E8,
         1.3346728686077986E10
        ],
        [
         "2023-08-01",
         "Supervisory Severely Adverse",
         7.465221957640074E8,
         1.3751603654142893E10
        ],
        [
         "2023-09-01",
         "Custom Scenario",
         6.201018425603685E8,
         1.2511553783474537E10
        ],
        [
         "2023-09-01",
         "Predicted by Databricks",
         6.916211182177136E8,
         1.3988298388367006E10
        ],
        [
         "2023-09-01",
         "Supervisory Baseline",
         6.998637570469136E8,
         1.4046592443124899E10
        ],
        [
         "2023-09-01",
         "Supervisory Severely Adverse",
         7.611153217145674E8,
         1.451271897585746E10
        ],
        [
         "2023-10-01",
         "Custom Scenario",
         6.282271606694119E8,
         1.313978094414395E10
        ],
        [
         "2023-10-01",
         "Predicted by Databricks",
         7.030624513856273E8,
         1.4691360839752634E10
        ],
        [
         "2023-10-01",
         "Supervisory Baseline",
         7.098848252261703E8,
         1.4756477268351068E10
        ],
        [
         "2023-10-01",
         "Supervisory Severely Adverse",
         7.931791873757423E8,
         1.5305898163233202E10
        ],
        [
         "2023-11-01",
         "Custom Scenario",
         6.407691335432894E8,
         1.3780550077687239E10
        ],
        [
         "2023-11-01",
         "Predicted by Databricks",
         7.145233036372714E8,
         1.5405884143389906E10
        ],
        [
         "2023-11-01",
         "Supervisory Baseline",
         7.237101004800276E8,
         1.5480187368831097E10
        ],
        [
         "2023-11-01",
         "Supervisory Severely Adverse",
         8.082495255672305E8,
         1.6114147688800432E10
        ],
        [
         "2023-12-01",
         "Custom Scenario",
         6.534460117303579E8,
         1.4433996089417597E10
        ],
        [
         "2023-12-01",
         "Predicted by Databricks",
         7.276832943685098E8,
         1.6133567437758415E10
        ],
        [
         "2023-12-01",
         "Supervisory Baseline",
         7.376703675162189E8,
         1.6217857736347315E10
        ],
        [
         "2023-12-01",
         "Supervisory Severely Adverse",
         8.234524604021275E8,
         1.693760014920256E10
        ],
        [
         "2024-01-01",
         "Custom Scenario",
         5.931545968832428E8,
         1.502715068630084E10
        ],
        [
         "2024-01-01",
         "Predicted by Databricks",
         7.393457989484826E8,
         1.6872913236706898E10
        ],
        [
         "2024-01-01",
         "Supervisory Baseline",
         6.856269242058841E8,
         1.69034846605532E10
        ],
        [
         "2024-01-01",
         "Supervisory Severely Adverse",
         7.628385992201834E8,
         1.7700438748422745E10
        ],
        [
         "2024-02-01",
         "Custom Scenario",
         6.049243323034946E8,
         1.5632075018604336E10
        ],
        [
         "2024-02-01",
         "Predicted by Databricks",
         7.495209371537219E8,
         1.762243417386062E10
        ],
        [
         "2024-02-01",
         "Supervisory Baseline",
         6.988422939236349E8,
         1.7602326954476833E10
        ],
        [
         "2024-02-01",
         "Supervisory Severely Adverse",
         7.771995820358806E8,
         1.8477638330458626E10
        ],
        [
         "2024-03-01",
         "Custom Scenario",
         6.16827921238155E8,
         1.6248902939842491E10
        ],
        [
         "2024-03-01",
         "Predicted by Databricks",
         7.616190579380206E8,
         1.8384053231798637E10
        ],
        [
         "2024-03-01",
         "Supervisory Baseline",
         7.121943293634983E8,
         1.8314521283840332E10
        ],
        [
         "2024-03-01",
         "Supervisory Severely Adverse",
         7.916975373505983E8,
         1.9269335867809223E10
        ],
        [
         "2024-04-01",
         "Custom Scenario",
         6.219542028457311E8,
         1.6870857142688223E10
        ],
        [
         "2024-04-01",
         "Predicted by Databricks",
         7.709080156229883E8,
         1.9154961247421627E10
        ],
        [
         "2024-04-01",
         "Supervisory Baseline",
         7.18606201839785E8,
         1.903312748568012E10
        ],
        [
         "2024-04-01",
         "Supervisory Severely Adverse",
         8.2449774844497E8,
         2.0093833616254192E10
        ],
        [
         "2024-05-01",
         "Custom Scenario",
         6.339738686777506E8,
         1.7504831011365974E10
        ],
        [
         "2024-05-01",
         "Predicted by Databricks",
         7.846173191525176E8,
         1.9939578566574146E10
        ],
        [
         "2024-05-01",
         "Supervisory Baseline",
         7.320716023401213E8,
         1.976519908802024E10
        ],
        [
         "2024-05-01",
         "Supervisory Severely Adverse",
         8.394483717264701E8,
         2.0933281987980663E10
        ],
        [
         "2024-06-01",
         "Custom Scenario",
         6.461214318774251E8,
         1.81509524432434E10
        ],
        [
         "2024-06-01",
         "Predicted by Databricks",
         7.987193601993933E8,
         2.073829792677354E10
        ],
        [
         "2024-06-01",
         "Supervisory Baseline",
         7.456657485316228E8,
         2.0510864836551865E10
        ],
        [
         "2024-06-01",
         "Supervisory Severely Adverse",
         8.545255062911291E8,
         2.1787807494271793E10
        ],
        [
         "2024-07-01",
         "Custom Scenario",
         6.544237875696583E8,
         1.8805376230813057E10
        ],
        [
         "2024-07-01",
         "Predicted by Databricks",
         8.107232925050725E8,
         2.1549021219278614E10
        ],
        [
         "2024-07-01",
         "Supervisory Baseline",
         7.554946149506056E8,
         2.1266359451502472E10
        ],
        [
         "2024-07-01",
         "Supervisory Severely Adverse",
         8.79872601068364E8,
         2.2667680095340157E10
        ],
        [
         "2024-08-01",
         "Custom Scenario",
         6.667178236921544E8,
         1.947209405450521E10
        ],
        [
         "2024-08-01",
         "Predicted by Databricks",
         8.222401138020656E8,
         2.237126133308068E10
        ],
        [
         "2024-08-01",
         "Supervisory Baseline",
         7.69229510832942E8,
         2.2035588962335415E10
        ],
        [
         "2024-08-01",
         "Supervisory Severely Adverse",
         8.952542418677485E8,
         2.3562934337207905E10
        ],
        [
         "2024-09-01",
         "Custom Scenario",
         6.791075573962488E8,
         2.015120161190146E10
        ],
        [
         "2024-09-01",
         "Predicted by Databricks",
         8.339380718990566E8,
         2.3205199404979736E10
        ],
        [
         "2024-09-01",
         "Supervisory Baseline",
         7.830525816310097E8,
         2.2818641543966423E10
        ],
        [
         "2024-09-01",
         "Supervisory Severely Adverse",
         9.107097344355232E8,
         2.447364407164343E10
        ],
        [
         "2024-10-01",
         "Custom Scenario",
         6.859452493065884E8,
         2.0837146861208046E10
        ],
        [
         "2024-10-01",
         "Predicted by Databricks",
         8.448696816289793E8,
         2.4050069086608715E10
        ],
        [
         "2024-10-01",
         "Supervisory Baseline",
         7.914231521587714E8,
         2.3610064696125195E10
        ],
        [
         "2024-10-01",
         "Supervisory Severely Adverse",
         9.318853897918588E8,
         2.5405529461435287E10
        ],
        [
         "2024-11-01",
         "Custom Scenario",
         6.985827601934981E8,
         2.1535729621401543E10
        ],
        [
         "2024-11-01",
         "Predicted by Databricks",
         8.578629027314935E8,
         2.490793198934021E10
        ],
        [
         "2024-11-01",
         "Supervisory Baseline",
         8.055146018818967E8,
         2.441557929800709E10
        ],
        [
         "2024-11-01",
         "Supervisory Severely Adverse",
         9.47763005199677E8,
         2.6353292466634964E10
        ],
        [
         "2024-12-01",
         "Custom Scenario",
         7.113206773780508E8,
         2.2247050298779594E10
        ],
        [
         "2024-12-01",
         "Predicted by Databricks",
         8.708146834477172E8,
         2.5778746672787926E10
        ],
        [
         "2024-12-01",
         "Supervisory Baseline",
         8.196997119506968E8,
         2.5235279009957787E10
        ],
        [
         "2024-12-01",
         "Supervisory Severely Adverse",
         9.637202884350865E8,
         2.731701275507005E10
        ],
        [
         "2025-01-01",
         "Custom Scenario",
         7.200949564359112E8,
         2.2967145255215508E10
        ],
        [
         "2025-01-01",
         "Predicted by Databricks",
         8.812226720924402E8,
         2.6659969344880367E10
        ],
        [
         "2025-01-01",
         "Supervisory Baseline",
         8.302795339864253E8,
         2.606555854394421E10
        ],
        [
         "2025-01-01",
         "Supervisory Severely Adverse",
         9.881271513613776E8,
         2.8305139906431427E10
        ],
        [
         "2025-02-01",
         "Custom Scenario",
         7.330353010730611E8,
         2.370018055628857E10
        ],
        [
         "2025-02-01",
         "Predicted by Databricks",
         8.930289413542317E8,
         2.75529982862346E10
        ],
        [
         "2025-02-01",
         "Supervisory Baseline",
         8.446716735611709E8,
         2.6910230217505383E10
        ],
        [
         "2025-02-01",
         "Supervisory Severely Adverse",
         1.0044193363188713E9,
         2.9309559242750298E10
        ],
        [
         "2025-03-01",
         "Custom Scenario",
         7.461111792695527E8,
         2.4446291735558125E10
        ],
        [
         "2025-03-01",
         "Predicted by Databricks",
         9.054807389733703E8,
         2.845847902520797E10
        ],
        [
         "2025-03-01",
         "Supervisory Baseline",
         8.59200506771611E8,
         2.7769430724276993E10
        ],
        [
         "2025-03-01",
         "Supervisory Severely Adverse",
         1.0208468987722635E9,
         3.033040614152256E10
        ],
        [
         "2025-04-01",
         "Custom Scenario",
         7.577045089588777E8,
         2.5203996244517002E10
        ],
        [
         "2025-04-01",
         "Predicted by Databricks",
         9.168353031344858E8,
         2.9375314328342457E10
        ],
        [
         "2025-04-01",
         "Supervisory Baseline",
         8.729051679009598E8,
         2.864233589217795E10
        ],
        [
         "2025-04-01",
         "Supervisory Severely Adverse",
         1.0454856646518995E9,
         3.137589180617446E10
        ],
        [
         "2025-05-01",
         "Custom Scenario",
         7.710253910384685E8,
         2.597502163555547E10
        ],
        [
         "2025-05-01",
         "Predicted by Databricks",
         9.315847306556505E8,
         3.0306899058998108E10
        ],
        [
         "2025-05-01",
         "Supervisory Baseline",
         8.876845506851285E8,
         2.953002044286308E10
        ],
        [
         "2025-05-01",
         "Supervisory Severely Adverse",
         1.0622463668797019E9,
         3.2438138173054165E10
        ],
        [
         "2025-06-01",
         "Custom Scenario",
         7.844812200515337E8,
         2.6759502855607002E10
        ],
        [
         "2025-06-01",
         "Predicted by Databricks",
         9.465366690008452E8,
         3.1253435727998955E10
        ],
        [
         "2025-06-01",
         "Supervisory Baseline",
         9.025988280832595E8,
         3.043261927094634E10
        ],
        [
         "2025-06-01",
         "Supervisory Severely Adverse",
         1.0791385453792074E9,
         3.3517276718433372E10
        ],
        [
         "2025-07-01",
         "Custom Scenario",
         7.954258500662752E8,
         2.755492870567328E10
        ],
        [
         "2025-07-01",
         "Predicted by Databricks",
         9.591827580300207E8,
         3.2212618486028976E10
        ],
        [
         "2025-07-01",
         "Supervisory Baseline",
         9.153934870384771E8,
         3.1348012757984818E10
        ],
        [
         "2025-07-01",
         "Supervisory Severely Adverse",
         1.1023837260018144E9,
         3.461966044443519E10
        ],
        [
         "2025-08-01",
         "Custom Scenario",
         8.091328903796055E8,
         2.8364061596052883E10
        ],
        [
         "2025-08-01",
         "Predicted by Databricks",
         9.712985865559331E8,
         3.318391707258491E10
        ],
        [
         "2025-08-01",
         "Supervisory Baseline",
         9.305654814793437E8,
         3.227857823946416E10
        ],
        [
         "2025-08-01",
         "Supervisory Severely Adverse",
         1.1196141889620929E9,
         3.573927463339728E10
        ],
        [
         "2025-09-01",
         "Custom Scenario",
         8.229257178521005E8,
         2.9186987313904984E10
        ],
        [
         "2025-09-01",
         "Predicted by Databricks",
         9.833858005223483E8,
         3.4167302873107258E10
        ],
        [
         "2025-09-01",
         "Supervisory Baseline",
         9.4581048829326E8,
         3.322438872775742E10
        ],
        [
         "2025-09-01",
         "Supervisory Severely Adverse",
         1.1368907611371145E9,
         3.687616539453439E10
        ],
        [
         "2025-10-01",
         "Custom Scenario",
         8.350478549645941E8,
         3.002203516886958E10
        ],
        [
         "2025-10-01",
         "Predicted by Databricks",
         9.952389684236721E8,
         3.516254184153093E10
        ],
        [
         "2025-10-01",
         "Supervisory Baseline",
         9.600790904406512E8,
         3.418446781819807E10
        ],
        [
         "2025-10-01",
         "Supervisory Severely Adverse",
         1.1512616965998409E9,
         3.802742709113423E10
        ],
        [
         "2025-11-01",
         "Custom Scenario",
         8.488990475700579E8,
         3.0870934216439636E10
        ],
        [
         "2025-11-01",
         "Predicted by Databricks",
         1.008460517825705E9,
         3.6171002359356636E10
        ],
        [
         "2025-11-01",
         "Supervisory Baseline",
         9.753389892100933E8,
         3.5159806807408165E10
        ],
        [
         "2025-11-01",
         "Supervisory Severely Adverse",
         1.1684307440811236E9,
         3.9195857835215355E10
        ],
        [
         "2025-12-01",
         "Custom Scenario",
         8.627675168276753E8,
         3.173370173326731E10
        ],
        [
         "2025-12-01",
         "Predicted by Databricks",
         1.0222799734441522E9,
         3.719328233280079E10
        ],
        [
         "2025-12-01",
         "Supervisory Baseline",
         9.905862117216892E8,
         3.615039301912985E10
        ],
        [
         "2025-12-01",
         "Supervisory Severely Adverse",
         1.1855294493725266E9,
         4.038138728458788E10
        ],
        [
         "2026-01-01",
         "Custom Scenario",
         8.72001762158312E8,
         3.2605703495425625E10
        ],
        [
         "2026-01-01",
         "Predicted by Databricks",
         1.0334733846694992E9,
         3.822675571747029E10
        ],
        [
         "2026-01-01",
         "Supervisory Baseline",
         1.0016484458012384E9,
         3.715204146493109E10
        ],
        [
         "2026-01-01",
         "Supervisory Severely Adverse",
         1.1983738225266836E9,
         4.157976110711456E10
        ],
        [
         "2026-02-01",
         "Custom Scenario",
         8.86170834807766E8,
         3.349187433023339E10
        ],
        [
         "2026-02-01",
         "Predicted by Databricks",
         1.0452280775589467E9,
         3.9271983795029236E10
        ],
        [
         "2026-02-01",
         "Supervisory Baseline",
         1.0172272996643739E9,
         3.816926876459547E10
        ],
        [
         "2026-02-01",
         "Supervisory Severely Adverse",
         1.215842728578095E9,
         4.279560383569266E10
        ],
        [
         "2026-03-01",
         "Custom Scenario",
         9.004441953366077E8,
         3.439231852557E10
        ],
        [
         "2026-03-01",
         "Predicted by Databricks",
         1.0560558558369284E9,
         4.0328039650866165E10
        ],
        [
         "2026-03-01",
         "Supervisory Baseline",
         1.0328906544955397E9,
         3.9202159419091E10
        ],
        [
         "2026-03-01",
         "Supervisory Severely Adverse",
         1.2333555858500698E9,
         4.4028959421542725E10
        ],
        [
         "2026-04-01",
         "Custom Scenario",
         9.108976994618787E8,
         3.5303216225031876E10
        ],
        [
         "2026-04-01",
         "Predicted by Databricks",
         1.0698870427394425E9,
         4.1397926693605606E10
        ],
        [
         "2026-04-01",
         "Supervisory Baseline",
         1.045244795410448E9,
         4.024740421450145E10
        ],
        [
         "2026-04-01",
         "Supervisory Severely Adverse",
         1.246706046356096E9,
         4.527566546789882E10
        ],
        [
         "2026-05-01",
         "Custom Scenario",
         9.255141235124524E8,
         3.622873034854433E10
        ],
        [
         "2026-05-01",
         "Predicted by Databricks",
         1.085542282458169E9,
         4.2483468976063774E10
        ],
        [
         "2026-05-01",
         "Supervisory Baseline",
         1.0612816140201318E9,
         4.130868582852158E10
        ],
        [
         "2026-05-01",
         "Supervisory Severely Adverse",
         1.264622330240668E9,
         4.654028779813949E10
        ],
        [
         "2026-06-01",
         "Custom Scenario",
         9.403458897867357E8,
         3.716907623833106E10
        ],
        [
         "2026-06-01",
         "Predicted by Databricks",
         1.1012482910031047E9,
         4.358471726706688E10
        ],
        [
         "2026-06-01",
         "Supervisory Baseline",
         1.0775465808104913E9,
         4.238623240933208E10
        ],
        [
         "2026-06-01",
         "Supervisory Severely Adverse",
         1.2827857282845094E9,
         4.7823073526423996E10
        ],
        [
         "2026-07-01",
         "Custom Scenario",
         9.51093177212929E8,
         3.812016941554399E10
        ],
        [
         "2026-07-01",
         "Predicted by Databricks",
         1.1144862280150776E9,
         4.4699203495081955E10
        ],
        [
         "2026-07-01",
         "Supervisory Baseline",
         1.0902320885144794E9,
         4.347646449784656E10
        ],
        [
         "2026-07-01",
         "Supervisory Severely Adverse",
         1.2951315713210876E9,
         4.911820509774509E10
        ],
        [
         "2026-08-01",
         "Custom Scenario",
         9.661230321082095E8,
         3.90862924476522E10
        ],
        [
         "2026-08-01",
         "Predicted by Databricks",
         1.1270086315926828E9,
         4.582621212667464E10
        ],
        [
         "2026-08-01",
         "Supervisory Baseline",
         1.106691428933242E9,
         4.45831559267798E10
        ],
        [
         "2026-08-01",
         "Supervisory Severely Adverse",
         1.3134495250164452E9,
         5.0431654622761536E10
        ],
        [
         "2026-09-01",
         "Custom Scenario",
         9.81048148951809E8,
         4.006734059660401E10
        ],
        [
         "2026-09-01",
         "Predicted by Databricks",
         1.1390462293604581E9,
         4.6965258356035095E10
        ],
        [
         "2026-09-01",
         "Supervisory Baseline",
         1.123006964559224E9,
         4.570616289133903E10
        ],
        [
         "2026-09-01",
         "Supervisory Severely Adverse",
         1.3315620053906941E9,
         5.176321662815223E10
        ],
        [
         "2026-10-01",
         "Custom Scenario",
         9.918614757056967E8,
         4.105920207230971E10
        ],
        [
         "2026-10-01",
         "Predicted by Databricks",
         1.1518619222178195E9,
         4.8117120278252914E10
        ],
        [
         "2026-10-01",
         "Supervisory Baseline",
         1.1357439635542793E9,
         4.684190685489331E10
        ],
        [
         "2026-10-01",
         "Supervisory Severely Adverse",
         1.34044531939889E9,
         5.310366194755112E10
        ]
       ],
       "datasetInfos": [],
       "dbfsResultPath": null,
       "isJsonSchema": true,
       "metadata": {},
       "overflow": false,
       "plotOptions": {
        "customPlotOptions": {},
        "displayType": "table",
        "pivotAggregation": null,
        "pivotColumns": null,
        "xColumns": null,
        "yColumns": null
       },
       "removedWidgets": [],
       "schema": [
        {
         "metadata": "{}",
         "name": "date",
         "type": "\"date\""
        },
        {
         "metadata": "{}",
         "name": "scenario",
         "type": "\"string\""
        },
        {
         "metadata": "{}",
         "name": "ECL",
         "type": "\"double\""
        },
        {
         "metadata": "{}",
         "name": "cumulative_ecl",
         "type": "\"double\""
        }
       ],
       "type": "table"
      }
     },
     "output_type": "display_data"
    },
    {
     "output_type": "display_data",
     "data": {
      "text/plain": [
       "Databricks visualization. Run in Databricks to view."
      ]
     },
     "metadata": {
      "application/vnd.databricks.v1.subcommand+json": {
       "baseErrorDetails": null,
       "bindings": {},
       "collapsed": false,
       "command": "%python\n__backend_agg_display_orig = display\n__backend_agg_dfs = []\ndef __backend_agg_display_new(df):\n    __backend_agg_df_modules = [\"pandas.core.frame\", \"databricks.koalas.frame\", \"pyspark.sql.dataframe\", \"pyspark.pandas.frame\", \"pyspark.sql.connect.dataframe\"]\n    if (type(df).__module__ in __backend_agg_df_modules and type(df).__name__ == 'DataFrame') or isinstance(df, list):\n        __backend_agg_dfs.append(df)\n\ndisplay = __backend_agg_display_new\n\ndef __backend_agg_user_code_fn():\n    import base64\n    exec(base64.standard_b64decode(\"ZnJvbSBweXNwYXJrLnNxbC5mdW5jdGlvbnMgaW1wb3J0IGNvbCwgc3VtCmZyb20gcHlzcGFyay5zcWwud2luZG93IGltcG9ydCBXaW5kb3cKCiMgR3JvdXAgYnkgJ2RhdGUnIGFuZCAnc2NlbmFyaW8nLCBzdW0gJ0VDTCcsIGFuZCBjYWxjdWxhdGUgY3VtdWxhdGl2ZSBFQ0wKYWdncmVnYXRlZF9kZiA9IChwcmVkaWN0ZWQud2l0aENvbHVtbigiZGF0ZSIsIGNvbCgiZGF0ZSIpLmNhc3QoImRhdGUiKSkKICAgICAgICAgICAgICAgICAuZ3JvdXBCeSgiZGF0ZSIsICJzY2VuYXJpbyIpCiAgICAgICAgICAgICAgICAgLmFnZyhzdW0oIkVDTCIpLmFsaWFzKCJFQ0wiKSkKICAgICAgICAgICAgICAgICAud2l0aENvbHVtbigiY3VtdWxhdGl2ZV9lY2wiLCBzdW0oIkVDTCIpLm92ZXIoV2luZG93LnBhcnRpdGlvbkJ5KCJzY2VuYXJpbyIpLm9yZGVyQnkoImRhdGUiKS5yb3dzQmV0d2VlbihXaW5kb3cudW5ib3VuZGVkUHJlY2VkaW5nLCAwKSkpCiAgICAgICAgICAgICAgICAgLm9yZGVyQnkoImRhdGUiKSkKCiMgRGlzcGxheSB0aGUgcmVzdWx0CmRpc3BsYXkoYWdncmVnYXRlZF9kZik=\").decode())\n\ntry:\n    # run user code\n    __backend_agg_user_code_fn()\n\n    #reset display function\n    display = __backend_agg_display_orig\n\n    if len(__backend_agg_dfs) > 0:\n        # create a temp view\n        if type(__backend_agg_dfs[0]).__module__ == \"databricks.koalas.frame\":\n            # koalas dataframe\n            __backend_agg_dfs[0].to_spark().createOrReplaceTempView(\"DatabricksView1533d26\")\n        elif type(__backend_agg_dfs[0]).__module__ == \"pandas.core.frame\" or isinstance(__backend_agg_dfs[0], list):\n            # pandas dataframe\n            spark.createDataFrame(__backend_agg_dfs[0]).createOrReplaceTempView(\"DatabricksView1533d26\")\n        else:\n            __backend_agg_dfs[0].createOrReplaceTempView(\"DatabricksView1533d26\")\n        #run backend agg\n        display(spark.sql(\"\"\"WITH q AS (select * from DatabricksView1533d26) SELECT `date`,SUM(`cumulative_ecl`) `column_22aeb9e5641`,`scenario` FROM q GROUP BY `date`,`scenario`\"\"\"))\n    else:\n        displayHTML(\"dataframe no longer exists. If you're using dataframe.display(), use display(dataframe) instead.\")\n\n\nfinally:\n    spark.sql(\"drop view if exists DatabricksView1533d26\")\n    display = __backend_agg_display_orig\n    del __backend_agg_display_new\n    del __backend_agg_display_orig\n    del __backend_agg_dfs\n    del __backend_agg_user_code_fn\n\n",
       "commandTitle": "Visualization 1",
       "commandType": "auto",
       "commandVersion": 0,
       "commentThread": [],
       "commentsVisible": false,
       "contentSha256Hex": null,
       "customPlotOptions": {
        "redashChart": [
         {
          "key": "type",
          "value": "CHART"
         },
         {
          "key": "options",
          "value": {
           "alignYAxesAtZero": true,
           "coefficient": 1,
           "columnConfigurationMap": {
            "series": {
             "column": "scenario",
             "id": "column_22aeb9e5639"
            },
            "x": {
             "column": "date",
             "id": "column_22aeb9e5637"
            },
            "y": [
             {
              "column": "cumulative_ecl",
              "id": "column_22aeb9e5641",
              "transform": "SUM"
             }
            ]
           },
           "dateTimeFormat": "DD/MM/YYYY HH:mm",
           "direction": {
            "type": "counterclockwise"
           },
           "error_y": {
            "type": "data",
            "visible": true
           },
           "globalSeriesType": "line",
           "isAggregationOn": true,
           "legend": {
            "traceorder": "normal"
           },
           "missingValuesAsZero": true,
           "numberFormat": "0,0.[00000]",
           "percentFormat": "0[.]00%",
           "series": {
            "error_y": {
             "type": "data",
             "visible": true
            },
            "stacking": null
           },
           "seriesOptions": {
            "column_22aeb9e5641": {
             "type": "line",
             "yAxis": 0
            }
           },
           "showDataLabels": false,
           "sizemode": "diameter",
           "sortX": true,
           "sortY": true,
           "swappedAxes": false,
           "textFormat": "",
           "useAggregationsUi": true,
           "valuesOptions": {},
           "version": 2,
           "xAxis": {
            "labels": {
             "enabled": true
            },
            "type": "-"
           },
           "yAxis": [
            {
             "type": "-"
            },
            {
             "opposite": true,
             "type": "-"
            }
           ]
          }
         }
        ]
       },
       "datasetPreviewNameToCmdIdMap": {},
       "diffDeletes": [],
       "diffInserts": [],
       "displayType": "redashChart",
       "error": null,
       "errorDetails": null,
       "errorSummary": null,
       "errorTraceType": null,
       "finishTime": 0,
       "globalVars": {},
       "guid": "",
       "height": "auto",
       "hideCommandCode": false,
       "hideCommandResult": false,
       "iPythonMetadata": null,
       "inputWidgets": {},
       "isLockedInExamMode": false,
       "latestAssumeRoleInfo": null,
       "latestUser": "a user",
       "latestUserId": null,
       "listResultMetadata": null,
       "metadata": {},
       "nuid": "8b54881d-b948-4e58-bcf1-274b1d9d3fdf",
       "origId": 0,
       "parentHierarchy": [],
       "pivotAggregation": null,
       "pivotColumns": null,
       "position": 18.5,
       "resultDbfsErrorMessage": null,
       "resultDbfsStatus": "INLINED_IN_TREE",
       "results": null,
       "showCommandTitle": false,
       "startTime": 0,
       "state": "input",
       "streamStates": {},
       "subcommandOptions": {
        "queryPlan": {
         "groups": [
          {
           "column": "date",
           "type": "column"
          },
          {
           "column": "scenario",
           "type": "column"
          }
         ],
         "selects": [
          {
           "column": "date",
           "type": "column"
          },
          {
           "alias": "column_22aeb9e5641",
           "args": [
            {
             "column": "cumulative_ecl",
             "type": "column"
            }
           ],
           "function": "SUM",
           "type": "function"
          },
          {
           "column": "scenario",
           "type": "column"
          }
         ]
        }
       },
       "submitTime": 0,
       "subtype": "tableResultSubCmd.visualization",
       "tableResultIndex": 0,
       "tableResultSettingsMap": {},
       "useConsistentColors": false,
       "version": "CommandV1",
       "width": "auto",
       "workflows": [],
       "xColumns": null,
       "yColumns": null
      }
     },
     "output_type": "display_data"
    }
   ],
   "source": [
    "from pyspark.sql.functions import col, sum\n",
    "from pyspark.sql.window import Window\n",
    "\n",
    "# Group by 'date' and 'scenario', sum 'ECL', and calculate cumulative ECL\n",
    "aggregated_df = (predicted.withColumn(\"date\", col(\"date\").cast(\"date\"))\n",
    "                 .groupBy(\"date\", \"scenario\")\n",
    "                 .agg(sum(\"ECL\").alias(\"ECL\"))\n",
    "                 .withColumn(\"cumulative_ecl\", sum(\"ECL\").over(Window.partitionBy(\"scenario\").orderBy(\"date\").rowsBetween(Window.unboundedPreceding, 0)))\n",
    "                 .orderBy(\"date\"))\n",
    "\n",
    "# Display the result\n",
    "display(aggregated_df)"
   ]
  },
  {
   "cell_type": "code",
   "execution_count": 0,
   "metadata": {
    "application/vnd.databricks.v1+cell": {
     "cellMetadata": {
      "byteLimit": 2048000,
      "rowLimit": 10000
     },
     "inputWidgets": {},
     "nuid": "d5f6d3f8-fb11-4f62-9c2e-5dccccf18439",
     "showTitle": true,
     "tableResultSettingsMap": {},
     "title": "ECL by Month"
    }
   },
   "outputs": [
    {
     "output_type": "display_data",
     "data": {
      "text/html": [
       "<style scoped>\n",
       "  .table-result-container {\n",
       "    max-height: 300px;\n",
       "    overflow: auto;\n",
       "  }\n",
       "  table, th, td {\n",
       "    border: 1px solid black;\n",
       "    border-collapse: collapse;\n",
       "  }\n",
       "  th, td {\n",
       "    padding: 5px;\n",
       "  }\n",
       "  th {\n",
       "    text-align: left;\n",
       "  }\n",
       "</style><div class='table-result-container'><table class='table-result'><thead style='background-color: white'><tr><th>date</th><th>scenario</th><th>ECL</th></tr></thead><tbody><tr><td>2021-09-01</td><td>Supervisory Severely Adverse</td><td>4.862490410924988E8</td></tr><tr><td>2021-09-01</td><td>Predicted by Databricks</td><td>4.3281122911745673E8</td></tr><tr><td>2021-09-01</td><td>Supervisory Baseline</td><td>4.577669953227846E8</td></tr><tr><td>2021-09-01</td><td>Custom Scenario</td><td>4.177614176490449E8</td></tr><tr><td>2021-10-01</td><td>Supervisory Severely Adverse</td><td>5.093746355113331E8</td></tr><tr><td>2021-10-01</td><td>Predicted by Databricks</td><td>4.421746460614249E8</td></tr><tr><td>2021-10-01</td><td>Supervisory Baseline</td><td>4.6703385475407094E8</td></tr><tr><td>2021-10-01</td><td>Custom Scenario</td><td>4.257107212886301E8</td></tr><tr><td>2021-11-01</td><td>Supervisory Severely Adverse</td><td>5.226976496543227E8</td></tr><tr><td>2021-11-01</td><td>Predicted by Databricks</td><td>4.5291160569799167E8</td></tr><tr><td>2021-11-01</td><td>Supervisory Baseline</td><td>4.7936165817133564E8</td></tr><tr><td>2021-11-01</td><td>Custom Scenario</td><td>4.3704956694698334E8</td></tr><tr><td>2021-12-01</td><td>Supervisory Severely Adverse</td><td>5.36131283721751E8</td></tr><tr><td>2021-12-01</td><td>Predicted by Databricks</td><td>4.636798363899117E8</td></tr><tr><td>2021-12-01</td><td>Supervisory Baseline</td><td>4.918011835426496E8</td></tr><tr><td>2021-12-01</td><td>Custom Scenario</td><td>4.4849977776161075E8</td></tr><tr><td>2022-01-01</td><td>Supervisory Severely Adverse</td><td>4.9047952747729546E8</td></tr><tr><td>2022-01-01</td><td>Predicted by Databricks</td><td>4.742512939769074E8</td></tr><tr><td>2022-01-01</td><td>Supervisory Baseline</td><td>4.627627140038838E8</td></tr><tr><td>2022-01-01</td><td>Custom Scenario</td><td>4.117992837124667E8</td></tr><tr><td>2022-02-01</td><td>Supervisory Severely Adverse</td><td>5.0284095010945386E8</td></tr><tr><td>2022-02-01</td><td>Predicted by Databricks</td><td>4.8506065934979004E8</td></tr><tr><td>2022-02-01</td><td>Supervisory Baseline</td><td>4.7450324015454763E8</td></tr><tr><td>2022-02-01</td><td>Custom Scenario</td><td>4.223772191306849E8</td></tr><tr><td>2022-03-01</td><td>Supervisory Severely Adverse</td><td>5.1531876481870025E8</td></tr><tr><td>2022-03-01</td><td>Predicted by Databricks</td><td>4.9612175471870345E8</td></tr><tr><td>2022-03-01</td><td>Supervisory Baseline</td><td>4.863599746350663E8</td></tr><tr><td>2022-03-01</td><td>Custom Scenario</td><td>4.3306948271902716E8</td></tr><tr><td>2022-04-01</td><td>Supervisory Severely Adverse</td><td>5.45191620425786E8</td></tr><tr><td>2022-04-01</td><td>Predicted by Databricks</td><td>5.073519514708894E8</td></tr><tr><td>2022-04-01</td><td>Supervisory Baseline</td><td>4.919891681197611E8</td></tr><tr><td>2022-04-01</td><td>Custom Scenario</td><td>4.372312797666674E8</td></tr><tr><td>2022-05-01</td><td>Supervisory Severely Adverse</td><td>5.582594011031138E8</td></tr><tr><td>2022-05-01</td><td>Predicted by Databricks</td><td>5.184970186350725E8</td></tr><tr><td>2022-05-01</td><td>Supervisory Baseline</td><td>5.039432860550598E8</td></tr><tr><td>2022-05-01</td><td>Custom Scenario</td><td>4.4800784356456065E8</td></tr><tr><td>2022-06-01</td><td>Supervisory Severely Adverse</td><td>5.714461523405495E8</td></tr><tr><td>2022-06-01</td><td>Predicted by Databricks</td><td>5.2956532672194386E8</td></tr><tr><td>2022-06-01</td><td>Supervisory Baseline</td><td>5.160162201275072E8</td></tr><tr><td>2022-06-01</td><td>Custom Scenario</td><td>4.589010543788677E8</td></tr><tr><td>2022-07-01</td><td>Supervisory Severely Adverse</td><td>6.008124875201924E8</td></tr><tr><td>2022-07-01</td><td>Predicted by Databricks</td><td>5.391212960080551E8</td></tr><tr><td>2022-07-01</td><td>Supervisory Baseline</td><td>5.232168528669539E8</td></tr><tr><td>2022-07-01</td><td>Custom Scenario</td><td>4.645707640054398E8</td></tr><tr><td>2022-08-01</td><td>Supervisory Severely Adverse</td><td>6.145161610942965E8</td></tr><tr><td>2022-08-01</td><td>Predicted by Databricks</td><td>5.488864381892235E8</td></tr><tr><td>2022-08-01</td><td>Supervisory Baseline</td><td>5.3540217981316227E8</td></tr><tr><td>2022-08-01</td><td>Custom Scenario</td><td>4.755662694937884E8</td></tr><tr><td>2022-09-01</td><td>Supervisory Severely Adverse</td><td>6.283523247052937E8</td></tr><tr><td>2022-09-01</td><td>Predicted by Databricks</td><td>5.58586674475387E8</td></tr><tr><td>2022-09-01</td><td>Supervisory Baseline</td><td>5.477204463400152E8</td></tr><tr><td>2022-09-01</td><td>Custom Scenario</td><td>4.86692249271798E8</td></tr><tr><td>2022-10-01</td><td>Supervisory Severely Adverse</td><td>6.556982206601526E8</td></tr><tr><td>2022-10-01</td><td>Predicted by Databricks</td><td>5.683297327919738E8</td></tr><tr><td>2022-10-01</td><td>Supervisory Baseline</td><td>5.564196365761793E8</td></tr><tr><td>2022-10-01</td><td>Custom Scenario</td><td>4.937860302116921E8</td></tr><tr><td>2022-11-01</td><td>Supervisory Severely Adverse</td><td>6.699980348304012E8</td></tr><tr><td>2022-11-01</td><td>Predicted by Databricks</td><td>5.79381683901484E8</td></tr><tr><td>2022-11-01</td><td>Supervisory Baseline</td><td>5.688962526763011E8</td></tr><tr><td>2022-11-01</td><td>Custom Scenario</td><td>5.0505892074461687E8</td></tr><tr><td>2022-12-01</td><td>Supervisory Severely Adverse</td><td>6.844310667157913E8</td></tr><tr><td>2022-12-01</td><td>Predicted by Databricks</td><td>5.910021096043657E8</td></tr><tr><td>2022-12-01</td><td>Supervisory Baseline</td><td>5.81506845753819E8</td></tr><tr><td>2022-12-01</td><td>Custom Scenario</td><td>5.1646343795464367E8</td></tr><tr><td>2023-01-01</td><td>Supervisory Severely Adverse</td><td>7.112337905265837E8</td></tr><tr><td>2023-01-01</td><td>Predicted by Databricks</td><td>6.029818514901384E8</td></tr><tr><td>2023-01-01</td><td>Supervisory Baseline</td><td>5.908833334484468E8</td></tr><tr><td>2023-01-01</td><td>Custom Scenario</td><td>5.242137951459767E8</td></tr><tr><td>2023-02-01</td><td>Supervisory Severely Adverse</td><td>7.261126623111032E8</td></tr><tr><td>2023-02-01</td><td>Predicted by Databricks</td><td>6.150151581812261E8</td></tr><tr><td>2023-02-01</td><td>Supervisory Baseline</td><td>6.036788812548387E8</td></tr><tr><td>2023-02-01</td><td>Custom Scenario</td><td>5.357908561775716E8</td></tr><tr><td>2023-03-01</td><td>Supervisory Severely Adverse</td><td>7.411084604340601E8</td></tr><tr><td>2023-03-01</td><td>Predicted by Databricks</td><td>6.245608083280982E8</td></tr><tr><td>2023-03-01</td><td>Supervisory Baseline</td><td>6.165955793202391E8</td></tr><tr><td>2023-03-01</td><td>Custom Scenario</td><td>5.474884512492788E8</td></tr><tr><td>2023-04-01</td><td>Supervisory Severely Adverse</td><td>7.646464607525713E8</td></tr><tr><td>2023-04-01</td><td>Predicted by Databricks</td><td>6.37517187290962E8</td></tr><tr><td>2023-04-01</td><td>Supervisory Baseline</td><td>6.256290434355606E8</td></tr><tr><td>2023-04-01</td><td>Custom Scenario</td><td>5.54823953284199E8</td></tr><tr><td>2023-05-01</td><td>Supervisory Severely Adverse</td><td>7.798840029276834E8</td></tr><tr><td>2023-05-01</td><td>Predicted by Databricks</td><td>6.496182207904228E8</td></tr><tr><td>2023-05-01</td><td>Supervisory Baseline</td><td>6.386059557983667E8</td></tr><tr><td>2023-05-01</td><td>Custom Scenario</td><td>5.665744072766753E8</td></tr><tr><td>2023-06-01</td><td>Supervisory Severely Adverse</td><td>7.953506184572514E8</td></tr><tr><td>2023-06-01</td><td>Predicted by Databricks</td><td>6.614329418042725E8</td></tr><tr><td>2023-06-01</td><td>Supervisory Baseline</td><td>6.518126106844479E8</td></tr><tr><td>2023-06-01</td><td>Custom Scenario</td><td>5.785514897442535E8</td></tr><tr><td>2023-07-01</td><td>Supervisory Severely Adverse</td><td>8.187093795609685E8</td></tr><tr><td>2023-07-01</td><td>Predicted by Databricks</td><td>6.714569144128538E8</td></tr><tr><td>2023-07-01</td><td>Supervisory Baseline</td><td>6.614303786900644E8</td></tr><tr><td>2023-07-01</td><td>Custom Scenario</td><td>5.864273195712085E8</td></tr><tr><td>2023-08-01</td><td>Supervisory Severely Adverse</td><td>8.345333697961287E8</td></tr><tr><td>2023-08-01</td><td>Predicted by Databricks</td><td>6.814231081774291E8</td></tr><tr><td>2023-08-01</td><td>Supervisory Baseline</td><td>6.748310157428116E8</td></tr><tr><td>2023-08-01</td><td>Custom Scenario</td><td>5.98586289330405E8</td></tr><tr><td>2023-09-01</td><td>Supervisory Severely Adverse</td><td>8.504985673072743E8</td></tr><tr><td>2023-09-01</td><td>Predicted by Databricks</td><td>6.912385778917401E8</td></tr><tr><td>2023-09-01</td><td>Supervisory Baseline</td><td>6.883719236798904E8</td></tr><tr><td>2023-09-01</td><td>Custom Scenario</td><td>6.108826853780009E8</td></tr><tr><td>2023-10-01</td><td>Supervisory Severely Adverse</td><td>8.733054143086423E8</td></tr><tr><td>2023-10-01</td><td>Predicted by Databricks</td><td>7.014500682285601E8</td></tr><tr><td>2023-10-01</td><td>Supervisory Baseline</td><td>6.986654949095476E8</td></tr><tr><td>2023-10-01</td><td>Custom Scenario</td><td>6.193871038973261E8</td></tr><tr><td>2023-11-01</td><td>Supervisory Severely Adverse</td><td>8.895792263592901E8</td></tr><tr><td>2023-11-01</td><td>Predicted by Databricks</td><td>7.127594893191572E8</td></tr><tr><td>2023-11-01</td><td>Supervisory Baseline</td><td>7.123905196761174E8</td></tr><tr><td>2023-11-01</td><td>Custom Scenario</td><td>6.318593205028605E8</td></tr><tr><td>2023-12-01</td><td>Supervisory Severely Adverse</td><td>9.059839608961554E8</td></tr><tr><td>2023-12-01</td><td>Predicted by Databricks</td><td>7.254063311456151E8</td></tr><tr><td>2023-12-01</td><td>Supervisory Baseline</td><td>7.262540309028543E8</td></tr><tr><td>2023-12-01</td><td>Custom Scenario</td><td>6.444697907191892E8</td></tr><tr><td>2024-01-01</td><td>Supervisory Severely Adverse</td><td>7.880910849626522E8</td></tr><tr><td>2024-01-01</td><td>Predicted by Databricks</td><td>7.392051986703078E8</td></tr><tr><td>2024-01-01</td><td>Supervisory Baseline</td><td>6.881197910920546E8</td></tr><tr><td>2024-01-01</td><td>Custom Scenario</td><td>5.98059489459248E8</td></tr><tr><td>2024-02-01</td><td>Supervisory Severely Adverse</td><td>8.02892390363698E8</td></tr><tr><td>2024-02-01</td><td>Predicted by Databricks</td><td>7.527113735851834E8</td></tr><tr><td>2024-02-01</td><td>Supervisory Baseline</td><td>7.014526920214578E8</td></tr><tr><td>2024-02-01</td><td>Custom Scenario</td><td>6.099872839237326E8</td></tr><tr><td>2024-03-01</td><td>Supervisory Severely Adverse</td><td>8.178335120799372E8</td></tr><tr><td>2024-03-01</td><td>Predicted by Databricks</td><td>7.654931550613972E8</td></tr><tr><td>2024-03-01</td><td>Supervisory Baseline</td><td>7.149256583721623E8</td></tr><tr><td>2024-03-01</td><td>Custom Scenario</td><td>6.220526619343523E8</td></tr><tr><td>2024-04-01</td><td>Supervisory Severely Adverse</td><td>8.713643191309206E8</td></tr><tr><td>2024-04-01</td><td>Predicted by Databricks</td><td>7.761042758972769E8</td></tr><tr><td>2024-04-01</td><td>Supervisory Baseline</td><td>7.25958835087791E8</td></tr><tr><td>2024-04-01</td><td>Custom Scenario</td><td>6.313478485636994E8</td></tr><tr><td>2024-05-01</td><td>Supervisory Severely Adverse</td><td>8.870224808645513E8</td></tr><tr><td>2024-05-01</td><td>Predicted by Databricks</td><td>7.87938402845672E8</td></tr><tr><td>2024-05-01</td><td>Supervisory Baseline</td><td>7.396171074604173E8</td></tr><tr><td>2024-05-01</td><td>Custom Scenario</td><td>6.435981986945738E8</td></tr><tr><td>2024-06-01</td><td>Supervisory Severely Adverse</td><td>9.028080893850449E8</td></tr><tr><td>2024-06-01</td><td>Predicted by Databricks</td><td>8.003070986571449E8</td></tr><tr><td>2024-06-01</td><td>Supervisory Baseline</td><td>7.534073568106097E8</td></tr><tr><td>2024-06-01</td><td>Custom Scenario</td><td>6.559801394331329E8</td></tr><tr><td>2024-07-01</td><td>Supervisory Severely Adverse</td><td>9.523684753354703E8</td></tr><tr><td>2024-07-01</td><td>Predicted by Databricks</td><td>8.101014949104851E8</td></tr><tr><td>2024-07-01</td><td>Supervisory Baseline</td><td>7.658031087534859E8</td></tr><tr><td>2024-07-01</td><td>Custom Scenario</td><td>6.666466860325176E8</td></tr><tr><td>2024-08-01</td><td>Supervisory Severely Adverse</td><td>9.687337149128008E8</td></tr><tr><td>2024-08-01</td><td>Predicted by Databricks</td><td>8.211079635279448E8</td></tr><tr><td>2024-08-01</td><td>Supervisory Baseline</td><td>7.797724174893628E8</td></tr><tr><td>2024-08-01</td><td>Custom Scenario</td><td>6.792128874367162E8</td></tr><tr><td>2024-09-01</td><td>Supervisory Severely Adverse</td><td>9.851645882690127E8</td></tr><tr><td>2024-09-01</td><td>Predicted by Databricks</td><td>8.321623392477404E8</td></tr><tr><td>2024-09-01</td><td>Supervisory Baseline</td><td>7.938320168686827E8</td></tr><tr><td>2024-09-01</td><td>Custom Scenario</td><td>6.918773630855033E8</td></tr><tr><td>2024-10-01</td><td>Supervisory Severely Adverse</td><td>1.0279204556799004E9</td></tr><tr><td>2024-10-01</td><td>Predicted by Databricks</td><td>8.42450854401094E8</td></tr><tr><td>2024-10-01</td><td>Supervisory Baseline</td><td>8.050658910139489E8</td></tr><tr><td>2024-10-01</td><td>Custom Scenario</td><td>7.013608104226596E8</td></tr><tr><td>2024-11-01</td><td>Supervisory Severely Adverse</td><td>1.0450145051447135E9</td></tr><tr><td>2024-11-01</td><td>Predicted by Databricks</td><td>8.559892571225312E8</td></tr><tr><td>2024-11-01</td><td>Supervisory Baseline</td><td>8.194373337659692E8</td></tr><tr><td>2024-11-01</td><td>Custom Scenario</td><td>7.143166417601819E8</td></tr><tr><td>2024-12-01</td><td>Supervisory Severely Adverse</td><td>1.0621783087772204E9</td></tr><tr><td>2024-12-01</td><td>Predicted by Databricks</td><td>8.687666304205353E8</td></tr><tr><td>2024-12-01</td><td>Supervisory Baseline</td><td>8.339045857327306E8</td></tr><tr><td>2024-12-01</td><td>Custom Scenario</td><td>7.273756398349607E8</td></tr><tr><td>2025-01-01</td><td>Supervisory Severely Adverse</td><td>1.0964522977295988E9</td></tr><tr><td>2025-01-01</td><td>Predicted by Databricks</td><td>8.802462698191551E8</td></tr><tr><td>2025-01-01</td><td>Supervisory Baseline</td><td>8.451499426838764E8</td></tr><tr><td>2025-01-01</td><td>Custom Scenario</td><td>7.368740770477675E8</td></tr><tr><td>2025-02-01</td><td>Supervisory Severely Adverse</td><td>1.1140247920357015E9</td></tr><tr><td>2025-02-01</td><td>Predicted by Databricks</td><td>8.924156030177884E8</td></tr><tr><td>2025-02-01</td><td>Supervisory Baseline</td><td>8.598353898803474E8</td></tr><tr><td>2025-02-01</td><td>Custom Scenario</td><td>7.501486640773481E8</td></tr><tr><td>2025-03-01</td><td>Supervisory Severely Adverse</td><td>1.1317329417701263E9</td></tr><tr><td>2025-03-01</td><td>Predicted by Databricks</td><td>9.090254106660483E8</td></tr><tr><td>2025-03-01</td><td>Supervisory Baseline</td><td>8.746605017382289E8</td></tr><tr><td>2025-03-01</td><td>Custom Scenario</td><td>7.635623962508638E8</td></tr><tr><td>2025-04-01</td><td>Supervisory Severely Adverse</td><td>1.1604321934508924E9</td></tr><tr><td>2025-04-01</td><td>Predicted by Databricks</td><td>9.214103427146919E8</td></tr><tr><td>2025-04-01</td><td>Supervisory Baseline</td><td>8.865528191806076E8</td></tr><tr><td>2025-04-01</td><td>Custom Scenario</td><td>7.737019803383539E8</td></tr><tr><td>2025-05-01</td><td>Supervisory Severely Adverse</td><td>1.1784809477440243E9</td></tr><tr><td>2025-05-01</td><td>Predicted by Databricks</td><td>9.344098874278215E8</td></tr><tr><td>2025-05-01</td><td>Supervisory Baseline</td><td>9.016093576981071E8</td></tr><tr><td>2025-05-01</td><td>Custom Scenario</td><td>7.873450932544835E8</td></tr><tr><td>2025-06-01</td><td>Supervisory Severely Adverse</td><td>1.196659753368324E9</td></tr><tr><td>2025-06-01</td><td>Predicted by Databricks</td><td>9.476373825582495E8</td></tr><tr><td>2025-06-01</td><td>Supervisory Baseline</td><td>9.168035794958141E8</td></tr><tr><td>2025-06-01</td><td>Custom Scenario</td><td>8.011265454921807E8</td></tr><tr><td>2025-07-01</td><td>Supervisory Severely Adverse</td><td>1.2222300641898665E9</td></tr><tr><td>2025-07-01</td><td>Predicted by Databricks</td><td>9.580567628888851E8</td></tr><tr><td>2025-07-01</td><td>Supervisory Baseline</td><td>9.301139126706005E8</td></tr><tr><td>2025-07-01</td><td>Custom Scenario</td><td>8.126635455863063E8</td></tr><tr><td>2025-08-01</td><td>Supervisory Severely Adverse</td><td>1.2407446399710736E9</td></tr><tr><td>2025-08-01</td><td>Predicted by Databricks</td><td>9.694422831182239E8</td></tr><tr><td>2025-08-01</td><td>Supervisory Baseline</td><td>9.45575219197381E8</td></tr><tr><td>2025-08-01</td><td>Custom Scenario</td><td>8.267075263957009E8</td></tr><tr><td>2025-09-01</td><td>Supervisory Severely Adverse</td><td>1.2592863204386265E9</td></tr><tr><td>2025-09-01</td><td>Predicted by Databricks</td><td>9.807477872385517E8</td></tr><tr><td>2025-09-01</td><td>Supervisory Baseline</td><td>9.611108448735725E8</td></tr><tr><td>2025-09-01</td><td>Custom Scenario</td><td>8.408391922132132E8</td></tr><tr><td>2025-10-01</td><td>Supervisory Severely Adverse</td><td>1.2647400269753447E9</td></tr><tr><td>2025-10-01</td><td>Predicted by Databricks</td><td>9.915557661560841E8</td></tr><tr><td>2025-10-01</td><td>Supervisory Baseline</td><td>9.734086647354689E8</td></tr><tr><td>2025-10-01</td><td>Custom Scenario</td><td>8.513714262835481E8</td></tr><tr><td>2025-11-01</td><td>Supervisory Severely Adverse</td><td>1.2830136829262166E9</td></tr><tr><td>2025-11-01</td><td>Predicted by Databricks</td><td>1.0051328989804164E9</td></tr><tr><td>2025-11-01</td><td>Supervisory Baseline</td><td>9.889346235418897E8</td></tr><tr><td>2025-11-01</td><td>Custom Scenario</td><td>8.655396694191064E8</td></tr><tr><td>2025-12-01</td><td>Supervisory Severely Adverse</td><td>1.3011775071684546E9</td></tr><tr><td>2025-12-01</td><td>Predicted by Databricks</td><td>1.0185773891508907E9</td></tr><tr><td>2025-12-01</td><td>Supervisory Baseline</td><td>1.0044472447065083E9</td></tr><tr><td>2025-12-01</td><td>Custom Scenario</td><td>8.797248760631425E8</td></tr><tr><td>2026-01-01</td><td>Supervisory Severely Adverse</td><td>1.3047665175085557E9</td></tr><tr><td>2026-01-01</td><td>Predicted by Databricks</td><td>1.031548623101893E9</td></tr><tr><td>2026-01-01</td><td>Supervisory Baseline</td><td>1.0162195949147584E9</td></tr><tr><td>2026-01-01</td><td>Custom Scenario</td><td>8.89750594612309E8</td></tr><tr><td>2026-02-01</td><td>Supervisory Severely Adverse</td><td>1.3232486335375485E9</td></tr><tr><td>2026-02-01</td><td>Predicted by Databricks</td><td>1.0451067027544956E9</td></tr><tr><td>2026-02-01</td><td>Supervisory Baseline</td><td>1.0320774934754169E9</td></tr><tr><td>2026-02-01</td><td>Custom Scenario</td><td>9.042520685711323E8</td></tr><tr><td>2026-03-01</td><td>Supervisory Severely Adverse</td><td>1.34174976638268E9</td></tr><tr><td>2026-03-01</td><td>Predicted by Databricks</td><td>1.0590816154815142E9</td></tr><tr><td>2026-03-01</td><td>Supervisory Baseline</td><td>1.0480206396647145E9</td></tr><tr><td>2026-03-01</td><td>Custom Scenario</td><td>9.1885936897262E8</td></tr><tr><td>2026-04-01</td><td>Supervisory Severely Adverse</td><td>1.3454142065027242E9</td></tr><tr><td>2026-04-01</td><td>Predicted by Databricks</td><td>1.0735258376530432E9</td></tr><tr><td>2026-04-01</td><td>Supervisory Baseline</td><td>1.0610346583515717E9</td></tr><tr><td>2026-04-01</td><td>Custom Scenario</td><td>9.300629089560134E8</td></tr><tr><td>2026-05-01</td><td>Supervisory Severely Adverse</td><td>1.3642624892717998E9</td></tr><tr><td>2026-05-01</td><td>Predicted by Databricks</td><td>1.0877167598713083E9</td></tr><tr><td>2026-05-01</td><td>Supervisory Baseline</td><td>1.0773636281581173E9</td></tr><tr><td>2026-05-01</td><td>Custom Scenario</td><td>9.450279545538297E8</td></tr><tr><td>2026-06-01</td><td>Supervisory Severely Adverse</td><td>1.3833704465207934E9</td></tr><tr><td>2026-06-01</td><td>Predicted by Databricks</td><td>1.1018033573437848E9</td></tr><tr><td>2026-06-01</td><td>Supervisory Baseline</td><td>1.093925660417141E9</td></tr><tr><td>2026-06-01</td><td>Custom Scenario</td><td>9.6021408667972E8</td></tr><tr><td>2026-07-01</td><td>Supervisory Severely Adverse</td><td>1.3881226113190773E9</td></tr><tr><td>2026-07-01</td><td>Predicted by Databricks</td><td>1.1128936305105526E9</td></tr><tr><td>2026-07-01</td><td>Supervisory Baseline</td><td>1.1072967761102002E9</td></tr><tr><td>2026-07-01</td><td>Custom Scenario</td><td>9.717415550340492E8</td></tr><tr><td>2026-08-01</td><td>Supervisory Severely Adverse</td><td>1.4073127569023166E9</td></tr><tr><td>2026-08-01</td><td>Predicted by Databricks</td><td>1.1244200604286652E9</td></tr><tr><td>2026-08-01</td><td>Supervisory Baseline</td><td>1.1240610560815117E9</td></tr><tr><td>2026-08-01</td><td>Custom Scenario</td><td>9.87135654852415E8</td></tr><tr><td>2026-09-01</td><td>Supervisory Severely Adverse</td><td>1.426267568629057E9</td></tr><tr><td>2026-09-01</td><td>Predicted by Databricks</td><td>1.1355225243117535E9</td></tr><tr><td>2026-09-01</td><td>Supervisory Baseline</td><td>1.140676388941491E9</td></tr><tr><td>2026-09-01</td><td>Custom Scenario</td><td>1.0024193598961817E9</td></tr><tr><td>2026-10-01</td><td>Supervisory Severely Adverse</td><td>1.4300669105382066E9</td></tr><tr><td>2026-10-01</td><td>Predicted by Databricks</td><td>1.1468116232195187E9</td></tr><tr><td>2026-10-01</td><td>Supervisory Baseline</td><td>1.154117234686067E9</td></tr><tr><td>2026-10-01</td><td>Custom Scenario</td><td>1.0140350198248397E9</td></tr></tbody></table></div>"
      ]
     },
     "metadata": {
      "application/vnd.databricks.v1+output": {
       "addedWidgets": {},
       "aggData": [],
       "aggError": "",
       "aggOverflow": false,
       "aggSchema": [],
       "aggSeriesLimitReached": false,
       "aggType": "",
       "arguments": {},
       "columnCustomDisplayInfos": {},
       "data": [
        [
         "2021-09-01",
         "Supervisory Severely Adverse",
         4.862490410924988E8
        ],
        [
         "2021-09-01",
         "Predicted by Databricks",
         4.3281122911745673E8
        ],
        [
         "2021-09-01",
         "Supervisory Baseline",
         4.577669953227846E8
        ],
        [
         "2021-09-01",
         "Custom Scenario",
         4.177614176490449E8
        ],
        [
         "2021-10-01",
         "Supervisory Severely Adverse",
         5.093746355113331E8
        ],
        [
         "2021-10-01",
         "Predicted by Databricks",
         4.421746460614249E8
        ],
        [
         "2021-10-01",
         "Supervisory Baseline",
         4.6703385475407094E8
        ],
        [
         "2021-10-01",
         "Custom Scenario",
         4.257107212886301E8
        ],
        [
         "2021-11-01",
         "Supervisory Severely Adverse",
         5.226976496543227E8
        ],
        [
         "2021-11-01",
         "Predicted by Databricks",
         4.5291160569799167E8
        ],
        [
         "2021-11-01",
         "Supervisory Baseline",
         4.7936165817133564E8
        ],
        [
         "2021-11-01",
         "Custom Scenario",
         4.3704956694698334E8
        ],
        [
         "2021-12-01",
         "Supervisory Severely Adverse",
         5.36131283721751E8
        ],
        [
         "2021-12-01",
         "Predicted by Databricks",
         4.636798363899117E8
        ],
        [
         "2021-12-01",
         "Supervisory Baseline",
         4.918011835426496E8
        ],
        [
         "2021-12-01",
         "Custom Scenario",
         4.4849977776161075E8
        ],
        [
         "2022-01-01",
         "Supervisory Severely Adverse",
         4.9047952747729546E8
        ],
        [
         "2022-01-01",
         "Predicted by Databricks",
         4.742512939769074E8
        ],
        [
         "2022-01-01",
         "Supervisory Baseline",
         4.627627140038838E8
        ],
        [
         "2022-01-01",
         "Custom Scenario",
         4.117992837124667E8
        ],
        [
         "2022-02-01",
         "Supervisory Severely Adverse",
         5.0284095010945386E8
        ],
        [
         "2022-02-01",
         "Predicted by Databricks",
         4.8506065934979004E8
        ],
        [
         "2022-02-01",
         "Supervisory Baseline",
         4.7450324015454763E8
        ],
        [
         "2022-02-01",
         "Custom Scenario",
         4.223772191306849E8
        ],
        [
         "2022-03-01",
         "Supervisory Severely Adverse",
         5.1531876481870025E8
        ],
        [
         "2022-03-01",
         "Predicted by Databricks",
         4.9612175471870345E8
        ],
        [
         "2022-03-01",
         "Supervisory Baseline",
         4.863599746350663E8
        ],
        [
         "2022-03-01",
         "Custom Scenario",
         4.3306948271902716E8
        ],
        [
         "2022-04-01",
         "Supervisory Severely Adverse",
         5.45191620425786E8
        ],
        [
         "2022-04-01",
         "Predicted by Databricks",
         5.073519514708894E8
        ],
        [
         "2022-04-01",
         "Supervisory Baseline",
         4.919891681197611E8
        ],
        [
         "2022-04-01",
         "Custom Scenario",
         4.372312797666674E8
        ],
        [
         "2022-05-01",
         "Supervisory Severely Adverse",
         5.582594011031138E8
        ],
        [
         "2022-05-01",
         "Predicted by Databricks",
         5.184970186350725E8
        ],
        [
         "2022-05-01",
         "Supervisory Baseline",
         5.039432860550598E8
        ],
        [
         "2022-05-01",
         "Custom Scenario",
         4.4800784356456065E8
        ],
        [
         "2022-06-01",
         "Supervisory Severely Adverse",
         5.714461523405495E8
        ],
        [
         "2022-06-01",
         "Predicted by Databricks",
         5.2956532672194386E8
        ],
        [
         "2022-06-01",
         "Supervisory Baseline",
         5.160162201275072E8
        ],
        [
         "2022-06-01",
         "Custom Scenario",
         4.589010543788677E8
        ],
        [
         "2022-07-01",
         "Supervisory Severely Adverse",
         6.008124875201924E8
        ],
        [
         "2022-07-01",
         "Predicted by Databricks",
         5.391212960080551E8
        ],
        [
         "2022-07-01",
         "Supervisory Baseline",
         5.232168528669539E8
        ],
        [
         "2022-07-01",
         "Custom Scenario",
         4.645707640054398E8
        ],
        [
         "2022-08-01",
         "Supervisory Severely Adverse",
         6.145161610942965E8
        ],
        [
         "2022-08-01",
         "Predicted by Databricks",
         5.488864381892235E8
        ],
        [
         "2022-08-01",
         "Supervisory Baseline",
         5.3540217981316227E8
        ],
        [
         "2022-08-01",
         "Custom Scenario",
         4.755662694937884E8
        ],
        [
         "2022-09-01",
         "Supervisory Severely Adverse",
         6.283523247052937E8
        ],
        [
         "2022-09-01",
         "Predicted by Databricks",
         5.58586674475387E8
        ],
        [
         "2022-09-01",
         "Supervisory Baseline",
         5.477204463400152E8
        ],
        [
         "2022-09-01",
         "Custom Scenario",
         4.86692249271798E8
        ],
        [
         "2022-10-01",
         "Supervisory Severely Adverse",
         6.556982206601526E8
        ],
        [
         "2022-10-01",
         "Predicted by Databricks",
         5.683297327919738E8
        ],
        [
         "2022-10-01",
         "Supervisory Baseline",
         5.564196365761793E8
        ],
        [
         "2022-10-01",
         "Custom Scenario",
         4.937860302116921E8
        ],
        [
         "2022-11-01",
         "Supervisory Severely Adverse",
         6.699980348304012E8
        ],
        [
         "2022-11-01",
         "Predicted by Databricks",
         5.79381683901484E8
        ],
        [
         "2022-11-01",
         "Supervisory Baseline",
         5.688962526763011E8
        ],
        [
         "2022-11-01",
         "Custom Scenario",
         5.0505892074461687E8
        ],
        [
         "2022-12-01",
         "Supervisory Severely Adverse",
         6.844310667157913E8
        ],
        [
         "2022-12-01",
         "Predicted by Databricks",
         5.910021096043657E8
        ],
        [
         "2022-12-01",
         "Supervisory Baseline",
         5.81506845753819E8
        ],
        [
         "2022-12-01",
         "Custom Scenario",
         5.1646343795464367E8
        ],
        [
         "2023-01-01",
         "Supervisory Severely Adverse",
         7.112337905265837E8
        ],
        [
         "2023-01-01",
         "Predicted by Databricks",
         6.029818514901384E8
        ],
        [
         "2023-01-01",
         "Supervisory Baseline",
         5.908833334484468E8
        ],
        [
         "2023-01-01",
         "Custom Scenario",
         5.242137951459767E8
        ],
        [
         "2023-02-01",
         "Supervisory Severely Adverse",
         7.261126623111032E8
        ],
        [
         "2023-02-01",
         "Predicted by Databricks",
         6.150151581812261E8
        ],
        [
         "2023-02-01",
         "Supervisory Baseline",
         6.036788812548387E8
        ],
        [
         "2023-02-01",
         "Custom Scenario",
         5.357908561775716E8
        ],
        [
         "2023-03-01",
         "Supervisory Severely Adverse",
         7.411084604340601E8
        ],
        [
         "2023-03-01",
         "Predicted by Databricks",
         6.245608083280982E8
        ],
        [
         "2023-03-01",
         "Supervisory Baseline",
         6.165955793202391E8
        ],
        [
         "2023-03-01",
         "Custom Scenario",
         5.474884512492788E8
        ],
        [
         "2023-04-01",
         "Supervisory Severely Adverse",
         7.646464607525713E8
        ],
        [
         "2023-04-01",
         "Predicted by Databricks",
         6.37517187290962E8
        ],
        [
         "2023-04-01",
         "Supervisory Baseline",
         6.256290434355606E8
        ],
        [
         "2023-04-01",
         "Custom Scenario",
         5.54823953284199E8
        ],
        [
         "2023-05-01",
         "Supervisory Severely Adverse",
         7.798840029276834E8
        ],
        [
         "2023-05-01",
         "Predicted by Databricks",
         6.496182207904228E8
        ],
        [
         "2023-05-01",
         "Supervisory Baseline",
         6.386059557983667E8
        ],
        [
         "2023-05-01",
         "Custom Scenario",
         5.665744072766753E8
        ],
        [
         "2023-06-01",
         "Supervisory Severely Adverse",
         7.953506184572514E8
        ],
        [
         "2023-06-01",
         "Predicted by Databricks",
         6.614329418042725E8
        ],
        [
         "2023-06-01",
         "Supervisory Baseline",
         6.518126106844479E8
        ],
        [
         "2023-06-01",
         "Custom Scenario",
         5.785514897442535E8
        ],
        [
         "2023-07-01",
         "Supervisory Severely Adverse",
         8.187093795609685E8
        ],
        [
         "2023-07-01",
         "Predicted by Databricks",
         6.714569144128538E8
        ],
        [
         "2023-07-01",
         "Supervisory Baseline",
         6.614303786900644E8
        ],
        [
         "2023-07-01",
         "Custom Scenario",
         5.864273195712085E8
        ],
        [
         "2023-08-01",
         "Supervisory Severely Adverse",
         8.345333697961287E8
        ],
        [
         "2023-08-01",
         "Predicted by Databricks",
         6.814231081774291E8
        ],
        [
         "2023-08-01",
         "Supervisory Baseline",
         6.748310157428116E8
        ],
        [
         "2023-08-01",
         "Custom Scenario",
         5.98586289330405E8
        ],
        [
         "2023-09-01",
         "Supervisory Severely Adverse",
         8.504985673072743E8
        ],
        [
         "2023-09-01",
         "Predicted by Databricks",
         6.912385778917401E8
        ],
        [
         "2023-09-01",
         "Supervisory Baseline",
         6.883719236798904E8
        ],
        [
         "2023-09-01",
         "Custom Scenario",
         6.108826853780009E8
        ],
        [
         "2023-10-01",
         "Supervisory Severely Adverse",
         8.733054143086423E8
        ],
        [
         "2023-10-01",
         "Predicted by Databricks",
         7.014500682285601E8
        ],
        [
         "2023-10-01",
         "Supervisory Baseline",
         6.986654949095476E8
        ],
        [
         "2023-10-01",
         "Custom Scenario",
         6.193871038973261E8
        ],
        [
         "2023-11-01",
         "Supervisory Severely Adverse",
         8.895792263592901E8
        ],
        [
         "2023-11-01",
         "Predicted by Databricks",
         7.127594893191572E8
        ],
        [
         "2023-11-01",
         "Supervisory Baseline",
         7.123905196761174E8
        ],
        [
         "2023-11-01",
         "Custom Scenario",
         6.318593205028605E8
        ],
        [
         "2023-12-01",
         "Supervisory Severely Adverse",
         9.059839608961554E8
        ],
        [
         "2023-12-01",
         "Predicted by Databricks",
         7.254063311456151E8
        ],
        [
         "2023-12-01",
         "Supervisory Baseline",
         7.262540309028543E8
        ],
        [
         "2023-12-01",
         "Custom Scenario",
         6.444697907191892E8
        ],
        [
         "2024-01-01",
         "Supervisory Severely Adverse",
         7.880910849626522E8
        ],
        [
         "2024-01-01",
         "Predicted by Databricks",
         7.392051986703078E8
        ],
        [
         "2024-01-01",
         "Supervisory Baseline",
         6.881197910920546E8
        ],
        [
         "2024-01-01",
         "Custom Scenario",
         5.98059489459248E8
        ],
        [
         "2024-02-01",
         "Supervisory Severely Adverse",
         8.02892390363698E8
        ],
        [
         "2024-02-01",
         "Predicted by Databricks",
         7.527113735851834E8
        ],
        [
         "2024-02-01",
         "Supervisory Baseline",
         7.014526920214578E8
        ],
        [
         "2024-02-01",
         "Custom Scenario",
         6.099872839237326E8
        ],
        [
         "2024-03-01",
         "Supervisory Severely Adverse",
         8.178335120799372E8
        ],
        [
         "2024-03-01",
         "Predicted by Databricks",
         7.654931550613972E8
        ],
        [
         "2024-03-01",
         "Supervisory Baseline",
         7.149256583721623E8
        ],
        [
         "2024-03-01",
         "Custom Scenario",
         6.220526619343523E8
        ],
        [
         "2024-04-01",
         "Supervisory Severely Adverse",
         8.713643191309206E8
        ],
        [
         "2024-04-01",
         "Predicted by Databricks",
         7.761042758972769E8
        ],
        [
         "2024-04-01",
         "Supervisory Baseline",
         7.25958835087791E8
        ],
        [
         "2024-04-01",
         "Custom Scenario",
         6.313478485636994E8
        ],
        [
         "2024-05-01",
         "Supervisory Severely Adverse",
         8.870224808645513E8
        ],
        [
         "2024-05-01",
         "Predicted by Databricks",
         7.87938402845672E8
        ],
        [
         "2024-05-01",
         "Supervisory Baseline",
         7.396171074604173E8
        ],
        [
         "2024-05-01",
         "Custom Scenario",
         6.435981986945738E8
        ],
        [
         "2024-06-01",
         "Supervisory Severely Adverse",
         9.028080893850449E8
        ],
        [
         "2024-06-01",
         "Predicted by Databricks",
         8.003070986571449E8
        ],
        [
         "2024-06-01",
         "Supervisory Baseline",
         7.534073568106097E8
        ],
        [
         "2024-06-01",
         "Custom Scenario",
         6.559801394331329E8
        ],
        [
         "2024-07-01",
         "Supervisory Severely Adverse",
         9.523684753354703E8
        ],
        [
         "2024-07-01",
         "Predicted by Databricks",
         8.101014949104851E8
        ],
        [
         "2024-07-01",
         "Supervisory Baseline",
         7.658031087534859E8
        ],
        [
         "2024-07-01",
         "Custom Scenario",
         6.666466860325176E8
        ],
        [
         "2024-08-01",
         "Supervisory Severely Adverse",
         9.687337149128008E8
        ],
        [
         "2024-08-01",
         "Predicted by Databricks",
         8.211079635279448E8
        ],
        [
         "2024-08-01",
         "Supervisory Baseline",
         7.797724174893628E8
        ],
        [
         "2024-08-01",
         "Custom Scenario",
         6.792128874367162E8
        ],
        [
         "2024-09-01",
         "Supervisory Severely Adverse",
         9.851645882690127E8
        ],
        [
         "2024-09-01",
         "Predicted by Databricks",
         8.321623392477404E8
        ],
        [
         "2024-09-01",
         "Supervisory Baseline",
         7.938320168686827E8
        ],
        [
         "2024-09-01",
         "Custom Scenario",
         6.918773630855033E8
        ],
        [
         "2024-10-01",
         "Supervisory Severely Adverse",
         1.0279204556799004E9
        ],
        [
         "2024-10-01",
         "Predicted by Databricks",
         8.42450854401094E8
        ],
        [
         "2024-10-01",
         "Supervisory Baseline",
         8.050658910139489E8
        ],
        [
         "2024-10-01",
         "Custom Scenario",
         7.013608104226596E8
        ],
        [
         "2024-11-01",
         "Supervisory Severely Adverse",
         1.0450145051447135E9
        ],
        [
         "2024-11-01",
         "Predicted by Databricks",
         8.559892571225312E8
        ],
        [
         "2024-11-01",
         "Supervisory Baseline",
         8.194373337659692E8
        ],
        [
         "2024-11-01",
         "Custom Scenario",
         7.143166417601819E8
        ],
        [
         "2024-12-01",
         "Supervisory Severely Adverse",
         1.0621783087772204E9
        ],
        [
         "2024-12-01",
         "Predicted by Databricks",
         8.687666304205353E8
        ],
        [
         "2024-12-01",
         "Supervisory Baseline",
         8.339045857327306E8
        ],
        [
         "2024-12-01",
         "Custom Scenario",
         7.273756398349607E8
        ],
        [
         "2025-01-01",
         "Supervisory Severely Adverse",
         1.0964522977295988E9
        ],
        [
         "2025-01-01",
         "Predicted by Databricks",
         8.802462698191551E8
        ],
        [
         "2025-01-01",
         "Supervisory Baseline",
         8.451499426838764E8
        ],
        [
         "2025-01-01",
         "Custom Scenario",
         7.368740770477675E8
        ],
        [
         "2025-02-01",
         "Supervisory Severely Adverse",
         1.1140247920357015E9
        ],
        [
         "2025-02-01",
         "Predicted by Databricks",
         8.924156030177884E8
        ],
        [
         "2025-02-01",
         "Supervisory Baseline",
         8.598353898803474E8
        ],
        [
         "2025-02-01",
         "Custom Scenario",
         7.501486640773481E8
        ],
        [
         "2025-03-01",
         "Supervisory Severely Adverse",
         1.1317329417701263E9
        ],
        [
         "2025-03-01",
         "Predicted by Databricks",
         9.090254106660483E8
        ],
        [
         "2025-03-01",
         "Supervisory Baseline",
         8.746605017382289E8
        ],
        [
         "2025-03-01",
         "Custom Scenario",
         7.635623962508638E8
        ],
        [
         "2025-04-01",
         "Supervisory Severely Adverse",
         1.1604321934508924E9
        ],
        [
         "2025-04-01",
         "Predicted by Databricks",
         9.214103427146919E8
        ],
        [
         "2025-04-01",
         "Supervisory Baseline",
         8.865528191806076E8
        ],
        [
         "2025-04-01",
         "Custom Scenario",
         7.737019803383539E8
        ],
        [
         "2025-05-01",
         "Supervisory Severely Adverse",
         1.1784809477440243E9
        ],
        [
         "2025-05-01",
         "Predicted by Databricks",
         9.344098874278215E8
        ],
        [
         "2025-05-01",
         "Supervisory Baseline",
         9.016093576981071E8
        ],
        [
         "2025-05-01",
         "Custom Scenario",
         7.873450932544835E8
        ],
        [
         "2025-06-01",
         "Supervisory Severely Adverse",
         1.196659753368324E9
        ],
        [
         "2025-06-01",
         "Predicted by Databricks",
         9.476373825582495E8
        ],
        [
         "2025-06-01",
         "Supervisory Baseline",
         9.168035794958141E8
        ],
        [
         "2025-06-01",
         "Custom Scenario",
         8.011265454921807E8
        ],
        [
         "2025-07-01",
         "Supervisory Severely Adverse",
         1.2222300641898665E9
        ],
        [
         "2025-07-01",
         "Predicted by Databricks",
         9.580567628888851E8
        ],
        [
         "2025-07-01",
         "Supervisory Baseline",
         9.301139126706005E8
        ],
        [
         "2025-07-01",
         "Custom Scenario",
         8.126635455863063E8
        ],
        [
         "2025-08-01",
         "Supervisory Severely Adverse",
         1.2407446399710736E9
        ],
        [
         "2025-08-01",
         "Predicted by Databricks",
         9.694422831182239E8
        ],
        [
         "2025-08-01",
         "Supervisory Baseline",
         9.45575219197381E8
        ],
        [
         "2025-08-01",
         "Custom Scenario",
         8.267075263957009E8
        ],
        [
         "2025-09-01",
         "Supervisory Severely Adverse",
         1.2592863204386265E9
        ],
        [
         "2025-09-01",
         "Predicted by Databricks",
         9.807477872385517E8
        ],
        [
         "2025-09-01",
         "Supervisory Baseline",
         9.611108448735725E8
        ],
        [
         "2025-09-01",
         "Custom Scenario",
         8.408391922132132E8
        ],
        [
         "2025-10-01",
         "Supervisory Severely Adverse",
         1.2647400269753447E9
        ],
        [
         "2025-10-01",
         "Predicted by Databricks",
         9.915557661560841E8
        ],
        [
         "2025-10-01",
         "Supervisory Baseline",
         9.734086647354689E8
        ],
        [
         "2025-10-01",
         "Custom Scenario",
         8.513714262835481E8
        ],
        [
         "2025-11-01",
         "Supervisory Severely Adverse",
         1.2830136829262166E9
        ],
        [
         "2025-11-01",
         "Predicted by Databricks",
         1.0051328989804164E9
        ],
        [
         "2025-11-01",
         "Supervisory Baseline",
         9.889346235418897E8
        ],
        [
         "2025-11-01",
         "Custom Scenario",
         8.655396694191064E8
        ],
        [
         "2025-12-01",
         "Supervisory Severely Adverse",
         1.3011775071684546E9
        ],
        [
         "2025-12-01",
         "Predicted by Databricks",
         1.0185773891508907E9
        ],
        [
         "2025-12-01",
         "Supervisory Baseline",
         1.0044472447065083E9
        ],
        [
         "2025-12-01",
         "Custom Scenario",
         8.797248760631425E8
        ],
        [
         "2026-01-01",
         "Supervisory Severely Adverse",
         1.3047665175085557E9
        ],
        [
         "2026-01-01",
         "Predicted by Databricks",
         1.031548623101893E9
        ],
        [
         "2026-01-01",
         "Supervisory Baseline",
         1.0162195949147584E9
        ],
        [
         "2026-01-01",
         "Custom Scenario",
         8.89750594612309E8
        ],
        [
         "2026-02-01",
         "Supervisory Severely Adverse",
         1.3232486335375485E9
        ],
        [
         "2026-02-01",
         "Predicted by Databricks",
         1.0451067027544956E9
        ],
        [
         "2026-02-01",
         "Supervisory Baseline",
         1.0320774934754169E9
        ],
        [
         "2026-02-01",
         "Custom Scenario",
         9.042520685711323E8
        ],
        [
         "2026-03-01",
         "Supervisory Severely Adverse",
         1.34174976638268E9
        ],
        [
         "2026-03-01",
         "Predicted by Databricks",
         1.0590816154815142E9
        ],
        [
         "2026-03-01",
         "Supervisory Baseline",
         1.0480206396647145E9
        ],
        [
         "2026-03-01",
         "Custom Scenario",
         9.1885936897262E8
        ],
        [
         "2026-04-01",
         "Supervisory Severely Adverse",
         1.3454142065027242E9
        ],
        [
         "2026-04-01",
         "Predicted by Databricks",
         1.0735258376530432E9
        ],
        [
         "2026-04-01",
         "Supervisory Baseline",
         1.0610346583515717E9
        ],
        [
         "2026-04-01",
         "Custom Scenario",
         9.300629089560134E8
        ],
        [
         "2026-05-01",
         "Supervisory Severely Adverse",
         1.3642624892717998E9
        ],
        [
         "2026-05-01",
         "Predicted by Databricks",
         1.0877167598713083E9
        ],
        [
         "2026-05-01",
         "Supervisory Baseline",
         1.0773636281581173E9
        ],
        [
         "2026-05-01",
         "Custom Scenario",
         9.450279545538297E8
        ],
        [
         "2026-06-01",
         "Supervisory Severely Adverse",
         1.3833704465207934E9
        ],
        [
         "2026-06-01",
         "Predicted by Databricks",
         1.1018033573437848E9
        ],
        [
         "2026-06-01",
         "Supervisory Baseline",
         1.093925660417141E9
        ],
        [
         "2026-06-01",
         "Custom Scenario",
         9.6021408667972E8
        ],
        [
         "2026-07-01",
         "Supervisory Severely Adverse",
         1.3881226113190773E9
        ],
        [
         "2026-07-01",
         "Predicted by Databricks",
         1.1128936305105526E9
        ],
        [
         "2026-07-01",
         "Supervisory Baseline",
         1.1072967761102002E9
        ],
        [
         "2026-07-01",
         "Custom Scenario",
         9.717415550340492E8
        ],
        [
         "2026-08-01",
         "Supervisory Severely Adverse",
         1.4073127569023166E9
        ],
        [
         "2026-08-01",
         "Predicted by Databricks",
         1.1244200604286652E9
        ],
        [
         "2026-08-01",
         "Supervisory Baseline",
         1.1240610560815117E9
        ],
        [
         "2026-08-01",
         "Custom Scenario",
         9.87135654852415E8
        ],
        [
         "2026-09-01",
         "Supervisory Severely Adverse",
         1.426267568629057E9
        ],
        [
         "2026-09-01",
         "Predicted by Databricks",
         1.1355225243117535E9
        ],
        [
         "2026-09-01",
         "Supervisory Baseline",
         1.140676388941491E9
        ],
        [
         "2026-09-01",
         "Custom Scenario",
         1.0024193598961817E9
        ],
        [
         "2026-10-01",
         "Supervisory Severely Adverse",
         1.4300669105382066E9
        ],
        [
         "2026-10-01",
         "Predicted by Databricks",
         1.1468116232195187E9
        ],
        [
         "2026-10-01",
         "Supervisory Baseline",
         1.154117234686067E9
        ],
        [
         "2026-10-01",
         "Custom Scenario",
         1.0140350198248397E9
        ]
       ],
       "datasetInfos": [],
       "dbfsResultPath": null,
       "isJsonSchema": true,
       "metadata": {},
       "overflow": false,
       "plotOptions": {
        "customPlotOptions": {},
        "displayType": "table",
        "pivotAggregation": null,
        "pivotColumns": null,
        "xColumns": null,
        "yColumns": null
       },
       "removedWidgets": [],
       "schema": [
        {
         "metadata": "{}",
         "name": "date",
         "type": "\"date\""
        },
        {
         "metadata": "{}",
         "name": "scenario",
         "type": "\"string\""
        },
        {
         "metadata": "{}",
         "name": "ECL",
         "type": "\"double\""
        }
       ],
       "type": "table"
      }
     },
     "output_type": "display_data"
    },
    {
     "output_type": "display_data",
     "data": {
      "text/plain": [
       "Databricks visualization. Run in Databricks to view."
      ]
     },
     "metadata": {
      "application/vnd.databricks.v1.subcommand+json": {
       "baseErrorDetails": null,
       "bindings": {},
       "collapsed": false,
       "command": "%python\n__backend_agg_display_orig = display\n__backend_agg_dfs = []\ndef __backend_agg_display_new(df):\n    __backend_agg_df_modules = [\"pandas.core.frame\", \"databricks.koalas.frame\", \"pyspark.sql.dataframe\", \"pyspark.pandas.frame\", \"pyspark.sql.connect.dataframe\"]\n    if (type(df).__module__ in __backend_agg_df_modules and type(df).__name__ == 'DataFrame') or isinstance(df, list):\n        __backend_agg_dfs.append(df)\n\ndisplay = __backend_agg_display_new\n\ndef __backend_agg_user_code_fn():\n    import base64\n    exec(base64.standard_b64decode(\"Z3JvdXBlZCA9IHByZWRpY3RlZC5ncm91cEJ5KCdkYXRlJywnc2NlbmFyaW8nKS5hZ2coc3VtKCdFQ0wnKS5hbGlhcygnRUNMJykpLm9yZGVyQnkoJ2RhdGUnKQpncm91cGVkLmRpc3BsYXkoKQ==\").decode())\n\ntry:\n    # run user code\n    __backend_agg_user_code_fn()\n\n    #reset display function\n    display = __backend_agg_display_orig\n\n    if len(__backend_agg_dfs) > 0:\n        # create a temp view\n        if type(__backend_agg_dfs[0]).__module__ == \"databricks.koalas.frame\":\n            # koalas dataframe\n            __backend_agg_dfs[0].to_spark().createOrReplaceTempView(\"DatabricksView4de7f71\")\n        elif type(__backend_agg_dfs[0]).__module__ == \"pandas.core.frame\" or isinstance(__backend_agg_dfs[0], list):\n            # pandas dataframe\n            spark.createDataFrame(__backend_agg_dfs[0]).createOrReplaceTempView(\"DatabricksView4de7f71\")\n        else:\n            __backend_agg_dfs[0].createOrReplaceTempView(\"DatabricksView4de7f71\")\n        #run backend agg\n        display(spark.sql(\"\"\"WITH q AS (select * from DatabricksView4de7f71) SELECT `date`,`scenario`,SUM(`ECL`) `column_20ae3fa3236` FROM q GROUP BY `date`,`scenario`\"\"\"))\n    else:\n        displayHTML(\"dataframe no longer exists. If you're using dataframe.display(), use display(dataframe) instead.\")\n\n\nfinally:\n    spark.sql(\"drop view if exists DatabricksView4de7f71\")\n    display = __backend_agg_display_orig\n    del __backend_agg_display_new\n    del __backend_agg_display_orig\n    del __backend_agg_dfs\n    del __backend_agg_user_code_fn\n\n",
       "commandTitle": "Visualization 1",
       "commandType": "auto",
       "commandVersion": 0,
       "commentThread": [],
       "commentsVisible": false,
       "contentSha256Hex": null,
       "customPlotOptions": {
        "redashChart": [
         {
          "key": "type",
          "value": "CHART"
         },
         {
          "key": "options",
          "value": {
           "alignYAxesAtZero": true,
           "coefficient": 1,
           "columnConfigurationMap": {
            "series": {
             "column": "scenario",
             "id": "column_20ae3fa3235"
            },
            "x": {
             "column": "date",
             "id": "column_20ae3fa3234"
            },
            "y": [
             {
              "column": "ECL",
              "id": "column_20ae3fa3236",
              "transform": "SUM"
             }
            ]
           },
           "dateTimeFormat": "DD/MM/YYYY HH:mm",
           "direction": {
            "type": "counterclockwise"
           },
           "error_y": {
            "type": "data",
            "visible": true
           },
           "globalSeriesType": "line",
           "hideXAxis": false,
           "isAggregationOn": true,
           "legend": {
            "traceorder": "normal"
           },
           "missingValuesAsZero": true,
           "numberFormat": "0,0.[00000]",
           "percentFormat": "0[.]00%",
           "series": {
            "error_y": {
             "type": "data",
             "visible": true
            },
            "stacking": null
           },
           "seriesOptions": {
            "column_20ae3fa3236": {
             "name": "ECL",
             "yAxis": 0
            }
           },
           "showDataLabels": false,
           "sizemode": "diameter",
           "sortX": true,
           "sortY": true,
           "swappedAxes": false,
           "textFormat": "",
           "useAggregationsUi": true,
           "valuesOptions": {},
           "version": 2,
           "xAxis": {
            "labels": {
             "enabled": true
            },
            "type": "-"
           },
           "yAxis": [
            {
             "type": "-"
            },
            {
             "opposite": true,
             "type": "-"
            }
           ]
          }
         }
        ]
       },
       "datasetPreviewNameToCmdIdMap": {},
       "diffDeletes": [],
       "diffInserts": [],
       "displayType": "redashChart",
       "error": null,
       "errorDetails": null,
       "errorSummary": null,
       "errorTraceType": null,
       "finishTime": 0,
       "globalVars": {},
       "guid": "",
       "height": "auto",
       "hideCommandCode": false,
       "hideCommandResult": false,
       "iPythonMetadata": null,
       "inputWidgets": {},
       "isLockedInExamMode": false,
       "latestAssumeRoleInfo": null,
       "latestUser": "a user",
       "latestUserId": null,
       "listResultMetadata": null,
       "metadata": {
        "byteLimit": 2048000,
        "rowLimit": 10000
       },
       "nuid": "1ee43293-e38e-4d5c-9ee8-c4eeb9d087cd",
       "origId": 0,
       "parentHierarchy": [],
       "pivotAggregation": null,
       "pivotColumns": null,
       "position": 12.75,
       "resultDbfsErrorMessage": null,
       "resultDbfsStatus": "INLINED_IN_TREE",
       "results": null,
       "showCommandTitle": false,
       "startTime": 0,
       "state": "input",
       "streamStates": {},
       "subcommandOptions": {
        "queryPlan": {
         "groups": [
          {
           "column": "date",
           "type": "column"
          },
          {
           "column": "scenario",
           "type": "column"
          }
         ],
         "selects": [
          {
           "column": "date",
           "type": "column"
          },
          {
           "column": "scenario",
           "type": "column"
          },
          {
           "alias": "column_20ae3fa3236",
           "args": [
            {
             "column": "ECL",
             "type": "column"
            }
           ],
           "function": "SUM",
           "type": "function"
          }
         ]
        }
       },
       "submitTime": 0,
       "subtype": "tableResultSubCmd.visualization",
       "tableResultIndex": 0,
       "tableResultSettingsMap": {},
       "useConsistentColors": false,
       "version": "CommandV1",
       "width": "auto",
       "workflows": [],
       "xColumns": null,
       "yColumns": null
      }
     },
     "output_type": "display_data"
    }
   ],
   "source": [
    "grouped = predicted.groupBy('date','scenario').agg(sum('ECL').alias('ECL')).orderBy('date')\n",
    "# grouped.display()"
   ]
  },
  {
   "cell_type": "code",
   "execution_count": 0,
   "metadata": {
    "application/vnd.databricks.v1+cell": {
     "cellMetadata": {
      "byteLimit": 2048000,
      "rowLimit": 10000
     },
     "inputWidgets": {},
     "nuid": "b549114d-21b0-4ccd-a1e3-5ae8ac59a6e9",
     "showTitle": false,
     "tableResultSettingsMap": {},
     "title": ""
    }
   },
   "outputs": [
    {
     "output_type": "display_data",
     "data": {
      "text/html": [
       "<style scoped>\n",
       "  .table-result-container {\n",
       "    max-height: 300px;\n",
       "    overflow: auto;\n",
       "  }\n",
       "  table, th, td {\n",
       "    border: 1px solid black;\n",
       "    border-collapse: collapse;\n",
       "  }\n",
       "  th, td {\n",
       "    padding: 5px;\n",
       "  }\n",
       "  th {\n",
       "    text-align: left;\n",
       "  }\n",
       "</style><div class='table-result-container'><table class='table-result'><thead style='background-color: white'><tr><th>date</th><th>unique_loans</th></tr></thead><tbody><tr><td>2021-09-01</td><td>89977</td></tr><tr><td>2021-10-01</td><td>89977</td></tr><tr><td>2021-11-01</td><td>89977</td></tr><tr><td>2021-12-01</td><td>89973</td></tr><tr><td>2022-01-01</td><td>89967</td></tr><tr><td>2022-02-01</td><td>89961</td></tr><tr><td>2022-03-01</td><td>89952</td></tr><tr><td>2022-04-01</td><td>89946</td></tr><tr><td>2022-05-01</td><td>89938</td></tr><tr><td>2022-06-01</td><td>89928</td></tr><tr><td>2022-07-01</td><td>89920</td></tr><tr><td>2022-08-01</td><td>89912</td></tr><tr><td>2022-09-01</td><td>89897</td></tr><tr><td>2022-10-01</td><td>89890</td></tr><tr><td>2022-11-01</td><td>89877</td></tr><tr><td>2022-12-01</td><td>89856</td></tr><tr><td>2023-01-01</td><td>89847</td></tr><tr><td>2023-02-01</td><td>89830</td></tr><tr><td>2023-03-01</td><td>89814</td></tr><tr><td>2023-04-01</td><td>89784</td></tr><tr><td>2023-05-01</td><td>89754</td></tr><tr><td>2023-06-01</td><td>89729</td></tr><tr><td>2023-07-01</td><td>89704</td></tr><tr><td>2023-08-01</td><td>89685</td></tr><tr><td>2023-09-01</td><td>89677</td></tr><tr><td>2023-10-01</td><td>89663</td></tr><tr><td>2023-11-01</td><td>89650</td></tr><tr><td>2023-12-01</td><td>89634</td></tr><tr><td>2024-01-01</td><td>89620</td></tr><tr><td>2024-02-01</td><td>89606</td></tr><tr><td>2024-03-01</td><td>89593</td></tr><tr><td>2024-04-01</td><td>89572</td></tr><tr><td>2024-05-01</td><td>89541</td></tr><tr><td>2024-06-01</td><td>89511</td></tr><tr><td>2024-07-01</td><td>89466</td></tr><tr><td>2024-08-01</td><td>89422</td></tr><tr><td>2024-09-01</td><td>89365</td></tr><tr><td>2024-10-01</td><td>89334</td></tr><tr><td>2024-11-01</td><td>89304</td></tr><tr><td>2024-12-01</td><td>89260</td></tr><tr><td>2025-01-01</td><td>89229</td></tr><tr><td>2025-02-01</td><td>89186</td></tr><tr><td>2025-03-01</td><td>89155</td></tr><tr><td>2025-04-01</td><td>89126</td></tr><tr><td>2025-05-01</td><td>89085</td></tr><tr><td>2025-06-01</td><td>89050</td></tr><tr><td>2025-07-01</td><td>89005</td></tr><tr><td>2025-08-01</td><td>88971</td></tr><tr><td>2025-09-01</td><td>88925</td></tr><tr><td>2025-10-01</td><td>88857</td></tr><tr><td>2025-11-01</td><td>88746</td></tr><tr><td>2025-12-01</td><td>88611</td></tr><tr><td>2026-01-01</td><td>88490</td></tr><tr><td>2026-02-01</td><td>88389</td></tr><tr><td>2026-03-01</td><td>88274</td></tr><tr><td>2026-04-01</td><td>88188</td></tr><tr><td>2026-05-01</td><td>88120</td></tr><tr><td>2026-06-01</td><td>88068</td></tr><tr><td>2026-07-01</td><td>88012</td></tr><tr><td>2026-08-01</td><td>87963</td></tr><tr><td>2026-09-01</td><td>87895</td></tr><tr><td>2026-10-01</td><td>87814</td></tr></tbody></table></div>"
      ]
     },
     "metadata": {
      "application/vnd.databricks.v1+output": {
       "addedWidgets": {},
       "aggData": [],
       "aggError": "",
       "aggOverflow": false,
       "aggSchema": [],
       "aggSeriesLimitReached": false,
       "aggType": "",
       "arguments": {},
       "columnCustomDisplayInfos": {},
       "data": [
        [
         "2021-09-01",
         89977
        ],
        [
         "2021-10-01",
         89977
        ],
        [
         "2021-11-01",
         89977
        ],
        [
         "2021-12-01",
         89973
        ],
        [
         "2022-01-01",
         89967
        ],
        [
         "2022-02-01",
         89961
        ],
        [
         "2022-03-01",
         89952
        ],
        [
         "2022-04-01",
         89946
        ],
        [
         "2022-05-01",
         89938
        ],
        [
         "2022-06-01",
         89928
        ],
        [
         "2022-07-01",
         89920
        ],
        [
         "2022-08-01",
         89912
        ],
        [
         "2022-09-01",
         89897
        ],
        [
         "2022-10-01",
         89890
        ],
        [
         "2022-11-01",
         89877
        ],
        [
         "2022-12-01",
         89856
        ],
        [
         "2023-01-01",
         89847
        ],
        [
         "2023-02-01",
         89830
        ],
        [
         "2023-03-01",
         89814
        ],
        [
         "2023-04-01",
         89784
        ],
        [
         "2023-05-01",
         89754
        ],
        [
         "2023-06-01",
         89729
        ],
        [
         "2023-07-01",
         89704
        ],
        [
         "2023-08-01",
         89685
        ],
        [
         "2023-09-01",
         89677
        ],
        [
         "2023-10-01",
         89663
        ],
        [
         "2023-11-01",
         89650
        ],
        [
         "2023-12-01",
         89634
        ],
        [
         "2024-01-01",
         89620
        ],
        [
         "2024-02-01",
         89606
        ],
        [
         "2024-03-01",
         89593
        ],
        [
         "2024-04-01",
         89572
        ],
        [
         "2024-05-01",
         89541
        ],
        [
         "2024-06-01",
         89511
        ],
        [
         "2024-07-01",
         89466
        ],
        [
         "2024-08-01",
         89422
        ],
        [
         "2024-09-01",
         89365
        ],
        [
         "2024-10-01",
         89334
        ],
        [
         "2024-11-01",
         89304
        ],
        [
         "2024-12-01",
         89260
        ],
        [
         "2025-01-01",
         89229
        ],
        [
         "2025-02-01",
         89186
        ],
        [
         "2025-03-01",
         89155
        ],
        [
         "2025-04-01",
         89126
        ],
        [
         "2025-05-01",
         89085
        ],
        [
         "2025-06-01",
         89050
        ],
        [
         "2025-07-01",
         89005
        ],
        [
         "2025-08-01",
         88971
        ],
        [
         "2025-09-01",
         88925
        ],
        [
         "2025-10-01",
         88857
        ],
        [
         "2025-11-01",
         88746
        ],
        [
         "2025-12-01",
         88611
        ],
        [
         "2026-01-01",
         88490
        ],
        [
         "2026-02-01",
         88389
        ],
        [
         "2026-03-01",
         88274
        ],
        [
         "2026-04-01",
         88188
        ],
        [
         "2026-05-01",
         88120
        ],
        [
         "2026-06-01",
         88068
        ],
        [
         "2026-07-01",
         88012
        ],
        [
         "2026-08-01",
         87963
        ],
        [
         "2026-09-01",
         87895
        ],
        [
         "2026-10-01",
         87814
        ]
       ],
       "datasetInfos": [],
       "dbfsResultPath": null,
       "isJsonSchema": true,
       "metadata": {},
       "overflow": false,
       "plotOptions": {
        "customPlotOptions": {},
        "displayType": "table",
        "pivotAggregation": null,
        "pivotColumns": null,
        "xColumns": null,
        "yColumns": null
       },
       "removedWidgets": [],
       "schema": [
        {
         "metadata": "{}",
         "name": "date",
         "type": "\"date\""
        },
        {
         "metadata": "{}",
         "name": "unique_loans",
         "type": "\"long\""
        }
       ],
       "type": "table"
      }
     },
     "output_type": "display_data"
    }
   ],
   "source": [
    "# from pyspark.sql.functions import countDistinct\n",
    "\n",
    "# unique_loans_df = predicted.groupBy(\"date\").agg(countDistinct(\"loan_id\").alias(\"unique_loans\")).orderBy(\"date\")\n",
    "# unique_loans_df.display()"
   ]
  },
  {
   "cell_type": "code",
   "execution_count": 0,
   "metadata": {
    "application/vnd.databricks.v1+cell": {
     "cellMetadata": {
      "byteLimit": 2048000,
      "rowLimit": 10000
     },
     "inputWidgets": {},
     "nuid": "db4b23e4-4d67-4beb-936d-5a86a5021cc3",
     "showTitle": false,
     "tableResultSettingsMap": {},
     "title": ""
    }
   },
   "outputs": [],
   "source": [
    "aggregated_df.write.format(\"delta\").mode(\"overwrite\").saveAsTable(f\"{catalog}.{output_schema}.ECL_sensitivity_results\")"
   ]
  }
 ],
 "metadata": {
  "application/vnd.databricks.v1+notebook": {
   "computePreferences": {
    "hardware": {
     "accelerator": null,
     "gpuPoolId": null,
     "memory": null
    }
   },
   "dashboards": [],
   "environmentMetadata": {
    "base_environment": "",
    "dependencies": [
     "mlflow"
    ],
    "environment_version": "1"
   },
   "inputWidgetPreferences": null,
   "language": "python",
   "notebookMetadata": {
    "mostRecentlyExecutedCommandWithImplicitDF": {
     "commandId": 3530894374861077,
     "dataframes": [
      "_sqldf"
     ]
    },
    "pythonIndentUnit": 2
   },
   "notebookName": "5. Sensitivity Analysis",
   "widgets": {
    "cpi_change": {
     "currentValue": "0",
     "nuid": "24e65b39-c04b-4a66-85c6-8ffa30a1b4c9",
     "typedWidgetInfo": {
      "autoCreated": false,
      "defaultValue": "0",
      "label": "Enter % change for CPI Inflation Rate (e.g., 15 or -15):",
      "name": "cpi_change",
      "options": {
       "widgetDisplayType": "Text",
       "validationRegex": null
      },
      "parameterDataType": "String"
     },
     "widgetInfo": {
      "widgetType": "text",
      "defaultValue": "0",
      "label": "Enter % change for CPI Inflation Rate (e.g., 15 or -15):",
      "name": "cpi_change",
      "options": {
       "widgetType": "text",
       "autoCreated": null,
       "validationRegex": null
      }
     }
    },
    "hpi_change": {
     "currentValue": "15",
     "nuid": "3f225b0f-645c-43bb-b2ea-5b8c318bb010",
     "typedWidgetInfo": {
      "autoCreated": false,
      "defaultValue": "0",
      "label": "Enter % change for HPI (e.g., 10 or -10):",
      "name": "hpi_change",
      "options": {
       "widgetDisplayType": "Text",
       "validationRegex": null
      },
      "parameterDataType": "String"
     },
     "widgetInfo": {
      "widgetType": "text",
      "defaultValue": "0",
      "label": "Enter % change for HPI (e.g., 10 or -10):",
      "name": "hpi_change",
      "options": {
       "widgetType": "text",
       "autoCreated": null,
       "validationRegex": null
      }
     }
    },
    "scenario": {
     "currentValue": "Custom Scenario",
     "nuid": "a32c9662-3c2d-4269-8b7e-a8528839bb62",
     "typedWidgetInfo": {
      "autoCreated": false,
      "defaultValue": "Custom Scenario",
      "label": "Enter name of the scenario:",
      "name": "scenario",
      "options": {
       "widgetDisplayType": "Text",
       "validationRegex": null
      },
      "parameterDataType": "String"
     },
     "widgetInfo": {
      "widgetType": "text",
      "defaultValue": "Custom Scenario",
      "label": "Enter name of the scenario:",
      "name": "scenario",
      "options": {
       "widgetType": "text",
       "autoCreated": null,
       "validationRegex": null
      }
     }
    },
    "unemp_change": {
     "currentValue": "-10",
     "nuid": "bffd05c1-6d01-4fa6-8fdb-e08d61e93b95",
     "typedWidgetInfo": {
      "autoCreated": false,
      "defaultValue": "0",
      "label": "Enter % change for Unemployment Rate (e.g., 15 or -15):",
      "name": "unemp_change",
      "options": {
       "widgetDisplayType": "Text",
       "validationRegex": null
      },
      "parameterDataType": "String"
     },
     "widgetInfo": {
      "widgetType": "text",
      "defaultValue": "0",
      "label": "Enter % change for Unemployment Rate (e.g., 15 or -15):",
      "name": "unemp_change",
      "options": {
       "widgetType": "text",
       "autoCreated": null,
       "validationRegex": null
      }
     }
    }
   }
  },
  "language_info": {
   "name": "python"
  }
 },
 "nbformat": 4,
 "nbformat_minor": 0
}