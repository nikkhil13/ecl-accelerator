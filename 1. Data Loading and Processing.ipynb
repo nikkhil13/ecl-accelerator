{
 "cells": [
  {
   "cell_type": "code",
   "execution_count": 0,
   "metadata": {
    "application/vnd.databricks.v1+cell": {
     "cellMetadata": {
      "byteLimit": 2048000,
      "rowLimit": 10000
     },
     "inputWidgets": {},
     "nuid": "afa31814-00f6-4fbb-b63e-ef70939bc709",
     "showTitle": false,
     "tableResultSettingsMap": {},
     "title": ""
    }
   },
   "outputs": [
    {
     "output_type": "stream",
     "name": "stdout",
     "output_type": "stream",
     "text": [
      "Installing prophet...\nCollecting prophet\n  Downloading prophet-1.1.6-py3-none-manylinux_2_17_x86_64.manylinux2014_x86_64.whl.metadata (3.5 kB)\nCollecting cmdstanpy>=1.0.4 (from prophet)\n  Downloading cmdstanpy-1.2.5-py3-none-any.whl.metadata (4.0 kB)\nRequirement already satisfied: numpy>=1.15.4 in /databricks/python3/lib/python3.12/site-packages (from prophet) (1.26.4)\nRequirement already satisfied: matplotlib>=2.0.0 in /databricks/python3/lib/python3.12/site-packages (from prophet) (3.8.4)\nRequirement already satisfied: pandas>=1.0.4 in /databricks/python3/lib/python3.12/site-packages (from prophet) (1.5.3)\nCollecting holidays<1,>=0.25 (from prophet)\n  Downloading holidays-0.70-py3-none-any.whl.metadata (34 kB)\nCollecting tqdm>=4.36.1 (from prophet)\n  Downloading tqdm-4.67.1-py3-none-any.whl.metadata (57 kB)\n\u001B[?25l     \u001B[90m━━━━━━━━━━━━━━━━━━━━━━━━━━━━━━━━━━━━━━━━\u001B[0m \u001B[32m0.0/57.7 kB\u001B[0m \u001B[31m?\u001B[0m eta \u001B[36m-:--:--\u001B[0m\n\u001B[2K     \u001B[90m━━━━━━━━━━━━━━━━━━━━━━━━━━━━━━━━━━━━━━━━\u001B[0m \u001B[32m57.7/57.7 kB\u001B[0m \u001B[31m3.4 MB/s\u001B[0m eta \u001B[36m0:00:00\u001B[0m\n\u001B[?25hCollecting importlib-resources (from prophet)\n  Downloading importlib_resources-6.5.2-py3-none-any.whl.metadata (3.9 kB)\nCollecting stanio<2.0.0,>=0.4.0 (from cmdstanpy>=1.0.4->prophet)\n  Downloading stanio-0.5.1-py3-none-any.whl.metadata (1.6 kB)\nRequirement already satisfied: python-dateutil in /databricks/python3/lib/python3.12/site-packages (from holidays<1,>=0.25->prophet) (2.9.0.post0)\nRequirement already satisfied: contourpy>=1.0.1 in /databricks/python3/lib/python3.12/site-packages (from matplotlib>=2.0.0->prophet) (1.2.0)\nRequirement already satisfied: cycler>=0.10 in /databricks/python3/lib/python3.12/site-packages (from matplotlib>=2.0.0->prophet) (0.11.0)\nRequirement already satisfied: fonttools>=4.22.0 in /databricks/python3/lib/python3.12/site-packages (from matplotlib>=2.0.0->prophet) (4.51.0)\nRequirement already satisfied: kiwisolver>=1.3.1 in /databricks/python3/lib/python3.12/site-packages (from matplotlib>=2.0.0->prophet) (1.4.4)\nRequirement already satisfied: packaging>=20.0 in /databricks/python3/lib/python3.12/site-packages (from matplotlib>=2.0.0->prophet) (24.1)\nRequirement already satisfied: pillow>=8 in /databricks/python3/lib/python3.12/site-packages (from matplotlib>=2.0.0->prophet) (10.3.0)\nRequirement already satisfied: pyparsing>=2.3.1 in /databricks/python3/lib/python3.12/site-packages (from matplotlib>=2.0.0->prophet) (3.0.9)\nRequirement already satisfied: pytz>=2020.1 in /databricks/python3/lib/python3.12/site-packages (from pandas>=1.0.4->prophet) (2024.1)\nRequirement already satisfied: six>=1.5 in /usr/lib/python3/dist-packages (from python-dateutil->holidays<1,>=0.25->prophet) (1.16.0)\nDownloading prophet-1.1.6-py3-none-manylinux_2_17_x86_64.manylinux2014_x86_64.whl (14.4 MB)\n\u001B[?25l   \u001B[90m━━━━━━━━━━━━━━━━━━━━━━━━━━━━━━━━━━━━━━━━\u001B[0m \u001B[32m0.0/14.4 MB\u001B[0m \u001B[31m?\u001B[0m eta \u001B[36m-:--:--\u001B[0m\n\u001B[2K   \u001B[91m╸\u001B[0m\u001B[90m━━━━━━━━━━━━━━━━━━━━━━━━━━━━━━━━━━━━━━━\u001B[0m \u001B[32m0.2/14.4 MB\u001B[0m \u001B[31m7.2 MB/s\u001B[0m eta \u001B[36m0:00:02\u001B[0m\n\u001B[2K   \u001B[91m━\u001B[0m\u001B[90m╺\u001B[0m\u001B[90m━━━━━━━━━━━━━━━━━━━━━━━━━━━━━━━━━━━━━━\u001B[0m \u001B[32m0.5/14.4 MB\u001B[0m \u001B[31m7.7 MB/s\u001B[0m eta \u001B[36m0:00:02\u001B[0m\n\u001B[2K   \u001B[91m━━\u001B[0m\u001B[90m╺\u001B[0m\u001B[90m━━━━━━━━━━━━━━━━━━━━━━━━━━━━━━━━━━━━━\u001B[0m \u001B[32m0.9/14.4 MB\u001B[0m \u001B[31m8.5 MB/s\u001B[0m eta \u001B[36m0:00:02\u001B[0m\n\u001B[2K   \u001B[91m━━━\u001B[0m\u001B[91m╸\u001B[0m\u001B[90m━━━━━━━━━━━━━━━━━━━━━━━━━━━━━━━━━━━━\u001B[0m \u001B[32m1.3/14.4 MB\u001B[0m \u001B[31m9.3 MB/s\u001B[0m eta \u001B[36m0:00:02\u001B[0m\n\u001B[2K   \u001B[91m━━━━\u001B[0m\u001B[91m╸\u001B[0m\u001B[90m━━━━━━━━━━━━━━━━━━━━━━━━━━━━━━━━━━━\u001B[0m \u001B[32m1.8/14.4 MB\u001B[0m \u001B[31m10.1 MB/s\u001B[0m eta \u001B[36m0:00:02\u001B[0m\n\u001B[2K   \u001B[91m━━━━━━\u001B[0m\u001B[91m╸\u001B[0m\u001B[90m━━━━━━━━━━━━━━━━━━━━━━━━━━━━━━━━━\u001B[0m \u001B[32m2.4/14.4 MB\u001B[0m \u001B[31m11.3 MB/s\u001B[0m eta \u001B[36m0:00:02\u001B[0m\n\u001B[2K   \u001B[91m━━━━━━━━\u001B[0m\u001B[91m╸\u001B[0m\u001B[90m━━━━━━━━━━━━━━━━━━━━━━━━━━━━━━━\u001B[0m \u001B[32m3.1/14.4 MB\u001B[0m \u001B[31m12.5 MB/s\u001B[0m eta \u001B[36m0:00:01\u001B[0m\n\u001B[2K   \u001B[91m━━━━━━━━━━\u001B[0m\u001B[91m╸\u001B[0m\u001B[90m━━━━━━━━━━━━━━━━━━━━━━━━━━━━━\u001B[0m \u001B[32m3.9/14.4 MB\u001B[0m \u001B[31m14.0 MB/s\u001B[0m eta \u001B[36m0:00:01\u001B[0m\n\u001B[2K   \u001B[91m━━━━━━━━━━━━━\u001B[0m\u001B[91m╸\u001B[0m\u001B[90m━━━━━━━━━━━━━━━━━━━━━━━━━━\u001B[0m \u001B[32m5.0/14.4 MB\u001B[0m \u001B[31m15.7 MB/s\u001B[0m eta \u001B[36m0:00:01\u001B[0m\n\u001B[2K   \u001B[91m━━━━━━━━━━━━━━━━━\u001B[0m\u001B[90m╺\u001B[0m\u001B[90m━━━━━━━━━━━━━━━━━━━━━━\u001B[0m \u001B[32m6.2/14.4 MB\u001B[0m \u001B[31m17.6 MB/s\u001B[0m eta \u001B[36m0:00:01\u001B[0m\n\u001B[2K   \u001B[91m━━━━━━━━━━━━━━━━━━━━━\u001B[0m\u001B[90m╺\u001B[0m\u001B[90m━━━━━━━━━━━━━━━━━━\u001B[0m \u001B[32m7.7/14.4 MB\u001B[0m \u001B[31m19.7 MB/s\u001B[0m eta \u001B[36m0:00:01\u001B[0m\n\u001B[2K   \u001B[91m━━━━━━━━━━━━━━━━━━━━━━━━━━\u001B[0m\u001B[90m╺\u001B[0m\u001B[90m━━━━━━━━━━━━━\u001B[0m \u001B[32m9.5/14.4 MB\u001B[0m \u001B[31m22.2 MB/s\u001B[0m eta \u001B[36m0:00:01\u001B[0m\n\u001B[2K   \u001B[91m━━━━━━━━━━━━━━━━━━━━━━━━━━━━━━━━\u001B[0m\u001B[90m╺\u001B[0m\u001B[90m━━━━━━━\u001B[0m \u001B[32m11.6/14.4 MB\u001B[0m \u001B[31m32.5 MB/s\u001B[0m eta \u001B[36m0:00:01\u001B[0m\n\u001B[2K   \u001B[91m━━━━━━━━━━━━━━━━━━━━━━━━━━━━━━━━━━━━━━━\u001B[0m\u001B[91m╸\u001B[0m \u001B[32m14.2/14.4 MB\u001B[0m \u001B[31m48.1 MB/s\u001B[0m eta \u001B[36m0:00:01\u001B[0m\n\u001B[2K   \u001B[91m━━━━━━━━━━━━━━━━━━━━━━━━━━━━━━━━━━━━━━━\u001B[0m\u001B[91m╸\u001B[0m \u001B[32m14.4/14.4 MB\u001B[0m \u001B[31m48.0 MB/s\u001B[0m eta \u001B[36m0:00:01\u001B[0m\n\u001B[2K   \u001B[90m━━━━━━━━━━━━━━━━━━━━━━━━━━━━━━━━━━━━━━━━\u001B[0m \u001B[32m14.4/14.4 MB\u001B[0m \u001B[31m39.2 MB/s\u001B[0m eta \u001B[36m0:00:00\u001B[0m\n\u001B[?25hDownloading cmdstanpy-1.2.5-py3-none-any.whl (94 kB)\n\u001B[?25l   \u001B[90m━━━━━━━━━━━━━━━━━━━━━━━━━━━━━━━━━━━━━━━━\u001B[0m \u001B[32m0.0/94.5 kB\u001B[0m \u001B[31m?\u001B[0m eta \u001B[36m-:--:--\u001B[0m\n\u001B[2K   \u001B[90m━━━━━━━━━━━━━━━━━━━━━━━━━━━━━━━━━━━━━━━━\u001B[0m \u001B[32m94.5/94.5 kB\u001B[0m \u001B[31m10.7 MB/s\u001B[0m eta \u001B[36m0:00:00\u001B[0m\n\u001B[?25hDownloading holidays-0.70-py3-none-any.whl (903 kB)\n\u001B[?25l   \u001B[90m━━━━━━━━━━━━━━━━━━━━━━━━━━━━━━━━━━━━━━━━\u001B[0m \u001B[32m0.0/903.1 kB\u001B[0m \u001B[31m?\u001B[0m eta \u001B[36m-:--:--\u001B[0m\n\u001B[2K   \u001B[90m━━━━━━━━━━━━━━━━━━━━━━━━━━━━━━━━━━━━━━━━\u001B[0m \u001B[32m903.1/903.1 kB\u001B[0m \u001B[31m47.7 MB/s\u001B[0m eta \u001B[36m0:00:00\u001B[0m\n\u001B[?25hDownloading tqdm-4.67.1-py3-none-any.whl (78 kB)\n\u001B[?25l   \u001B[90m━━━━━━━━━━━━━━━━━━━━━━━━━━━━━━━━━━━━━━━━\u001B[0m \u001B[32m0.0/78.5 kB\u001B[0m \u001B[31m?\u001B[0m eta \u001B[36m-:--:--\u001B[0m\n\u001B[2K   \u001B[90m━━━━━━━━━━━━━━━━━━━━━━━━━━━━━━━━━━━━━━━━\u001B[0m \u001B[32m78.5/78.5 kB\u001B[0m \u001B[31m9.4 MB/s\u001B[0m eta \u001B[36m0:00:00\u001B[0m\n\u001B[?25hDownloading importlib_resources-6.5.2-py3-none-any.whl (37 kB)\nDownloading stanio-0.5.1-py3-none-any.whl (8.1 kB)\nInstalling collected packages: tqdm, stanio, importlib-resources, holidays, cmdstanpy, prophet\nSuccessfully installed cmdstanpy-1.2.5 holidays-0.70 importlib-resources-6.5.2 prophet-1.1.6 stanio-0.5.1 tqdm-4.67.1\n\u001B[43mNote: you may need to restart the kernel using %restart_python or dbutils.library.restartPython() to use updated packages.\u001B[0m\n"
     ]
    },
    {
     "output_type": "execute_result",
     "data": {
      "text/plain": [
       "DataFrame[]"
      ]
     },
     "execution_count": 6,
     "metadata": {},
     "output_type": "execute_result"
    }
   ],
   "source": [
    "%run ./config_and_imports"
   ]
  },
  {
   "cell_type": "code",
   "execution_count": 0,
   "metadata": {
    "application/vnd.databricks.v1+cell": {
     "cellMetadata": {},
     "inputWidgets": {},
     "nuid": "c83657fb-9fad-4fb5-8c45-ead12c4b26b4",
     "showTitle": false,
     "tableResultSettingsMap": {},
     "title": ""
    }
   },
   "outputs": [],
   "source": [
    "# Only run once for the first time\n",
    "# %run ./recreate_data"
   ]
  },
  {
   "cell_type": "code",
   "execution_count": 0,
   "metadata": {
    "application/vnd.databricks.v1+cell": {
     "cellMetadata": {},
     "inputWidgets": {},
     "nuid": "26888a67-0a8d-458e-a17e-740d88eee039",
     "showTitle": false,
     "tableResultSettingsMap": {},
     "title": ""
    }
   },
   "outputs": [],
   "source": []
  },
  {
   "cell_type": "markdown",
   "metadata": {
    "application/vnd.databricks.v1+cell": {
     "cellMetadata": {},
     "inputWidgets": {},
     "nuid": "385c4543-e107-4ecb-92c8-825294e0cd73",
     "showTitle": false,
     "tableResultSettingsMap": {},
     "title": ""
    }
   },
   "source": [
    "# 1. Load MACRO Data - Monthly"
   ]
  },
  {
   "cell_type": "code",
   "execution_count": 0,
   "metadata": {
    "application/vnd.databricks.v1+cell": {
     "cellMetadata": {},
     "inputWidgets": {},
     "nuid": "ec758b31-6726-427d-a68d-5d85f6c9fdfa",
     "showTitle": false,
     "tableResultSettingsMap": {},
     "title": ""
    }
   },
   "outputs": [],
   "source": [
    "columns=[\n",
    "        \"date\",\n",
    "        \"RGDPGrowth\",\n",
    "        \"NGDPGrowth\",\n",
    "        \"RDIGrowth\",\n",
    "        \"NDIGrowth\",\n",
    "        \"UnemploymentRate\",\n",
    "        \"CPIInflationRate\",\n",
    "        \"TreasuryRate3Mo\",\n",
    "        \"TreasuryYield5yr\",\n",
    "        \"TreasuryYield10yr\",\n",
    "        \"BBBCorpYield\",\n",
    "        \"MortgageRate\",\n",
    "        \"PrimeRate\",\n",
    "        \"DJTSIndex\",\n",
    "        \"HousePriceIndex\",\n",
    "        \"CREPriceIndex\",\n",
    "        \"MarketVolatilityIndex\"\n",
    "    ]\n",
    "\n",
    "macro = spark.read.csv(f\"/Volumes/{catalog}/{schema}/{volume}/{volume_folder_name}/historical_macro_data.csv\", header=False, sep=\"\\t\", inferSchema = True ).toDF(*columns)\n",
    "macro = macro.drop(*[\"RGDPGrowth\", \"NGDPGrowth\", \"RDIGrowth\", \"NDIGrowth\"])\n",
    "display(macro)"
   ]
  },
  {
   "cell_type": "code",
   "execution_count": 0,
   "metadata": {
    "application/vnd.databricks.v1+cell": {
     "cellMetadata": {},
     "inputWidgets": {},
     "nuid": "d134ae01-e8cf-4ab9-9dd8-ea838f39e8e9",
     "showTitle": false,
     "tableResultSettingsMap": {},
     "title": ""
    }
   },
   "outputs": [],
   "source": [
    "macro.selectExpr(\"min(date) as start_date\", \"max(date) as end_date\").show()"
   ]
  },
  {
   "cell_type": "markdown",
   "metadata": {
    "application/vnd.databricks.v1+cell": {
     "cellMetadata": {},
     "inputWidgets": {},
     "nuid": "71a26c99-867e-4888-b474-33f9ba7c920a",
     "showTitle": false,
     "tableResultSettingsMap": {},
     "title": ""
    }
   },
   "source": [
    "##### The macroeconomic data spans from January 2000 to October 2021."
   ]
  },
  {
   "cell_type": "code",
   "execution_count": 0,
   "metadata": {
    "application/vnd.databricks.v1+cell": {
     "cellMetadata": {},
     "inputWidgets": {},
     "nuid": "2f2a3926-c409-4e8e-b0dc-6f6ffe27bfc4",
     "showTitle": false,
     "tableResultSettingsMap": {},
     "title": ""
    }
   },
   "outputs": [],
   "source": [
    "macro.write.format(\"delta\").mode(\"overwrite\").saveAsTable(\"raw_macro\")"
   ]
  },
  {
   "cell_type": "markdown",
   "metadata": {
    "application/vnd.databricks.v1+cell": {
     "cellMetadata": {},
     "inputWidgets": {},
     "nuid": "aa633c84-ba53-4825-a838-a98475178b89",
     "showTitle": false,
     "tableResultSettingsMap": {},
     "title": ""
    }
   },
   "source": [
    "# 2. Load scenarios"
   ]
  },
  {
   "cell_type": "code",
   "execution_count": 0,
   "metadata": {
    "application/vnd.databricks.v1+cell": {
     "cellMetadata": {},
     "inputWidgets": {},
     "nuid": "7ae080d0-1fb2-417a-99e5-2d01e030aca1",
     "showTitle": false,
     "tableResultSettingsMap": {},
     "title": ""
    }
   },
   "outputs": [],
   "source": [
    "scenarios = spark.read.csv(f\"/Volumes/{catalog}/{schema}/{volume}/{volume_folder_name}/scenarios_fr.csv\", header=True, sep=\",\", inferSchema=True)\n",
    "\n",
    "display(scenarios)\n",
    "\n",
    "scenarios.write.format(\"delta\").mode(\"overwrite\").saveAsTable(\"raw_scenarios\")"
   ]
  },
  {
   "cell_type": "code",
   "execution_count": 0,
   "metadata": {
    "application/vnd.databricks.v1+cell": {
     "cellMetadata": {},
     "inputWidgets": {},
     "nuid": "09541b64-725f-4072-9d27-e72b1bfc1171",
     "showTitle": false,
     "tableResultSettingsMap": {},
     "title": ""
    }
   },
   "outputs": [],
   "source": [
    "raw_scenarios = spark.read.table(\"raw_scenarios\")\n",
    "\n",
    "# Fill in gaps between dates (it's quarterly -> becomes monthly and copies over data from month 1, 4, 7, 10)\n",
    "raw_scenarios_frmt = raw_scenarios.withColumn(\n",
    "    \"date_sequence\", \n",
    "    sequence(col(\"Date\"), add_months(col(\"Date\"), 2), F.expr(\"INTERVAL 1 MONTH\"))\n",
    ")\n",
    "\n",
    "raw_scenarios_frmt_2 = raw_scenarios_frmt.withColumn(\"date\", explode(col(\"date_sequence\"))).drop(\"date_sequence\")\n",
    "\n",
    "# Filter here so it doesn't create null values - since our prediction data is only 5y ahead\n",
    "raw_scenarios_rnmd = raw_scenarios_frmt_2.filter(\"date >= '2021-09-01'\").filter(\"date <= '2026-10-01'\")\n",
    "raw_scenarios_rnmd.display()\n",
    "raw_scenarios_rnmd.write.format(\"delta\").mode(\"overwrite\").saveAsTable(\"silver_scenarios\")"
   ]
  },
  {
   "cell_type": "code",
   "execution_count": 0,
   "metadata": {
    "application/vnd.databricks.v1+cell": {
     "cellMetadata": {},
     "inputWidgets": {},
     "nuid": "43589966-152b-416c-afc4-a862da9901b8",
     "showTitle": false,
     "tableResultSettingsMap": {},
     "title": ""
    }
   },
   "outputs": [],
   "source": [
    "raw_scenarios_rnmd.selectExpr(\"min(date) as start_date\", \"max(date) as end_date\").show()"
   ]
  },
  {
   "cell_type": "markdown",
   "metadata": {
    "application/vnd.databricks.v1+cell": {
     "cellMetadata": {},
     "inputWidgets": {},
     "nuid": "3c32d846-ee85-4fb8-b906-7e61dfe95048",
     "showTitle": false,
     "tableResultSettingsMap": {},
     "title": ""
    }
   },
   "source": [
    "# 3. Loan Peformance Data"
   ]
  },
  {
   "cell_type": "code",
   "execution_count": 0,
   "metadata": {
    "application/vnd.databricks.v1+cell": {
     "cellMetadata": {},
     "inputWidgets": {},
     "nuid": "9b8bd7f8-0db2-448d-83c4-5777af62f3b9",
     "showTitle": false,
     "tableResultSettingsMap": {},
     "title": ""
    }
   },
   "outputs": [],
   "source": [
    "columns = [\"quarter\", \"loan_id\", \"maturity_date\", \"credit_status\", \"date\", \"credit_score\", \"orig_UPB\", \"orig_LTV\", \"state\", \"loan_term\", \"current_UPB\", \"current_delinquency_status\", \"loan_age\", \"remain_months_maturity\", \"zero_UPB_code\", \"current_interest_rate\"]\n",
    "\n",
    "perf = spark.read.csv(f\"/Volumes/{catalog}/{schema}/{volume}/{volume_folder_name}/loans.csv\", sep=\"\\t\", inferSchema=True)\n",
    "\n",
    "perf = perf.toDF(*columns)\n",
    "\n",
    "perf.write.format(\"delta\").mode(\"overwrite\").option(\"mergeSchema\", \"true\").saveAsTable(\"raw_loan_perf\")"
   ]
  },
  {
   "cell_type": "code",
   "execution_count": 0,
   "metadata": {
    "application/vnd.databricks.v1+cell": {
     "cellMetadata": {},
     "inputWidgets": {},
     "nuid": "22975a9a-4178-42f4-bea6-1a3409798376",
     "showTitle": false,
     "tableResultSettingsMap": {},
     "title": ""
    }
   },
   "outputs": [],
   "source": [
    "perf.display()"
   ]
  },
  {
   "cell_type": "code",
   "execution_count": 0,
   "metadata": {
    "application/vnd.databricks.v1+cell": {
     "cellMetadata": {},
     "inputWidgets": {},
     "nuid": "14d1aa09-c30c-477e-bb7f-5a6d4aa7d3af",
     "showTitle": false,
     "tableResultSettingsMap": {},
     "title": ""
    }
   },
   "outputs": [],
   "source": [
    "perf.selectExpr(\"min(date) as start_date\", \"max(date) as end_date\").show()\n"
   ]
  },
  {
   "cell_type": "code",
   "execution_count": 0,
   "metadata": {
    "application/vnd.databricks.v1+cell": {
     "cellMetadata": {},
     "inputWidgets": {},
     "nuid": "a0d847cf-2ee3-4d95-a604-a6d2c3c9530f",
     "showTitle": false,
     "tableResultSettingsMap": {},
     "title": ""
    }
   },
   "outputs": [],
   "source": [
    "perf.count()"
   ]
  },
  {
   "cell_type": "code",
   "execution_count": 0,
   "metadata": {
    "application/vnd.databricks.v1+cell": {
     "cellMetadata": {},
     "inputWidgets": {},
     "nuid": "0f2a8e24-904f-47f9-aa49-0079895146cf",
     "showTitle": false,
     "tableResultSettingsMap": {},
     "title": ""
    }
   },
   "outputs": [],
   "source": [
    "loan_perf = spark.read.table(\"raw_loan_perf\")\n",
    "window_spec = Window.partitionBy(\"loan_id\").orderBy(\"date\")\n",
    "ranked_df = loan_perf.withColumn(\"rank\", rank().over(window_spec))\n",
    "result_df = ranked_df.withColumn(\"loan_age_since_last\", ranked_df[\"rank\"])\n",
    "result_df = result_df.drop(\"rank\")\n",
    "result_df = result_df.withColumn(\"date\", to_date(col(\"date\")))\n",
    "result_df = result_df.withColumn(\"maturity_date\", to_date(col(\"maturity_date\")))\n",
    "result_df = result_df.withColumn(\"date\", to_date(col(\"date\")))\n",
    "\n",
    "display(result_df)"
   ]
  },
  {
   "cell_type": "code",
   "execution_count": 0,
   "metadata": {
    "application/vnd.databricks.v1+cell": {
     "cellMetadata": {},
     "inputWidgets": {},
     "nuid": "bab66e14-4443-4bb7-9513-52923d0d128e",
     "showTitle": false,
     "tableResultSettingsMap": {},
     "title": ""
    }
   },
   "outputs": [],
   "source": [
    "result_df.drop(\n",
    "    *[\"zero_UPB_code\", \"state\", \"quarter\", \"maturity_data\"]\n",
    ").write.format(\"delta\").mode(\"overwrite\").option(\"mergeSchema\", \"true\").saveAsTable(\"silver_loan_perf\")"
   ]
  },
  {
   "cell_type": "markdown",
   "metadata": {
    "application/vnd.databricks.v1+cell": {
     "cellMetadata": {},
     "inputWidgets": {},
     "nuid": "25043a09-a151-49f2-9529-82d04f13fa92",
     "showTitle": false,
     "tableResultSettingsMap": {},
     "title": ""
    }
   },
   "source": [
    "### Logic to get only the loans that are active and where the last payment was 2021-09-01"
   ]
  },
  {
   "cell_type": "code",
   "execution_count": 0,
   "metadata": {
    "application/vnd.databricks.v1+cell": {
     "cellMetadata": {},
     "inputWidgets": {},
     "nuid": "832eaa31-8872-4f8d-bf04-4dfd1802a3d2",
     "showTitle": false,
     "tableResultSettingsMap": {},
     "title": ""
    }
   },
   "outputs": [],
   "source": [
    "query = \"\"\"select * \n",
    "        from silver_loan_perf \n",
    "        where loan_id in (\n",
    "            select loan_id \n",
    "            from (\n",
    "              select loan_id, \n",
    "                      date(max(date)) as max_date \n",
    "              from silver_loan_perf \n",
    "              group by loan_id) \n",
    "            where max_date = \"2021-09-01\")\"\"\"\n",
    "loans = spark.sql(query)\n",
    "\n",
    "loans.display()"
   ]
  },
  {
   "cell_type": "markdown",
   "metadata": {
    "application/vnd.databricks.v1+cell": {
     "cellMetadata": {},
     "inputWidgets": {},
     "nuid": "5a429e2a-4da8-4138-93b6-e7f4a41f07d1",
     "showTitle": false,
     "tableResultSettingsMap": {},
     "title": ""
    }
   },
   "source": [
    "### Loan Ammortization"
   ]
  },
  {
   "cell_type": "code",
   "execution_count": 0,
   "metadata": {
    "application/vnd.databricks.v1+cell": {
     "cellMetadata": {},
     "inputWidgets": {},
     "nuid": "08f7023e-838f-463a-ac3a-438d37898cbf",
     "showTitle": false,
     "tableResultSettingsMap": {},
     "title": ""
    }
   },
   "outputs": [],
   "source": [
    "from pyspark.sql.functions import max\n",
    "# get the last record for each loan (`loan_id`) based on date\n",
    "loans_last = loans.groupBy(\"loan_id\").agg(max(\"date\").alias(\"date\"))\n",
    "\n",
    "loans_last_alias = loans_last.alias(\"last\")\n",
    "loans_alias = loans.alias(\"loans\")\n",
    "\n",
    "result = loans_last_alias.join(\n",
    "    loans_alias, \n",
    "    (loans_last_alias.loan_id == loans_alias.loan_id) & \n",
    "    (loans_last_alias.date == loans_alias.date)\n",
    ").drop(loans_last_alias.date).drop(loans_last_alias.loan_id)\n",
    "\n",
    "result.display()"
   ]
  },
  {
   "cell_type": "code",
   "execution_count": 0,
   "metadata": {
    "application/vnd.databricks.v1+cell": {
     "cellMetadata": {},
     "inputWidgets": {},
     "nuid": "6fd30199-50db-4a02-b124-c0d16db8370b",
     "showTitle": false,
     "tableResultSettingsMap": {},
     "title": ""
    }
   },
   "outputs": [],
   "source": [
    "result.write.mode(\"overwrite\") \\\n",
    "    .option(\"mergeSchema\", \"true\") \\\n",
    "    .saveAsTable(\"silver_last_loan_payment\")"
   ]
  },
  {
   "cell_type": "markdown",
   "metadata": {
    "application/vnd.databricks.v1+cell": {
     "cellMetadata": {},
     "inputWidgets": {},
     "nuid": "55b9510c-4b59-4c89-b01b-ff650f0fa682",
     "showTitle": false,
     "tableResultSettingsMap": {},
     "title": ""
    }
   },
   "source": [
    "## Ammortization calculation"
   ]
  },
  {
   "cell_type": "code",
   "execution_count": 0,
   "metadata": {
    "application/vnd.databricks.v1+cell": {
     "cellMetadata": {},
     "inputWidgets": {},
     "nuid": "ed2006c2-8079-4467-a200-472fd6c490b1",
     "showTitle": false,
     "tableResultSettingsMap": {},
     "title": ""
    }
   },
   "outputs": [],
   "source": [
    "df_silver_payment = spark.read.table(\"silver_last_loan_payment\")"
   ]
  },
  {
   "cell_type": "code",
   "execution_count": 0,
   "metadata": {
    "application/vnd.databricks.v1+cell": {
     "cellMetadata": {},
     "inputWidgets": {},
     "nuid": "0971a71c-4cd7-4dc5-86cd-0ea9e779aa38",
     "showTitle": false,
     "tableResultSettingsMap": {},
     "title": ""
    }
   },
   "outputs": [],
   "source": [
    "result = df_silver_payment.withColumn(\n",
    "    \"date_sequence\", \n",
    "    sequence(col(\"date\"), col(\"maturity_date\"), F.expr(\"INTERVAL 1 MONTH\"))\n",
    ")\n",
    "\n",
    "# Magic to fill in the blanks since our data was by quarter\n",
    "result = result.withColumn(\"date\", explode(col(\"date_sequence\"))).drop(\"date_sequence\")\n",
    "result = result.drop(*[\"loan_age_since_last\"])\n",
    "result.display()"
   ]
  },
  {
   "cell_type": "markdown",
   "metadata": {
    "application/vnd.databricks.v1+cell": {
     "cellMetadata": {},
     "inputWidgets": {},
     "nuid": "859fcdf1-187c-45af-a10d-ea5078f592da",
     "showTitle": false,
     "tableResultSettingsMap": {},
     "title": ""
    }
   },
   "source": [
    "### Filtering Active Loans\n",
    "\n",
    "This line filters the `result` DataFrame to keep only the loans with:\n",
    "\n",
    "1. **Positive outstanding balance (`current_UPB > 0`)**.\n",
    "2. **More than 1 month left to maturity (`remain_months_maturity > 1`)**.\n"
   ]
  },
  {
   "cell_type": "code",
   "execution_count": 0,
   "metadata": {
    "application/vnd.databricks.v1+cell": {
     "cellMetadata": {},
     "inputWidgets": {},
     "nuid": "0da92a8f-c9f3-487b-a586-24d72dd61864",
     "showTitle": false,
     "tableResultSettingsMap": {},
     "title": ""
    }
   },
   "outputs": [],
   "source": [
    "result_2 = result.filter(col(\"current_UPB\") > 0).filter(col(\"remain_months_maturity\") > 1)"
   ]
  },
  {
   "cell_type": "code",
   "execution_count": 0,
   "metadata": {
    "application/vnd.databricks.v1+cell": {
     "cellMetadata": {},
     "inputWidgets": {},
     "nuid": "25ec685b-120b-46ca-8fa1-fad313b7e035",
     "showTitle": false,
     "tableResultSettingsMap": {},
     "title": ""
    }
   },
   "outputs": [],
   "source": [
    "result_2 = result_2.withColumn(\"date\", to_date(col(\"date\"), \"yyyy-MM-dd\"))\n",
    "\n",
    "window_spec = Window.partitionBy(\"loan_id\").orderBy(\"date\")\n",
    "ranked_df = result_2.withColumn(\"rank\", rank().over(window_spec))\n",
    "result_df = ranked_df.withColumn(\"loan_age_since_last\", col(\"rank\"))\n",
    "result_df = result_df.drop(\"rank\")\n",
    "\n",
    "display(result_df)"
   ]
  },
  {
   "cell_type": "code",
   "execution_count": 0,
   "metadata": {
    "application/vnd.databricks.v1+cell": {
     "cellMetadata": {},
     "inputWidgets": {},
     "nuid": "8b5d0eeb-7414-47ed-872f-9fb655e2bbc5",
     "showTitle": false,
     "tableResultSettingsMap": {},
     "title": ""
    }
   },
   "outputs": [],
   "source": [
    "# Calculate the required variables for ammortization\n",
    "\n",
    "result = result_df.withColumn(\n",
    "    \"rate_per_period\", (col(\"current_interest_rate\") / 100) / 12\n",
    ").withColumn(\n",
    "    \"loan_age_last\", col(\"loan_age\") + col(\"loan_age_since_last\") - 1\n",
    ").withColumn(\n",
    "    \"remain_month_maturity_last\", col(\"loan_term\") - col(\"loan_age_last\")\n",
    ").withColumn(\n",
    "    \"mortgage_payment\", \n",
    "    (col(\"rate_per_period\") * col(\"current_UPB\")) / (1 - pow(1 + col(\"rate_per_period\"), col(\"loan_term\") * -1))\n",
    ").withColumn(\n",
    "    \"remaining_balance_num\", \n",
    "    col(\"current_UPB\") * pow(1 + col(\"rate_per_period\"), col(\"loan_age_last\") - 1)\n",
    ").withColumn(\n",
    "    \"remaining_balance_den\", \n",
    "    col(\"mortgage_payment\") * (pow(1 + col(\"rate_per_period\"), col(\"loan_age_last\") - 1) - 1) / col(\"rate_per_period\")\n",
    ").withColumn(\n",
    "    \"remaining_balance_est\", col(\"remaining_balance_num\") - col(\"remaining_balance_den\")\n",
    ").withColumn(\n",
    "    \"curr_LTV\", round(( 1 - (col(\"remaining_balance_est\") / col(\"orig_UPB\"))), 3 )\n",
    ")\n",
    "result.display()"
   ]
  },
  {
   "cell_type": "code",
   "execution_count": 0,
   "metadata": {
    "application/vnd.databricks.v1+cell": {
     "cellMetadata": {},
     "inputWidgets": {},
     "nuid": "873f5e06-21a9-490d-a8f4-9d8730b6dcda",
     "showTitle": false,
     "tableResultSettingsMap": {},
     "title": ""
    }
   },
   "outputs": [],
   "source": [
    "result.count()"
   ]
  },
  {
   "cell_type": "code",
   "execution_count": 0,
   "metadata": {
    "application/vnd.databricks.v1+cell": {
     "cellMetadata": {},
     "inputWidgets": {},
     "nuid": "4d961609-4e0e-4457-8837-e874d11d671e",
     "showTitle": false,
     "tableResultSettingsMap": {},
     "title": ""
    }
   },
   "outputs": [],
   "source": [
    "result.write.mode(\"overwrite\").option(\"mergeSchema\", \"true\").saveAsTable(\"gold_loan_payment\")"
   ]
  },
  {
   "cell_type": "markdown",
   "metadata": {
    "application/vnd.databricks.v1+cell": {
     "cellMetadata": {},
     "inputWidgets": {},
     "nuid": "69b04d6b-aa36-4887-b8f0-14f5fe560cb3",
     "showTitle": false,
     "tableResultSettingsMap": {},
     "title": ""
    }
   },
   "source": [
    "# Run Forecasting (not needed everytime)\n"
   ]
  },
  {
   "cell_type": "code",
   "execution_count": 0,
   "metadata": {
    "application/vnd.databricks.v1+cell": {
     "cellMetadata": {},
     "inputWidgets": {},
     "nuid": "07d25d0b-cb99-4c6b-bf02-35642843a770",
     "showTitle": false,
     "tableResultSettingsMap": {},
     "title": ""
    }
   },
   "outputs": [],
   "source": [
    "# dbutils.notebook.run(\"2. Modeling - Forecasting\", 10000)"
   ]
  },
  {
   "cell_type": "markdown",
   "metadata": {
    "application/vnd.databricks.v1+cell": {
     "cellMetadata": {},
     "inputWidgets": {},
     "nuid": "717c1bed-afa0-44c0-8333-9507dcf10975",
     "showTitle": false,
     "tableResultSettingsMap": {},
     "title": ""
    }
   },
   "source": [
    "# Merge Loan data with forecasted macroeconomic Data"
   ]
  },
  {
   "cell_type": "code",
   "execution_count": 0,
   "metadata": {
    "application/vnd.databricks.v1+cell": {
     "cellMetadata": {},
     "inputWidgets": {},
     "nuid": "3c4e19ea-8da9-4e49-b4dd-858c8d85405a",
     "showTitle": false,
     "tableResultSettingsMap": {},
     "title": ""
    }
   },
   "outputs": [],
   "source": [
    "gold_loan = spark.read.table(\"gold_loan_payment\")\n",
    "macro = spark.read.table(\"gold_macro_predictions\")"
   ]
  },
  {
   "cell_type": "code",
   "execution_count": 0,
   "metadata": {
    "application/vnd.databricks.v1+cell": {
     "cellMetadata": {},
     "inputWidgets": {},
     "nuid": "77c22457-b7d0-4332-b52c-1ee32ea3d308",
     "showTitle": false,
     "tableResultSettingsMap": {},
     "title": ""
    }
   },
   "outputs": [],
   "source": [
    "macro = macro.withColumn(\"date\", to_date(col(\"ds\"), \"yyyy-MM-dd\"))\n",
    "macro = macro.drop(col(\"ds\"))"
   ]
  },
  {
   "cell_type": "code",
   "execution_count": 0,
   "metadata": {
    "application/vnd.databricks.v1+cell": {
     "cellMetadata": {},
     "inputWidgets": {},
     "nuid": "2473f0a3-0d91-4805-966a-f1a5ae045273",
     "showTitle": false,
     "tableResultSettingsMap": {},
     "title": ""
    }
   },
   "outputs": [],
   "source": [
    "macro.selectExpr(\"min(date) as start_date\", \"max(date) as end_date\").show()"
   ]
  },
  {
   "cell_type": "code",
   "execution_count": 0,
   "metadata": {
    "application/vnd.databricks.v1+cell": {
     "cellMetadata": {},
     "inputWidgets": {},
     "nuid": "9486c7e6-927b-48ff-bd6a-6684bf2d072d",
     "showTitle": false,
     "tableResultSettingsMap": {},
     "title": ""
    }
   },
   "outputs": [],
   "source": [
    "# join gold_loan and macro\n",
    "gold_loan_macro = gold_loan.join(macro, gold_loan.date == macro.date, \"left\").drop(macro.date)\n",
    "gold_loan_macro.display()"
   ]
  },
  {
   "cell_type": "code",
   "execution_count": 0,
   "metadata": {
    "application/vnd.databricks.v1+cell": {
     "cellMetadata": {},
     "inputWidgets": {},
     "nuid": "0efab868-6438-4718-9d43-5a1a94c2d979",
     "showTitle": false,
     "tableResultSettingsMap": {},
     "title": ""
    }
   },
   "outputs": [],
   "source": []
  },
  {
   "cell_type": "code",
   "execution_count": 0,
   "metadata": {
    "application/vnd.databricks.v1+cell": {
     "cellMetadata": {},
     "inputWidgets": {},
     "nuid": "704c0330-96c0-4be2-a0db-888a56b361a0",
     "showTitle": false,
     "tableResultSettingsMap": {},
     "title": ""
    }
   },
   "outputs": [],
   "source": [
    "save_gold_macro = gold_loan_macro.drop(*[\"loan_age_last\", \"credit_status\", \"loan_age_since_last\", \"loan_age\", \"rate_per_period\", \"current_UPB\", \"remain_months_maturity\", \"maturity_data\"])\n"
   ]
  },
  {
   "cell_type": "markdown",
   "metadata": {
    "application/vnd.databricks.v1+cell": {
     "cellMetadata": {},
     "inputWidgets": {},
     "nuid": "e4b06c62-3cf2-4a66-8a04-56508d5899c6",
     "showTitle": false,
     "tableResultSettingsMap": {},
     "title": ""
    }
   },
   "source": [
    "### Default Binary Flag Creation\n",
    "\n",
    "A binary flag is created to indicate whether a loan is in default based on the `current_delinquency_status`. \n",
    "\n",
    "- **Logic**:\n",
    "  - If `current_delinquency_status` is greater than 0, the loan is flagged as default (`1`).\n",
    "  - If it is 0 or less, the loan is not in default (`0`).\n",
    "\n",
    "This new `default` column is used for CECL modeling to predict the likelihood of default.\n"
   ]
  },
  {
   "cell_type": "code",
   "execution_count": 0,
   "metadata": {
    "application/vnd.databricks.v1+cell": {
     "cellMetadata": {},
     "inputWidgets": {},
     "nuid": "98565ecc-e04a-43db-b3f5-e44a93ac3034",
     "showTitle": false,
     "tableResultSettingsMap": {},
     "title": ""
    }
   },
   "outputs": [],
   "source": [
    "# Model default variable binary\n",
    "save_gold_macro = save_gold_macro.withColumn(\"default\", when(col(\"current_delinquency_status\") > 0, 1).otherwise(0)).drop(*[\"current_delinquency_status\"])"
   ]
  },
  {
   "cell_type": "code",
   "execution_count": 0,
   "metadata": {
    "application/vnd.databricks.v1+cell": {
     "cellMetadata": {},
     "inputWidgets": {},
     "nuid": "e0a4d678-3a7c-40e8-81b1-40e1d2f4c8c9",
     "showTitle": false,
     "tableResultSettingsMap": {},
     "title": ""
    }
   },
   "outputs": [],
   "source": [
    "# # get the first record for each loan (`loan_id`) based on date\n",
    "# # loans_last = save_gold_macro.groupBy(\"loan_id\").agg(min(\"date\").alias(\"date\"))\n",
    "\n",
    "# loans_last_alias = loans_last.alias(\"last\")\n",
    "# loans_alias = save_gold_macro.alias(\"loans\")\n",
    "\n",
    "# result = loans_last_alias.join(\n",
    "#     loans_alias, \n",
    "#     (loans_last_alias.loan_id == loans_alias.loan_id) & \n",
    "#     (loans_last_alias.date == loans_alias.date)\n",
    "# ).drop(loans_last_alias.date).drop(loans_last_alias.loan_id)\n",
    "\n",
    "# result.display()"
   ]
  },
  {
   "cell_type": "markdown",
   "metadata": {
    "application/vnd.databricks.v1+cell": {
     "cellMetadata": {},
     "inputWidgets": {},
     "nuid": "57158182-1fd1-4470-9227-c2ff34084347",
     "showTitle": false,
     "tableResultSettingsMap": {},
     "title": ""
    }
   },
   "source": [
    "### Joining loan data with Macro Data"
   ]
  },
  {
   "cell_type": "code",
   "execution_count": 0,
   "metadata": {
    "application/vnd.databricks.v1+cell": {
     "cellMetadata": {},
     "inputWidgets": {},
     "nuid": "4d6ebcf9-b66c-4c10-882b-a84458ff947b",
     "showTitle": false,
     "tableResultSettingsMap": {},
     "title": ""
    }
   },
   "outputs": [],
   "source": [
    "from pyspark.sql.functions import to_date, col, when\n",
    "\n",
    "macro = spark.read.table(\"gold_macro_predictions\")\n",
    "macro = macro.withColumn(\"date\", to_date(col(\"ds\"), \"yyyy-MM-dd\")).drop(\"ds\")\n",
    "\n",
    "gold_loan_macro = gold_loan.join(macro, gold_loan.date == macro.date, \"left\").drop(macro.date)\n",
    "display(gold_loan_macro)\n",
    "\n",
    "save_gold_macro = gold_loan_macro.drop(*[\"loan_age_last\", \"credit_status\", \"loan_age_since_last\", \"loan_age\", \"rate_per_period\", \"current_UPB\", \"remain_months_maturity\", \"maturity_data\"])\n",
    "save_gold_macro = save_gold_macro.withColumn(\"default\", when(col(\"current_delinquency_status\") > 0, 1).otherwise(0)).drop(\"current_delinquency_status\")\n",
    "\n",
    "save_gold_macro.write.mode(\"overwrite\").option(\"mergeSchema\", \"true\").saveAsTable(\"gold_loan_macro_features\")"
   ]
  }
 ],
 "metadata": {
  "application/vnd.databricks.v1+notebook": {
   "computePreferences": null,
   "dashboards": [],
   "environmentMetadata": null,
   "inputWidgetPreferences": null,
   "language": "python",
   "notebookMetadata": {
    "pythonIndentUnit": 2
   },
   "notebookName": "1. Data Loading and Processing",
   "widgets": {}
  },
  "language_info": {
   "name": "python"
  }
 },
 "nbformat": 4,
 "nbformat_minor": 0
}